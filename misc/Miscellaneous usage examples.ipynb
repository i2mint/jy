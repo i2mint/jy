{
 "cells": [
  {
   "cell_type": "code",
   "execution_count": 1,
   "id": "8a7e19bd",
   "metadata": {
    "ExecuteTime": {
     "end_time": "2023-01-31T09:24:58.442882Z",
     "start_time": "2023-01-31T09:24:58.415184Z"
    }
   },
   "outputs": [],
   "source": [
    "%load_ext autoreload\n",
    "%autoreload 2"
   ]
  },
  {
   "cell_type": "markdown",
   "id": "ae52f9b9",
   "metadata": {},
   "source": [
    "# Parsing function signatures out of js code"
   ]
  },
  {
   "cell_type": "code",
   "execution_count": 2,
   "id": "72777e66",
   "metadata": {
    "ExecuteTime": {
     "end_time": "2023-01-31T09:25:00.259569Z",
     "start_time": "2023-01-31T09:24:59.409688Z"
    },
    "scrolled": true
   },
   "outputs": [
    {
     "data": {
      "text/plain": [
       "['test01']"
      ]
     },
     "execution_count": 2,
     "metadata": {},
     "output_type": "execute_result"
    }
   ],
   "source": [
    "from jy.util import js_files\n",
    "\n",
    "list(js_files)"
   ]
  },
  {
   "cell_type": "code",
   "execution_count": 3,
   "id": "407193f0",
   "metadata": {
    "ExecuteTime": {
     "end_time": "2023-01-31T09:25:01.213056Z",
     "start_time": "2023-01-31T09:25:01.161266Z"
    }
   },
   "outputs": [],
   "source": [
    "test01_js_code = js_files['test01']"
   ]
  },
  {
   "cell_type": "code",
   "execution_count": 4,
   "id": "86a55712",
   "metadata": {
    "ExecuteTime": {
     "end_time": "2023-01-31T09:25:01.909552Z",
     "start_time": "2023-01-31T09:25:01.879316Z"
    }
   },
   "outputs": [],
   "source": [
    "from jy import add_js_funcs\n",
    "\n",
    "js = add_js_funcs(test01_js_code)"
   ]
  },
  {
   "cell_type": "code",
   "execution_count": 5,
   "id": "64d5394d",
   "metadata": {
    "ExecuteTime": {
     "end_time": "2023-01-31T09:25:04.082365Z",
     "start_time": "2023-01-31T09:25:04.062185Z"
    }
   },
   "outputs": [
    {
     "data": {
      "text/plain": [
       "['add_one', 'bar', 'foo', 'obj', 'prop', 'with_arrow_func', 'with_let']"
      ]
     },
     "execution_count": 5,
     "metadata": {},
     "output_type": "execute_result"
    }
   ],
   "source": [
    "# js has two methods called bar and foo\n",
    "sorted([x for x in dir(js) if not x.startswith('_')])"
   ]
  },
  {
   "cell_type": "code",
   "execution_count": 6,
   "id": "c46d5e82",
   "metadata": {
    "ExecuteTime": {
     "end_time": "2023-01-31T09:25:05.841194Z",
     "start_time": "2023-01-31T09:25:05.826679Z"
    }
   },
   "outputs": [
    {
     "data": {
      "text/plain": [
       "<Sig (a, b='hello', c=3)>"
      ]
     },
     "execution_count": 6,
     "metadata": {},
     "output_type": "execute_result"
    }
   ],
   "source": [
    "# they mirror the signatures of the underlying JS functions\n",
    "from dol.signatures import Sig\n",
    "Sig(js.foo)"
   ]
  },
  {
   "cell_type": "code",
   "execution_count": 7,
   "id": "d249fc3a",
   "metadata": {
    "ExecuteTime": {
     "end_time": "2023-01-31T09:25:06.577332Z",
     "start_time": "2023-01-31T09:25:06.553812Z"
    }
   },
   "outputs": [
    {
     "data": {
      "text/plain": [
       "<Sig (green, eggs='food', and=True, ham=4)>"
      ]
     },
     "execution_count": 7,
     "metadata": {},
     "output_type": "execute_result"
    }
   ],
   "source": [
    "Sig(js.bar)"
   ]
  },
  {
   "cell_type": "code",
   "execution_count": 8,
   "id": "f4cbacf4",
   "metadata": {
    "ExecuteTime": {
     "end_time": "2023-01-31T09:25:07.322945Z",
     "start_time": "2023-01-31T09:25:07.299231Z"
    }
   },
   "outputs": [
    {
     "data": {
      "text/plain": [
       "'foo(1, \"hi\", 5)'"
      ]
     },
     "execution_count": 8,
     "metadata": {},
     "output_type": "execute_result"
    }
   ],
   "source": [
    "# Calling this function returns a string (the code to call the underlying JS function)\n",
    "js.foo(1, 'hi', 5)"
   ]
  },
  {
   "cell_type": "code",
   "execution_count": 9,
   "id": "9346a549",
   "metadata": {
    "ExecuteTime": {
     "end_time": "2023-01-31T09:25:07.776931Z",
     "start_time": "2023-01-31T09:25:07.750336Z"
    }
   },
   "outputs": [
    {
     "data": {
      "text/plain": [
       "'func.assigned.to.nested.prop(\"up\")'"
      ]
     },
     "execution_count": 9,
     "metadata": {},
     "output_type": "execute_result"
    }
   ],
   "source": [
    "# Notice that you can use positional or keyword arguments\n",
    "# Also, notice that though \"pop\" is the name of js's attribute, \n",
    "# the function call string does indeed use the original full reference: \n",
    "# `func.assigned.to.nested.prop`\n",
    "js.prop('up')"
   ]
  },
  {
   "cell_type": "code",
   "execution_count": 10,
   "id": "df231b6c",
   "metadata": {
    "ExecuteTime": {
     "end_time": "2023-01-31T09:25:08.294111Z",
     "start_time": "2023-01-31T09:25:08.272204Z"
    }
   },
   "outputs": [
    {
     "data": {
      "text/plain": [
       "'bar(42, \"food\", true, 4)'"
      ]
     },
     "execution_count": 10,
     "metadata": {},
     "output_type": "execute_result"
    }
   ],
   "source": [
    "# Notice that the python (signature) defaults are applied before translating to JS\n",
    "js.bar(42)"
   ]
  },
  {
   "cell_type": "code",
   "execution_count": 11,
   "id": "55b88218",
   "metadata": {
    "ExecuteTime": {
     "end_time": "2023-01-31T09:25:09.017214Z",
     "start_time": "2023-01-31T09:25:08.991645Z"
    }
   },
   "outputs": [
    {
     "data": {
      "text/plain": [
       "'bar(42)'"
      ]
     },
     "execution_count": 11,
     "metadata": {},
     "output_type": "execute_result"
    }
   ],
   "source": [
    "# You can opt not to do this by specifying apply_defaults=False\n",
    "# This will result in only injecting those inputs you specify in the js call string, \n",
    "# which will have the effect of letting JS apply it's defaults, what ever they are\n",
    "alt_js = add_js_funcs(test01_js_code, apply_defaults=False)\n",
    "alt_js.bar(42)"
   ]
  },
  {
   "cell_type": "code",
   "execution_count": 15,
   "id": "0712f810",
   "metadata": {
    "ExecuteTime": {
     "end_time": "2022-12-31T15:33:51.069681Z",
     "start_time": "2022-12-31T15:33:51.060540Z"
    }
   },
   "outputs": [
    {
     "data": {
      "text/plain": [
       "[('add_five', [{'name': 'x'}])]"
      ]
     },
     "execution_count": 15,
     "metadata": {},
     "output_type": "execute_result"
    }
   ],
   "source": [
    "from jy.js_parse import *\n",
    "\n",
    "js_code = 'const add_five = (x) => x + 5'\n",
    "t = parse_js_code('let add_five = (x) => x + 5')\n",
    "list(extract_func_name_and_params(t.body[0]))"
   ]
  },
  {
   "cell_type": "code",
   "execution_count": 21,
   "id": "75680dcb",
   "metadata": {
    "ExecuteTime": {
     "end_time": "2022-12-31T16:16:23.876149Z",
     "start_time": "2022-12-31T16:16:23.863212Z"
    }
   },
   "outputs": [
    {
     "data": {
      "text/plain": [
       "[1, 2, 3]"
      ]
     },
     "execution_count": 21,
     "metadata": {},
     "output_type": "execute_result"
    }
   ],
   "source": [
    "from itertools import islice\n",
    "\n",
    "list(islice([1,2,3], None))"
   ]
  },
  {
   "cell_type": "code",
   "execution_count": 23,
   "id": "6870ef2b",
   "metadata": {
    "ExecuteTime": {
     "end_time": "2022-12-31T16:42:19.387627Z",
     "start_time": "2022-12-31T16:42:19.372109Z"
    }
   },
   "outputs": [
    {
     "data": {
      "text/plain": [
       "[('foo',\n",
       "  [{'name': 'a'},\n",
       "   {'name': 'b', 'default': 'hello'},\n",
       "   {'name': 'c', 'default': 3}]),\n",
       " ('bar', [{'name': 'y'}, {'name': 'z', 'default': 1}]),\n",
       " ('func.assigned.to.nested.prop', [{'name': 'x'}])]"
      ]
     },
     "execution_count": 23,
     "metadata": {},
     "output_type": "execute_result"
    }
   ],
   "source": [
    "js_code = \"\"\"\n",
    "function foo(a, b=\"hello\", c= 3) {\n",
    "    return a + b.length * c\n",
    "}\n",
    "\n",
    "const bar = (y, z = 1) => y * z\n",
    "\n",
    "// function assigned to a nested property\n",
    "func.assigned.to.nested.prop = function (x) {\n",
    "    return x + 3\n",
    "}\n",
    "\n",
    "\"\"\"\n",
    "\n",
    "list(func_name_and_params_pairs(js_code))"
   ]
  },
  {
   "cell_type": "code",
   "execution_count": null,
   "id": "0f6fc531",
   "metadata": {},
   "outputs": [],
   "source": []
  },
  {
   "cell_type": "markdown",
   "source": [
    "# Misc tests"
   ],
   "metadata": {
    "collapsed": false
   }
  },
  {
   "cell_type": "code",
   "execution_count": 4,
   "outputs": [],
   "source": [
    "import jy\n",
    "from functools import partial\n",
    "from jy.bridge import _js_func_call, mk_py_binder_func"
   ],
   "metadata": {
    "collapsed": false
   }
  },
  {
   "cell_type": "code",
   "execution_count": 13,
   "outputs": [
    {
     "data": {
      "text/plain": "functools.partial(<function _js_func_call at 0x1064204c0>, __sig=<Sig (a, b, c=True)>, __func_call_template='foo({inputs})', __value_trans=<function dflt_py_to_js_value_trans at 0x114514280>, __apply_defaults=True)"
     },
     "execution_count": 13,
     "metadata": {},
     "output_type": "execute_result"
    }
   ],
   "source": [
    "import i2\n",
    "\n",
    "# _js_func_call('foo', 1, 'hi', 5)\n",
    "ff = lambda a, b, c=True: a + b * c\n",
    "params = i2.Sig(ff).params\n",
    "f = mk_py_binder_func('foo', params)\n",
    "f"
   ],
   "metadata": {
    "collapsed": false
   }
  },
  {
   "cell_type": "code",
   "execution_count": 17,
   "outputs": [
    {
     "data": {
      "text/plain": "'foo(1, \"hio\", true)'"
     },
     "execution_count": 17,
     "metadata": {},
     "output_type": "execute_result"
    }
   ],
   "source": [
    "f(1, 'hio')"
   ],
   "metadata": {
    "collapsed": false
   }
  },
  {
   "cell_type": "code",
   "execution_count": null,
   "outputs": [],
   "source": [],
   "metadata": {
    "collapsed": false
   }
  },
  {
   "cell_type": "code",
   "execution_count": null,
   "outputs": [],
   "source": [],
   "metadata": {
    "collapsed": false
   }
  }
 ],
 "metadata": {
  "kernelspec": {
   "display_name": "Python 3 (ipykernel)",
   "language": "python",
   "name": "python3"
  },
  "language_info": {
   "codemirror_mode": {
    "name": "ipython",
    "version": 3
   },
   "file_extension": ".py",
   "mimetype": "text/x-python",
   "name": "python",
   "nbconvert_exporter": "python",
   "pygments_lexer": "ipython3",
   "version": "3.10.8"
  },
  "toc": {
   "base_numbering": 1,
   "nav_menu": {},
   "number_sections": true,
   "sideBar": true,
   "skip_h1_title": false,
   "title_cell": "Table of Contents",
   "title_sidebar": "Contents",
   "toc_cell": false,
   "toc_position": {},
   "toc_section_display": true,
   "toc_window_display": false
  }
 },
 "nbformat": 4,
 "nbformat_minor": 5
}
