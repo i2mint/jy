{
 "cells": [
  {
   "cell_type": "code",
   "execution_count": null,
   "id": "0f6fc531",
   "metadata": {},
   "outputs": [],
   "source": []
  },
  {
   "attachments": {},
   "cell_type": "markdown",
   "id": "8e5252a8",
   "metadata": {
    "collapsed": false
   },
   "source": [
    "# Calling JS mermaid from python, in a notebook"
   ]
  },
  {
   "attachments": {},
   "cell_type": "markdown",
   "id": "2528dd28",
   "metadata": {},
   "source": [
    "## Demo"
   ]
  },
  {
   "cell_type": "code",
   "execution_count": 1,
   "id": "6dcb4345",
   "metadata": {},
   "outputs": [],
   "source": [
    "import uuid\n",
    "\n",
    "_mermaid_display_template = \"\"\"\n",
    "<script type=\"module\">\n",
    "    async function initMermaid_{unique_id}() {{\n",
    "        const module = await import('https://cdn.jsdelivr.net/npm/mermaid@10/dist/mermaid.esm.min.mjs');\n",
    "        const mermaid = module.default;\n",
    "        mermaid.initialize({{ startOnLoad: true }});\n",
    "        mermaid.init(undefined, document.getElementById('mermaid_{unique_id}'));\n",
    "    }}\n",
    "    \n",
    "    if (document.readyState === 'loading') {{\n",
    "        document.addEventListener('DOMContentLoaded', initMermaid_{unique_id});\n",
    "    }} else {{\n",
    "        initMermaid_{unique_id}();\n",
    "    }}\n",
    "</script>\n",
    "\n",
    "<pre class=\"mermaid\" id=\"mermaid_{unique_id}\">\n",
    "    {code}\n",
    "</pre>\n",
    "\"\"\"\n",
    "\n",
    "\n",
    "def mermaid(code: str, *, prefix='graph', suffix='', egress=None):\n",
    "    if egress is None:\n",
    "        egress = lambda x: x\n",
    "    code_ = f\"{prefix}\\n{code}\\n{suffix}\"\n",
    "    unique_id = str(uuid.uuid4()).replace(\"-\", \"\")\n",
    "    html = _mermaid_display_template.format(code=code_, unique_id=unique_id)\n",
    "    return egress(html)\n"
   ]
  },
  {
   "cell_type": "code",
   "execution_count": 2,
   "id": "5e7dce3e",
   "metadata": {},
   "outputs": [],
   "source": [
    "code = \"A --> B --> C\""
   ]
  },
  {
   "cell_type": "code",
   "execution_count": 5,
   "id": "4d864839",
   "metadata": {},
   "outputs": [],
   "source": [
    "html = mermaid(code)\n",
    "assert isinstance(html, str)\n",
    "# print(html)"
   ]
  },
  {
   "attachments": {},
   "cell_type": "markdown",
   "id": "b35cbe10",
   "metadata": {},
   "source": [
    "You can define an `egress` to tell the function to return the result of `egress(html)` instead. This is useful, for example, to save the html, or wrap it in an object that can render it. For example, `IPython.display.HTML` will wrap it in a displayable `HTML` instance."
   ]
  },
  {
   "cell_type": "code",
   "execution_count": 6,
   "metadata": {
    "collapsed": false
   },
   "outputs": [
    {
     "data": {
      "text/html": [
       "\n",
       "<script type=\"module\">\n",
       "    async function initMermaid_573207c5c233473d8f3645020926f27b() {\n",
       "        const module = await import('https://cdn.jsdelivr.net/npm/mermaid@10/dist/mermaid.esm.min.mjs');\n",
       "        const mermaid = module.default;\n",
       "        mermaid.initialize({ startOnLoad: true });\n",
       "        mermaid.init(undefined, document.getElementById('mermaid_573207c5c233473d8f3645020926f27b'));\n",
       "    }\n",
       "    \n",
       "    if (document.readyState === 'loading') {\n",
       "        document.addEventListener('DOMContentLoaded', initMermaid_573207c5c233473d8f3645020926f27b);\n",
       "    } else {\n",
       "        initMermaid_573207c5c233473d8f3645020926f27b();\n",
       "    }\n",
       "</script>\n",
       "\n",
       "<pre class=\"mermaid\" id=\"mermaid_573207c5c233473d8f3645020926f27b\">\n",
       "    graph\n",
       "A --> B --> C\n",
       "\n",
       "</pre>\n"
      ],
      "text/plain": [
       "<IPython.core.display.HTML object>"
      ]
     },
     "execution_count": 6,
     "metadata": {},
     "output_type": "execute_result"
    }
   ],
   "source": [
    "from IPython.display import HTML\n",
    "\n",
    "mermaid(code, egress=HTML)"
   ]
  },
  {
   "attachments": {},
   "cell_type": "markdown",
   "id": "fa45fbc0",
   "metadata": {},
   "source": [
    "`mermaid` is setup to be a framework through `functools.partial`. \n",
    "For example, to get a function that does left-to-right graphs (the default is top-to-bottom),\n",
    "and returning an `HTML` instance systematically, you can do the following:"
   ]
  },
  {
   "cell_type": "code",
   "execution_count": 8,
   "id": "2de836aa",
   "metadata": {},
   "outputs": [],
   "source": [
    "from functools import partial\n",
    "from IPython.display import display, HTML\n",
    "\n",
    "lr_graph = partial(mermaid, prefix='graph LR', egress=HTML)"
   ]
  },
  {
   "cell_type": "code",
   "execution_count": 9,
   "id": "adeb02bf",
   "metadata": {},
   "outputs": [
    {
     "data": {
      "text/html": [
       "\n",
       "<script type=\"module\">\n",
       "    async function initMermaid_3b562873d1304cc2a2a643a5ddd14e1d() {\n",
       "        const module = await import('https://cdn.jsdelivr.net/npm/mermaid@10/dist/mermaid.esm.min.mjs');\n",
       "        const mermaid = module.default;\n",
       "        mermaid.initialize({ startOnLoad: true });\n",
       "        mermaid.init(undefined, document.getElementById('mermaid_3b562873d1304cc2a2a643a5ddd14e1d'));\n",
       "    }\n",
       "    \n",
       "    if (document.readyState === 'loading') {\n",
       "        document.addEventListener('DOMContentLoaded', initMermaid_3b562873d1304cc2a2a643a5ddd14e1d);\n",
       "    } else {\n",
       "        initMermaid_3b562873d1304cc2a2a643a5ddd14e1d();\n",
       "    }\n",
       "</script>\n",
       "\n",
       "<pre class=\"mermaid\" id=\"mermaid_3b562873d1304cc2a2a643a5ddd14e1d\">\n",
       "    graph LR\n",
       "A --> B --> C\n",
       "\n",
       "</pre>\n"
      ],
      "text/plain": [
       "<IPython.core.display.HTML object>"
      ]
     },
     "execution_count": 9,
     "metadata": {},
     "output_type": "execute_result"
    }
   ],
   "source": [
    "lr_graph(code)"
   ]
  },
  {
   "cell_type": "code",
   "execution_count": null,
   "id": "4d401825",
   "metadata": {},
   "outputs": [],
   "source": []
  },
  {
   "cell_type": "code",
   "execution_count": null,
   "id": "244da025",
   "metadata": {},
   "outputs": [],
   "source": []
  },
  {
   "cell_type": "code",
   "execution_count": null,
   "id": "760f4898",
   "metadata": {},
   "outputs": [],
   "source": []
  }
 ],
 "metadata": {
  "kernelspec": {
   "display_name": "Python 3 (ipykernel)",
   "language": "python",
   "name": "python3"
  },
  "language_info": {
   "codemirror_mode": {
    "name": "ipython",
    "version": 3
   },
   "file_extension": ".py",
   "mimetype": "text/x-python",
   "name": "python",
   "nbconvert_exporter": "python",
   "pygments_lexer": "ipython3",
   "version": "3.10.8"
  },
  "toc": {
   "base_numbering": 1,
   "nav_menu": {},
   "number_sections": true,
   "sideBar": true,
   "skip_h1_title": false,
   "title_cell": "Table of Contents",
   "title_sidebar": "Contents",
   "toc_cell": false,
   "toc_position": {},
   "toc_section_display": true,
   "toc_window_display": false
  }
 },
 "nbformat": 4,
 "nbformat_minor": 5
}
