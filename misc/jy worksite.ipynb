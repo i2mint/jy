{
 "cells": [
  {
   "cell_type": "code",
   "execution_count": null,
   "id": "4d4da804",
   "metadata": {},
   "outputs": [],
   "source": []
  },
  {
   "cell_type": "code",
   "execution_count": null,
   "id": "7d611e24",
   "metadata": {},
   "outputs": [],
   "source": []
  },
  {
   "cell_type": "markdown",
   "id": "3b8f6a44",
   "metadata": {},
   "source": [
    "# The problem"
   ]
  },
  {
   "cell_type": "markdown",
   "id": "fe2f1a53",
   "metadata": {},
   "source": [
    "We want to be able to take a \"JS component\" and use it from python, in a jupyter notebook.\n",
    "\n",
    "By \"JS component\" I mean \"some JS+HTML+CSS that defines an element, view, or full 'app' whose functionality can be reused in various places\". \n",
    "\n",
    "The idea is to be able to facilitate reuse between front-end dev and back-end dev\n",
    "(in particular, analysts and ML engineers). \n",
    "We'd like, for instance, an analyst working within a notebook to import a python interface \n",
    "to some rich data-explorer component written in ReactJS, feed it what it needs (e.g. a data source/target), \n",
    "and then use the component's features fully, enabling the work done in it to then be \n",
    "used back in the notebook. \n",
    "\n",
    "For example, saw we take a [forced-directed graph](https://towardsdatascience.com/large-graph-visualization-tools-and-approaches-2b8758a1cd59) or [tsne viz](https://github.com/karpathy/tsnejs) tool that visualizes data, enabling us to view, filter and select data points. \n",
    "We'd like our analysts to be able to provide their data, or point to a source where the data can be found, \n",
    "and then once they find an select the data they want to work with, using the features of the tool,\n",
    "be able to extract that data and get it into some python collection that they can then continue their analysis with. \n",
    "\n",
    "Here's a proof-of-concept solution for the example described above, along with other instances of this class.\n",
    "\n",
    "Use some persisted data store and a platform-independent format as the middleware for py and js communication.\n",
    "* From python, we write the data to a DB or files in a JS-friendly format (like json or csv).\n",
    "* JS can then read this data from that source and do it's work\n",
    "* When we want to communicate some data back to python, we do so again, through the \"shared\" data store\n",
    "\n",
    "We could already get far by automating the strategy above as much as possible:\n",
    "Not obliging the user to set up the data store themselves or have to define the codecs \n",
    "necessary to communicate to the data middleware (at least not for the most common data types an analyst might use). \n",
    "Perhaps this approach could be further extended to allow some in-memory data store to be used, \n",
    "which would improve communication speed. \n",
    "\n",
    "We'd like to be able to do this with any JS component, but only through a specific normalized interface. \n",
    "That is, the automation of the PY-JS communication setup will be done only for very specific (but open-closed)\n",
    "python and JS interfaces. To use a third-party JS component, we will need to wrap it into a facade that \n",
    "is compliant with our normalized interface that we will rely on, and the python interface will be totally determined by this.\n",
    "This facade needs to be open-closed though. \n",
    "That is, it needs to be able to accomodate any \"lines of communication\" between python and the JS component. \n",
    "\n",
    "Note: Some solutions work in some environments, and not in others. \n",
    "Typically, I've seen some things work in my browser-based notebook, but not in VScode notebook. \n",
    "We don't want to target covering all environments, but at least browser-based and VScode, which should cover a lot of users. \n",
    "\n"
   ]
  },
  {
   "cell_type": "markdown",
   "id": "bdf451f2",
   "metadata": {},
   "source": [
    "## Two-way JS-PY communication"
   ]
  },
  {
   "cell_type": "markdown",
   "id": "05e8fe21",
   "metadata": {},
   "source": [
    "Integrating JavaScript components with a Python notebook and enabling two-way communication can be a bit complex, but it's definitely possible. Here's a high-level overview of how you can achieve this:\n",
    "1.\t**Embedding JavaScript in Jupyter Notebook**: You can use the `IPython` core display module to embed JavaScript code in a cell.\n",
    "2.\t**Creating a JavaScript Component**: Define your JavaScript component and its functionality. This can be a simple button or a more complex interactive component.\n",
    "3.\t**Communication from Python to JavaScript**: You can call a JavaScript function from Python using the `IPython` display module.\n",
    "4.\t**Communication from JavaScript to Python**: This is the tricky part. Jupyter provides a `Jupyter.notebook.kernel.execute` method that allows JavaScript to run Python code.\n"
   ]
  },
  {
   "cell_type": "markdown",
   "id": "076aaccd",
   "metadata": {},
   "source": [
    "# Solutions"
   ]
  },
  {
   "cell_type": "markdown",
   "id": "3d68eb4f",
   "metadata": {},
   "source": [
    "## Just IPython"
   ]
  },
  {
   "cell_type": "markdown",
   "id": "24c6e285",
   "metadata": {},
   "source": [
    "Works on browser, not in VScode.\n",
    "\n",
    "[See discussion](https://github.com/i2mint/jy/discussions/3#discussioncomment-6862019)"
   ]
  },
  {
   "cell_type": "code",
   "execution_count": 70,
   "id": "e5894e41",
   "metadata": {},
   "outputs": [],
   "source": [
    "from IPython.display import display, HTML, Javascript\n",
    "\n",
    "js_code = \"\"\"\n",
    "function sendToPython(){\n",
    "    var data = document.querySelector(\"#myInput\").value;\n",
    "    var kernel = IPython.notebook.kernel;\n",
    "    kernel.execute(\"data_from_js = '\" + data + \"'\");\n",
    "}\n",
    "\n",
    "document.querySelector(\"#myButton\").addEventListener(\"click\", function(){\n",
    "    sendToPython();\n",
    "});\n",
    "\"\"\"\n",
    "\n",
    "HTML_code = \"\"\"\n",
    "<input type=\"text\" id=\"myInput\" placeholder=\"Enter some text\">\n",
    "<button id=\"myButton\">Submit</button>\n",
    "<script type=\"text/Javascript\">{}</script>\n",
    "\"\"\".format(js_code)\n",
    "\n",
    "data_from_js = None   # not even necessary to initialize, but makes checking no throw an error, but print None instead"
   ]
  },
  {
   "cell_type": "code",
   "execution_count": 71,
   "id": "407562e9",
   "metadata": {},
   "outputs": [
    {
     "data": {
      "text/html": [
       "\n",
       "<input type=\"text\" id=\"myInput\" placeholder=\"Enter some text\">\n",
       "<button id=\"myButton\">Submit</button>\n",
       "<script type=\"text/Javascript\">\n",
       "function sendToPython(){\n",
       "    var data = document.querySelector(\"#myInput\").value;\n",
       "    var kernel = IPython.notebook.kernel;\n",
       "    kernel.execute(\"data_from_js = '\" + data + \"'\");\n",
       "}\n",
       "\n",
       "document.querySelector(\"#myButton\").addEventListener(\"click\", function(){\n",
       "    sendToPython();\n",
       "});\n",
       "</script>\n"
      ],
      "text/plain": [
       "<IPython.core.display.HTML object>"
      ]
     },
     "metadata": {},
     "output_type": "display_data"
    }
   ],
   "source": [
    "# Running this cell should display a text box and a button. Enter some text in the text box and click the button. \n",
    "# The text should be sent to Python and stored in the variable data_from_js. \n",
    "# The next cell will print the value of data_from_js...\n",
    "# ... if it works (works on browser but not VSCode, for me)\n",
    "display(HTML(HTML_code))"
   ]
  },
  {
   "cell_type": "code",
   "execution_count": 72,
   "id": "1b02abb9",
   "metadata": {},
   "outputs": [
    {
     "name": "stdout",
     "output_type": "stream",
     "text": [
      "None\n"
     ]
    }
   ],
   "source": [
    "print(data_from_js)"
   ]
  },
  {
   "cell_type": "code",
   "execution_count": null,
   "id": "06410fca",
   "metadata": {},
   "outputs": [],
   "source": []
  },
  {
   "cell_type": "code",
   "execution_count": 6,
   "id": "3ccd8909",
   "metadata": {},
   "outputs": [
    {
     "data": {
      "text/html": [
       "\n",
       "<input type=\"text\" id=\"myInput\" placeholder=\"Enter some text\">\n",
       "<button id=\"myButton\">Submit</button>\n",
       "<script type=\"text/Javascript\">\n",
       "function sendToPython(){\n",
       "    var data = document.querySelector(\"#myInput\").value;\n",
       "    var kernel = IPython.notebook.kernel;\n",
       "    kernel.execute(\"data_from_js = '\" + data + \"'\");\n",
       "}\n",
       "\n",
       "document.querySelector(\"#myButton\").addEventListener(\"click\", function(){\n",
       "    sendToPython();\n",
       "});\n",
       "</script>\n"
      ],
      "text/plain": [
       "<IPython.core.display.HTML object>"
      ]
     },
     "metadata": {},
     "output_type": "display_data"
    }
   ],
   "source": [
    "from IPython.display import display, HTML, Javascript\n",
    "\n",
    "js_code = \"\"\"\n",
    "function sendToPython(){\n",
    "    var data = document.querySelector(\"#myInput\").value;\n",
    "    var kernel = IPython.notebook.kernel;\n",
    "    kernel.execute(\"data_from_js = '\" + data + \"'\");\n",
    "}\n",
    "\n",
    "document.querySelector(\"#myButton\").addEventListener(\"click\", function(){\n",
    "    sendToPython();\n",
    "});\n",
    "\"\"\"\n",
    "\n",
    "HTML_code = \"\"\"\n",
    "<input type=\"text\" id=\"myInput\" placeholder=\"Enter some text\">\n",
    "<button id=\"myButton\">Submit</button>\n",
    "<script type=\"text/Javascript\">{}</script>\n",
    "\"\"\".format(js_code)\n",
    "\n",
    "display(HTML(HTML_code))"
   ]
  },
  {
   "cell_type": "code",
   "execution_count": 7,
   "id": "db2544ac",
   "metadata": {},
   "outputs": [
    {
     "name": "stdout",
     "output_type": "stream",
     "text": [
      "None\n"
     ]
    }
   ],
   "source": [
    "print(data_from_js)"
   ]
  },
  {
   "cell_type": "markdown",
   "id": "4be5b7c9",
   "metadata": {},
   "source": [
    "## ipywidgets"
   ]
  },
  {
   "cell_type": "markdown",
   "id": "9b6d0aab",
   "metadata": {},
   "source": [
    "This solution works both in browser and VSCode!\n",
    "\n",
    "Unfortunately, it's not what we want. Here, we're making the JS+HTML via ipywidgets. \n",
    "What we want is to make any JS component integrated in a notebook. \n",
    "Perhaps we can do so **via** `ipywidgets`, using [custom widgets](https://ipywidgets.readthedocs.io/en/7.x/examples/Widget%20Custom.html)\n",
    "\n",
    "[See discussion](https://github.com/i2mint/jy/discussions/3#discussioncomment-6862673)"
   ]
  },
  {
   "cell_type": "code",
   "execution_count": 1,
   "id": "1144a6dc",
   "metadata": {},
   "outputs": [
    {
     "data": {
      "application/vnd.jupyter.widget-view+json": {
       "model_id": "0d94f7c2c9f7420faf0bb726402503b8",
       "version_major": 2,
       "version_minor": 0
      },
      "text/plain": [
       "Text(value='', description='Text:', placeholder='Enter some text')"
      ]
     },
     "metadata": {},
     "output_type": "display_data"
    },
    {
     "data": {
      "application/vnd.jupyter.widget-view+json": {
       "model_id": "0380214ff03a46f1a7c18f73ce029e65",
       "version_major": 2,
       "version_minor": 0
      },
      "text/plain": [
       "Button(description='Submit', style=ButtonStyle())"
      ]
     },
     "metadata": {},
     "output_type": "display_data"
    },
    {
     "name": "stdout",
     "output_type": "stream",
     "text": [
      "Received data: hello\n"
     ]
    }
   ],
   "source": [
    "import ipywidgets as widgets\n",
    "from IPython.display import display\n",
    "\n",
    "# Python function to be called when the button is clicked\n",
    "def on_button_click(button):\n",
    "    global data_from_js\n",
    "    data_from_js = text_input.value\n",
    "    print(f\"Received data: {data_from_js}\")\n",
    "\n",
    "# Create a text input widget\n",
    "text_input = widgets.Text(\n",
    "    value='',\n",
    "    placeholder='Enter some text',\n",
    "    description='Text:',\n",
    "    disabled=False\n",
    ")\n",
    "\n",
    "# Create a button widget\n",
    "button = widgets.Button(description=\"Submit\")\n",
    "button.on_click(on_button_click)\n",
    "\n",
    "# Display the widgets\n",
    "display(text_input, button)"
   ]
  },
  {
   "cell_type": "code",
   "execution_count": 2,
   "id": "b1fee9c7",
   "metadata": {},
   "outputs": [
    {
     "name": "stdout",
     "output_type": "stream",
     "text": [
      "hello\n"
     ]
    }
   ],
   "source": [
    "print(data_from_js)"
   ]
  },
  {
   "cell_type": "code",
   "execution_count": null,
   "id": "9d3f9c55",
   "metadata": {},
   "outputs": [],
   "source": []
  },
  {
   "cell_type": "code",
   "execution_count": null,
   "id": "89287fea",
   "metadata": {},
   "outputs": [],
   "source": []
  },
  {
   "cell_type": "markdown",
   "id": "872c6851",
   "metadata": {},
   "source": [
    "## Embedding Javascript"
   ]
  },
  {
   "cell_type": "code",
   "execution_count": 75,
   "id": "52830618",
   "metadata": {},
   "outputs": [
    {
     "data": {
      "application/javascript": "\nfunction sayHello() {\n    alert('Hello from JavaScript!');\n    // Call a Python function from JavaScript\n    Jupyter.notebook.kernel.execute('hello_from_python()');\n}\nsayHello();  // Call the function\n",
      "text/plain": [
       "<IPython.core.display.Javascript object>"
      ]
     },
     "metadata": {},
     "output_type": "display_data"
    }
   ],
   "source": [
    "# alert NOT showing in VSCode notebook (but does show in browser)\n",
    "# Print shows in neither (CORS problem)\n",
    "from IPython.display import display, HTML, Javascript\n",
    "\n",
    "def hello_from_python():\n",
    "    print(\"Hello from Python!\")\n",
    "\n",
    "# Define and call the JavaScript function\n",
    "js_code = \"\"\"\n",
    "function sayHello() {\n",
    "    alert('Hello from JavaScript!');\n",
    "    // Call a Python function from JavaScript\n",
    "    Jupyter.notebook.kernel.execute('hello_from_python()');\n",
    "}\n",
    "sayHello();  // Call the function\n",
    "\"\"\"\n",
    "\n",
    "# Embed the JavaScript code in the notebook\n",
    "display(Javascript(js_code))"
   ]
  },
  {
   "cell_type": "code",
   "execution_count": 76,
   "id": "9dd0c2ea",
   "metadata": {},
   "outputs": [
    {
     "data": {
      "application/javascript": "\nfunction sayHello() {\n    alert('Hello from JavaScript!');\n    // Call a Python function from JavaScript\n    IPython.notebook.kernel.execute('hello_from_python()');\n}\nsayHello();\n",
      "text/plain": [
       "<IPython.core.display.Javascript object>"
      ]
     },
     "metadata": {},
     "output_type": "display_data"
    }
   ],
   "source": [
    "# Tried replacing \n",
    "#    Jupyter.notebook.kernel.execute\n",
    "# with\n",
    "#    IPython.notebook.kernel.execute\n",
    "# BUT, same thing:\n",
    "# - alert NOT showing in VSCode notebook (but does show in browser)\n",
    "# - print shows in neither (CORS problem)\n",
    "from IPython.display import display, HTML, Javascript\n",
    "\n",
    "js_code = \"\"\"\n",
    "function sayHello() {\n",
    "    alert('Hello from JavaScript!');\n",
    "    // Call a Python function from JavaScript\n",
    "    IPython.notebook.kernel.execute('hello_from_python()');\n",
    "}\n",
    "sayHello();\n",
    "\"\"\"\n",
    "\n",
    "display(Javascript(js_code))"
   ]
  },
  {
   "cell_type": "code",
   "execution_count": null,
   "id": "63581b8d",
   "metadata": {},
   "outputs": [],
   "source": []
  },
  {
   "cell_type": "code",
   "execution_count": 4,
   "id": "e4bab094",
   "metadata": {},
   "outputs": [
    {
     "data": {
      "text/html": [
       "\n",
       "<script>\n",
       "function sayHello() {\n",
       "    alert('Hello from JavaScript!');\n",
       "    // Call a Python function from JavaScript\n",
       "    Jupyter.notebook.kernel.execute('hello_from_python()');\n",
       "}\n",
       "</script>\n",
       "<button onclick=\"sayHello()\">Click Me!</button>\n"
      ],
      "text/plain": [
       "<IPython.core.display.HTML object>"
      ]
     },
     "metadata": {},
     "output_type": "display_data"
    }
   ],
   "source": [
    "# Button showing, but alert not showing in VSCode notebook!\n",
    "\n",
    "from IPython.display import display, HTML\n",
    "\n",
    "# Define a simple JavaScript function within an HTML script tag\n",
    "js_code = \"\"\"\n",
    "<script>\n",
    "function sayHello() {\n",
    "    alert('Hello from JavaScript!');\n",
    "    // Call a Python function from JavaScript\n",
    "    Jupyter.notebook.kernel.execute('hello_from_python()');\n",
    "}\n",
    "</script>\n",
    "<button onclick=\"sayHello()\">Click Me!</button>\n",
    "\"\"\"\n",
    "\n",
    "# Embed the JavaScript code in the notebook using HTML\n",
    "display(HTML(js_code))\n"
   ]
  },
  {
   "cell_type": "code",
   "execution_count": 73,
   "id": "d99d3ca8",
   "metadata": {},
   "outputs": [
    {
     "data": {
      "application/vnd.jupyter.widget-view+json": {
       "model_id": "ac183c2b96224f9095ea242cc26eaaaa",
       "version_major": 2,
       "version_minor": 0
      },
      "text/plain": [
       "Button(description='Click Me!', style=ButtonStyle())"
      ]
     },
     "metadata": {},
     "output_type": "display_data"
    },
    {
     "name": "stdout",
     "output_type": "stream",
     "text": [
      "Button clicked!\n",
      "Button clicked!\n"
     ]
    }
   ],
   "source": [
    "import ipywidgets as widgets\n",
    "from IPython.display import display\n",
    "\n",
    "def on_button_click(button):\n",
    "    print(\"Button clicked!\")\n",
    "\n",
    "button = widgets.Button(description=\"Click Me!\")\n",
    "button.on_click(on_button_click)\n",
    "display(button)"
   ]
  },
  {
   "cell_type": "code",
   "execution_count": 9,
   "id": "0f6fc531",
   "metadata": {},
   "outputs": [
    {
     "data": {
      "text/html": [
       "\n",
       "<button id=\"myButton\">Click me!</button>\n",
       "<script type=\"text/Javascript\">\n",
       "function sendToPython(data){\n",
       "    var kernel = IPython.notebook.kernel;\n",
       "    kernel.execute(\"data_from_js = '\" + data + \"'\");\n",
       "}\n",
       "\n",
       "document.querySelector(\"#myButton\").addEventListener(\"click\", function(){\n",
       "    sendToPython(this.innerHTML);\n",
       "});\n",
       "</script>\n"
      ],
      "text/plain": [
       "<IPython.core.display.HTML object>"
      ]
     },
     "execution_count": 9,
     "metadata": {},
     "output_type": "execute_result"
    }
   ],
   "source": [
    "from IPython.display import display, HTML, Javascript\n",
    "\n",
    "js_code = \"\"\"\n",
    "function sendToPython(data){\n",
    "    var kernel = IPython.notebook.kernel;\n",
    "    kernel.execute(\"data_from_js = '\" + data + \"'\");\n",
    "}\n",
    "\n",
    "document.querySelector(\"#myButton\").addEventListener(\"click\", function(){\n",
    "    sendToPython(this.innerHTML);\n",
    "});\n",
    "\"\"\"\n",
    "\n",
    "HTML(\"\"\"\n",
    "<button id=\"myButton\">Click me!</button>\n",
    "<script type=\"text/Javascript\">{}</script>\n",
    "\"\"\".format(js_code))"
   ]
  },
  {
   "cell_type": "code",
   "execution_count": 8,
   "id": "872a5658",
   "metadata": {},
   "outputs": [],
   "source": [
    "def python_callback(data):\n",
    "    print(f\"Received data from JS: {data}\")\n",
    "\n",
    "# This will be called automatically when the button is clicked\n",
    "data_from_js = None\n",
    "\n",
    "if data_from_js:\n",
    "    python_callback(data_from_js)"
   ]
  },
  {
   "cell_type": "code",
   "execution_count": 13,
   "id": "1a29c6a7",
   "metadata": {},
   "outputs": [
    {
     "data": {
      "application/vnd.jupyter.widget-view+json": {
       "model_id": "65ef6fda2b634c11ba21cc19805638eb",
       "version_major": 2,
       "version_minor": 0
      },
      "text/plain": [
       "Text(value='', description='What you want to tell python:')"
      ]
     },
     "metadata": {},
     "output_type": "display_data"
    },
    {
     "data": {
      "application/vnd.jupyter.widget-view+json": {
       "model_id": "5fcda35023304727b6292af6639ef43b",
       "version_major": 2,
       "version_minor": 0
      },
      "text/plain": [
       "Button(description='Submit', style=ButtonStyle())"
      ]
     },
     "metadata": {},
     "output_type": "display_data"
    },
    {
     "name": "stdout",
     "output_type": "stream",
     "text": [
      "Button(description='Submit', style=ButtonStyle())\n",
      "['__annotations__', '__class__', '__del__', '__delattr__', '__dict__', '__dir__', '__doc__', '__eq__', '__format__', '__ge__', '__getattribute__', '__getstate__', '__gt__', '__hash__', '__init__', '__init_subclass__', '__le__', '__lt__', '__module__', '__ne__', '__new__', '__reduce__', '__reduce_ex__', '__repr__', '__setattr__', '__setstate__', '__sizeof__', '__str__', '__subclasshook__', '__weakref__', '_active_widgets', '_add_notifiers', '_call_widget_constructed', '_click_handlers', '_comm_changed', '_compare', '_control_comm', '_cross_validation_lock', '_default_keys', '_dom_classes', '_gen_repr_from_keys', '_get_embed_state', '_get_trait_default_generator', '_handle_button_msg', '_handle_control_comm_msg', '_handle_custom_msg', '_handle_msg', '_holding_sync', '_is_numpy', '_lock_property', '_log_default', '_model_id', '_model_module', '_model_module_version', '_model_name', '_msg_callbacks', '_notify_observers', '_notify_trait', '_property_lock', '_register_validator', '_remove_notifiers', '_repr_keys', '_repr_mimebundle_', '_send', '_should_send_property', '_states_to_send', '_trait_default_generators', '_trait_from_json', '_trait_notifiers', '_trait_to_json', '_trait_validators', '_trait_values', '_validate_icon', '_view_count', '_view_module', '_view_module_version', '_view_name', '_widget_construction_callback', '_widget_types', 'add_class', 'add_traits', 'blur', 'button_style', 'class_own_trait_events', 'class_own_traits', 'class_trait_names', 'class_traits', 'click', 'close', 'close_all', 'comm', 'cross_validation_lock', 'description', 'disabled', 'focus', 'get_manager_state', 'get_state', 'get_view_spec', 'handle_comm_opened', 'handle_control_comm_opened', 'has_trait', 'hold_sync', 'hold_trait_notifications', 'icon', 'keys', 'layout', 'log', 'model_id', 'notify_change', 'observe', 'on_click', 'on_msg', 'on_trait_change', 'on_widget_constructed', 'open', 'remove_class', 'send', 'send_state', 'set_state', 'set_trait', 'setup_instance', 'style', 'tabbable', 'tooltip', 'trait_defaults', 'trait_events', 'trait_has_value', 'trait_metadata', 'trait_names', 'trait_values', 'traits', 'unobserve', 'unobserve_all']\n"
     ]
    },
    {
     "ename": "NameError",
     "evalue": "name 'key' is not defined",
     "output_type": "error",
     "traceback": [
      "\u001b[0;31m---------------------------------------------------------------------------\u001b[0m",
      "\u001b[0;31mNameError\u001b[0m                                 Traceback (most recent call last)",
      "Cell \u001b[0;32mIn[13], line 7\u001b[0m, in \u001b[0;36mon_button_click\u001b[0;34m(b)\u001b[0m\n\u001b[1;32m      5\u001b[0m \u001b[39mprint\u001b[39m(b)\n\u001b[1;32m      6\u001b[0m \u001b[39mprint\u001b[39m(\u001b[39mf\u001b[39m\u001b[39m\"\u001b[39m\u001b[39m{\u001b[39;00m\u001b[39mdir\u001b[39m(b)\u001b[39m}\u001b[39;00m\u001b[39m\"\u001b[39m)\n\u001b[0;32m----> 7\u001b[0m d[key] \u001b[39m=\u001b[39m text\u001b[39m.\u001b[39mvalue\n",
      "\u001b[0;31mNameError\u001b[0m: name 'key' is not defined"
     ]
    }
   ],
   "source": [
    "import ipywidgets as widgets\n",
    "from IPython.display import display\n",
    "\n",
    "def on_button_click(b):\n",
    "    print(b)\n",
    "    print(f\"{dir(b)}\")\n",
    "    d[key] = text.value\n",
    "\n",
    "def my_function(d, key):\n",
    "    text = widgets.Text(description='What you want to tell python:')\n",
    "    button = widgets.Button(description='Submit')\n",
    "    button.on_click(on_button_click)\n",
    "\n",
    "    display(text)\n",
    "    display(button)\n",
    "\n",
    "d = dict()\n",
    "\n",
    "my_function(d, 'key')"
   ]
  },
  {
   "cell_type": "code",
   "execution_count": null,
   "id": "b9b37dc6",
   "metadata": {},
   "outputs": [],
   "source": []
  },
  {
   "cell_type": "code",
   "execution_count": 42,
   "id": "b5fb806e",
   "metadata": {},
   "outputs": [
    {
     "data": {
      "text/html": [
       "\n",
       "<input type=\"text\" id=\"myInput\" placeholder=\"Enter some text\">\n",
       "<button id=\"myButton\">Submit</button>\n",
       "<script type=\"text/Javascript\">\n",
       "function sendToPython(){\n",
       "    var data = document.querySelector(\"#myInput\").value;\n",
       "    var kernel = IPython.notebook.kernel;\n",
       "    kernel.execute(\"data_from_js = '\" + data + \"'\");\n",
       "}\n",
       "\n",
       "document.querySelector(\"#myButton\").addEventListener(\"click\", function(){\n",
       "    sendToPython();\n",
       "});\n",
       "</script>\n"
      ],
      "text/plain": [
       "<IPython.core.display.HTML object>"
      ]
     },
     "metadata": {},
     "output_type": "display_data"
    }
   ],
   "source": [
    "from IPython.display import display, HTML, Javascript\n",
    "\n",
    "js_code = \"\"\"\n",
    "function sendToPython(){\n",
    "    var data = document.querySelector(\"#myInput\").value;\n",
    "    var kernel = IPython.notebook.kernel;\n",
    "    kernel.execute(\"data_from_js = '\" + data + \"'\");\n",
    "}\n",
    "\n",
    "document.querySelector(\"#myButton\").addEventListener(\"click\", function(){\n",
    "    sendToPython();\n",
    "});\n",
    "\"\"\"\n",
    "\n",
    "HTML_code = \"\"\"\n",
    "<input type=\"text\" id=\"myInput\" placeholder=\"Enter some text\">\n",
    "<button id=\"myButton\">Submit</button>\n",
    "<script type=\"text/Javascript\">{}</script>\n",
    "\"\"\".format(js_code)\n",
    "\n",
    "display(HTML(HTML_code))\n"
   ]
  },
  {
   "cell_type": "code",
   "execution_count": 44,
   "id": "25ae864e",
   "metadata": {},
   "outputs": [
    {
     "name": "stdout",
     "output_type": "stream",
     "text": [
      "None\n"
     ]
    }
   ],
   "source": [
    "print(data_from_js)"
   ]
  },
  {
   "cell_type": "code",
   "execution_count": 14,
   "id": "02365bbf",
   "metadata": {},
   "outputs": [
    {
     "data": {
      "text/html": [
       "\n",
       "<div>\n",
       "  <label for=\"input\">What you want to tell python:</label>\n",
       "  <input type=\"text\" id=\"input\" name=\"input\">\n",
       "  <button id=\"submit\">Submit</button>\n",
       "</div>\n"
      ],
      "text/plain": [
       "<IPython.core.display.HTML object>"
      ]
     },
     "metadata": {},
     "output_type": "display_data"
    },
    {
     "data": {
      "text/html": [
       "<script>\n",
       "    const input = document.querySelector('input');\n",
       "    const button = document.querySelector('button');\n",
       "\n",
       "    button.addEventListener('click', () => {\n",
       "        const value = input.value;\n",
       "        const kernel = IPython.notebook.kernel;\n",
       "        kernel.execute(`d['${key}'] = '${value}'`);\n",
       "    });\n",
       "    </script>"
      ],
      "text/plain": [
       "<IPython.core.display.HTML object>"
      ]
     },
     "metadata": {},
     "output_type": "display_data"
    }
   ],
   "source": [
    "from IPython.display import HTML\n",
    "\n",
    "def my_function(html, d, key):\n",
    "    display(HTML(html))\n",
    "\n",
    "    js_code = \"\"\"\n",
    "    const input = document.querySelector('input');\n",
    "    const button = document.querySelector('button');\n",
    "\n",
    "    button.addEventListener('click', () => {\n",
    "        const value = input.value;\n",
    "        const kernel = IPython.notebook.kernel;\n",
    "        kernel.execute(`d['${key}'] = '${value}'`);\n",
    "    });\n",
    "    \"\"\"\n",
    "\n",
    "    display(HTML(f'<script>{js_code}</script>'))\n",
    "\n",
    "html = \"\"\"\n",
    "<div>\n",
    "  <label for=\"input\">What you want to tell python:</label>\n",
    "  <input type=\"text\" id=\"input\" name=\"input\">\n",
    "  <button id=\"submit\">Submit</button>\n",
    "</div>\n",
    "\"\"\"\n",
    "\n",
    "d = {}\n",
    "key = 'my_key'\n",
    "\n",
    "my_function(html, d, key)\n",
    "\n",
    "html\n"
   ]
  },
  {
   "cell_type": "code",
   "execution_count": 41,
   "id": "bc6b6efc",
   "metadata": {},
   "outputs": [
    {
     "name": "stdout",
     "output_type": "stream",
     "text": [
      "None\n"
     ]
    }
   ],
   "source": []
  },
  {
   "cell_type": "code",
   "execution_count": null,
   "id": "33408a8e",
   "metadata": {},
   "outputs": [],
   "source": []
  },
  {
   "cell_type": "code",
   "execution_count": 37,
   "id": "86837718",
   "metadata": {},
   "outputs": [
    {
     "data": {
      "text/html": [
       "\n",
       "<div>\n",
       "  <label for=\"input\">What you want to tell python:</label>\n",
       "  <input type=\"text\" id=\"input\" name=\"input\">\n",
       "  <button id=\"submit\">Submit</button>\n",
       "</div>\n"
      ],
      "text/plain": [
       "<IPython.core.display.HTML object>"
      ]
     },
     "metadata": {},
     "output_type": "display_data"
    },
    {
     "data": {
      "text/html": [
       "<script>\n",
       "    const input = document.querySelector('input');\n",
       "    const button = document.querySelector('button');\n",
       "\n",
       "    button.addEventListener('click', () => {\n",
       "        const value = input.value;\n",
       "        const kernel = IPython.notebook.kernel;\n",
       "        kernel.execute(`d['${key}'] = '${value}'`);\n",
       "    });\n",
       "    </script>"
      ],
      "text/plain": [
       "<IPython.core.display.HTML object>"
      ]
     },
     "metadata": {},
     "output_type": "display_data"
    }
   ],
   "source": [
    "from IPython.display import HTML\n",
    "\n",
    "def my_function(html, d, key):\n",
    "    display(HTML(html))\n",
    "\n",
    "    js_code = \"\"\"\n",
    "    const input = document.querySelector('input');\n",
    "    const button = document.querySelector('button');\n",
    "\n",
    "    button.addEventListener('click', () => {\n",
    "        const value = input.value;\n",
    "        const kernel = IPython.notebook.kernel;\n",
    "        kernel.execute(`d['${key}'] = '${value}'`);\n",
    "    });\n",
    "    \"\"\"\n",
    "\n",
    "    display(HTML(f'<script>{js_code}</script>'))\n",
    "\n",
    "html = \"\"\"\n",
    "<div>\n",
    "  <label for=\"input\">What you want to tell python:</label>\n",
    "  <input type=\"text\" id=\"input\" name=\"input\">\n",
    "  <button id=\"submit\">Submit</button>\n",
    "</div>\n",
    "\"\"\"\n",
    "\n",
    "d = {}\n",
    "\n",
    "from dol import TextFiles\n",
    "\n",
    "d = TextFiles('/Users/thorwhalen/Dropbox/py/proj/i/jy/misc/data')\n",
    "key = 'my_key'\n",
    "\n",
    "my_function(html, d, key)\n"
   ]
  },
  {
   "cell_type": "code",
   "execution_count": 35,
   "id": "c3fa1f13",
   "metadata": {},
   "outputs": [],
   "source": [
    "d[key] = 'foob'"
   ]
  },
  {
   "cell_type": "code",
   "execution_count": 36,
   "id": "1bdf86d2",
   "metadata": {},
   "outputs": [
    {
     "data": {
      "text/plain": [
       "['my_key']"
      ]
     },
     "execution_count": 36,
     "metadata": {},
     "output_type": "execute_result"
    }
   ],
   "source": [
    "list(d)"
   ]
  },
  {
   "cell_type": "code",
   "execution_count": 31,
   "id": "37886d86",
   "metadata": {},
   "outputs": [
    {
     "data": {
      "text/plain": [
       "'/Users/thorwhalen/Dropbox/py/proj/i/jy/misc'"
      ]
     },
     "execution_count": 31,
     "metadata": {},
     "output_type": "execute_result"
    }
   ],
   "source": [
    "pwd"
   ]
  },
  {
   "cell_type": "code",
   "execution_count": null,
   "id": "19598290",
   "metadata": {},
   "outputs": [],
   "source": []
  },
  {
   "cell_type": "code",
   "execution_count": 45,
   "id": "367c1a8d",
   "metadata": {},
   "outputs": [],
   "source": [
    "from IPython.display import display, Javascript\n",
    "import ipywidgets as widgets\n",
    "from IPython.display import display\n",
    "from traitlets import Unicode\n",
    "\n",
    "class DataReceiver(widgets.DOMWidget):\n",
    "    _view_name = Unicode('DataReceiverView').tag(sync=True)\n",
    "    _view_module = Unicode('dataReceiver').tag(sync=True)\n",
    "    _view_module_version = Unicode('0.1.0').tag(sync=True)\n",
    "    value = Unicode().tag(sync=True)\n",
    "\n",
    "    def __init__(self, **kwargs):\n",
    "        super().__init__(**kwargs)\n",
    "        self.value = \"\"\n",
    "        self.observe(self.on_value_change, 'value')\n",
    "\n",
    "    def on_value_change(self, change):\n",
    "        print(f\"Received data from JS: {change['new']}\")\n"
   ]
  },
  {
   "cell_type": "code",
   "execution_count": 46,
   "id": "e2a886ed",
   "metadata": {},
   "outputs": [
    {
     "data": {
      "application/javascript": "\nrequire.undef('dataReceiver');\n\ndefine('dataReceiver', [\"@jupyter-widgets/base\"], function(widgets) {\n    var DataReceiverView = widgets.DOMWidgetView.extend({\n        render: function() {\n            this.value_changed();\n            this.model.on('change:value', this.value_changed, this);\n        },\n\n        events: {\n            'click #myButton': 'handle_click'\n        },\n\n        handle_click: function() {\n            var data = document.querySelector(\"#myInput\").value;\n            this.model.set('value', data);\n            this.touch();\n        },\n\n        value_changed: function() {\n            var old_value = this.model.previous('value');\n            var new_value = this.model.get('value');\n        },\n    });\n\n    return {\n        DataReceiverView: DataReceiverView\n    };\n});\n",
      "text/plain": [
       "<IPython.core.display.Javascript object>"
      ]
     },
     "metadata": {},
     "output_type": "display_data"
    }
   ],
   "source": [
    "%%javascript\n",
    "\n",
    "require.undef('dataReceiver');\n",
    "\n",
    "define('dataReceiver', [\"@jupyter-widgets/base\"], function(widgets) {\n",
    "    var DataReceiverView = widgets.DOMWidgetView.extend({\n",
    "        render: function() {\n",
    "            this.value_changed();\n",
    "            this.model.on('change:value', this.value_changed, this);\n",
    "        },\n",
    "\n",
    "        events: {\n",
    "            'click #myButton': 'handle_click'\n",
    "        },\n",
    "\n",
    "        handle_click: function() {\n",
    "            var data = document.querySelector(\"#myInput\").value;\n",
    "            this.model.set('value', data);\n",
    "            this.touch();\n",
    "        },\n",
    "\n",
    "        value_changed: function() {\n",
    "            var old_value = this.model.previous('value');\n",
    "            var new_value = this.model.get('value');\n",
    "        },\n",
    "    });\n",
    "\n",
    "    return {\n",
    "        DataReceiverView: DataReceiverView\n",
    "    };\n",
    "});\n"
   ]
  },
  {
   "cell_type": "code",
   "execution_count": 47,
   "id": "3f522900",
   "metadata": {},
   "outputs": [
    {
     "data": {
      "text/html": [
       "\n",
       "<input type=\"text\" id=\"myInput\" placeholder=\"Enter some text\">\n",
       "<button id=\"myButton\">Submit</button>\n"
      ],
      "text/plain": [
       "<IPython.core.display.HTML object>"
      ]
     },
     "metadata": {},
     "output_type": "display_data"
    },
    {
     "data": {
      "application/vnd.jupyter.widget-view+json": {
       "model_id": "5036efe711314048a6510c43b255597d",
       "version_major": 2,
       "version_minor": 0
      },
      "text/plain": [
       "DataReceiver()"
      ]
     },
     "metadata": {},
     "output_type": "display_data"
    }
   ],
   "source": [
    "receiver = DataReceiver()\n",
    "\n",
    "HTML_code = \"\"\"\n",
    "<input type=\"text\" id=\"myInput\" placeholder=\"Enter some text\">\n",
    "<button id=\"myButton\">Submit</button>\n",
    "\"\"\"\n",
    "\n",
    "display(HTML(HTML_code))\n",
    "display(receiver)"
   ]
  },
  {
   "cell_type": "code",
   "execution_count": 48,
   "id": "c8b3cf8c",
   "metadata": {},
   "outputs": [
    {
     "data": {
      "text/html": [
       "\n",
       "<input type=\"text\" id=\"myInput\" placeholder=\"Enter some text\">\n",
       "<button id=\"myButton\">Submit</button>\n",
       "<script type=\"text/Javascript\">\n",
       "function sendToPython(){\n",
       "    var data = document.querySelector(\"#myInput\").value;\n",
       "    var kernel = IPython.notebook.kernel;\n",
       "    kernel.execute(\"data_from_js = '\" + data + \"'\");\n",
       "    kernel.execute(\"print('Received data from JS: ' + data_from_js)\");\n",
       "}\n",
       "\n",
       "document.querySelector(\"#myButton\").addEventListener(\"click\", function(){\n",
       "    sendToPython();\n",
       "});\n",
       "</script>\n"
      ],
      "text/plain": [
       "<IPython.core.display.HTML object>"
      ]
     },
     "metadata": {},
     "output_type": "display_data"
    }
   ],
   "source": [
    "from IPython.display import display, HTML, Javascript\n",
    "\n",
    "js_code = \"\"\"\n",
    "function sendToPython(){\n",
    "    var data = document.querySelector(\"#myInput\").value;\n",
    "    var kernel = IPython.notebook.kernel;\n",
    "    kernel.execute(\"data_from_js = '\" + data + \"'\");\n",
    "    kernel.execute(\"print('Received data from JS: ' + data_from_js)\");\n",
    "}\n",
    "\n",
    "document.querySelector(\"#myButton\").addEventListener(\"click\", function(){\n",
    "    sendToPython();\n",
    "});\n",
    "\"\"\"\n",
    "\n",
    "HTML_code = \"\"\"\n",
    "<input type=\"text\" id=\"myInput\" placeholder=\"Enter some text\">\n",
    "<button id=\"myButton\">Submit</button>\n",
    "<script type=\"text/Javascript\">{}</script>\n",
    "\"\"\".format(js_code)\n",
    "\n",
    "display(HTML(HTML_code))\n"
   ]
  },
  {
   "cell_type": "code",
   "execution_count": null,
   "id": "5a170c6d",
   "metadata": {},
   "outputs": [],
   "source": []
  },
  {
   "cell_type": "code",
   "execution_count": 49,
   "id": "32f4b692",
   "metadata": {},
   "outputs": [
    {
     "data": {
      "application/javascript": "\nfunction getInputValueAndSendToPython(){\n    var data = document.querySelector(\"#myInput\").value;\n    return data;\n}\n",
      "text/plain": [
       "<IPython.core.display.Javascript object>"
      ]
     },
     "metadata": {},
     "output_type": "display_data"
    }
   ],
   "source": [
    "js_code = \"\"\"\n",
    "function getInputValueAndSendToPython(){\n",
    "    var data = document.querySelector(\"#myInput\").value;\n",
    "    return data;\n",
    "}\n",
    "\"\"\"\n",
    "\n",
    "display(Javascript(js_code))\n"
   ]
  },
  {
   "cell_type": "code",
   "execution_count": null,
   "id": "e969d802",
   "metadata": {},
   "outputs": [],
   "source": []
  },
  {
   "cell_type": "code",
   "execution_count": null,
   "id": "14e22c35",
   "metadata": {},
   "outputs": [],
   "source": []
  },
  {
   "cell_type": "code",
   "execution_count": 52,
   "id": "ef426b09",
   "metadata": {},
   "outputs": [
    {
     "data": {
      "text/html": [
       "\n",
       "<input type=\"text\" id=\"myInput\" placeholder=\"Enter some text\">\n",
       "<button onclick=\"IPython.notebook.kernel.execute('handle_input_value(\"' + getInputValueAndSendToPython() + '\")')\">Submit</button>\n"
      ],
      "text/plain": [
       "<IPython.core.display.HTML object>"
      ]
     },
     "metadata": {},
     "output_type": "display_data"
    }
   ],
   "source": [
    "def handle_input_value(value):\n",
    "    print(f\"Received data from JS: {value}\")\n",
    "\n",
    "HTML_code = \"\"\"\n",
    "<input type=\"text\" id=\"myInput\" placeholder=\"Enter some text\">\n",
    "<button onclick=\"IPython.notebook.kernel.execute('handle_input_value(\"' + getInputValueAndSendToPython() + '\")')\">Submit</button>\n",
    "\"\"\"\n",
    "\n",
    "display(HTML(HTML_code))"
   ]
  },
  {
   "cell_type": "code",
   "execution_count": 53,
   "id": "2ec2d081",
   "metadata": {},
   "outputs": [
    {
     "data": {
      "application/vnd.jupyter.widget-view+json": {
       "model_id": "51d22d4ff9704ed89f738ccbca1c5d05",
       "version_major": 2,
       "version_minor": 0
      },
      "text/plain": [
       "Text(value='', description='Input:', placeholder='Enter some text')"
      ]
     },
     "metadata": {},
     "output_type": "display_data"
    },
    {
     "data": {
      "application/vnd.jupyter.widget-view+json": {
       "model_id": "4bab3463414142ee9cb28b9bc2968304",
       "version_major": 2,
       "version_minor": 0
      },
      "text/plain": [
       "Button(description='Submit', style=ButtonStyle())"
      ]
     },
     "metadata": {},
     "output_type": "display_data"
    },
    {
     "name": "stdout",
     "output_type": "stream",
     "text": [
      "Received data: asdf\n"
     ]
    }
   ],
   "source": [
    "import ipywidgets as widgets\n",
    "\n",
    "# Create a text input widget\n",
    "text_input = widgets.Text(\n",
    "    value='',\n",
    "    placeholder='Enter some text',\n",
    "    description='Input:',\n",
    "    disabled=False\n",
    ")\n",
    "\n",
    "# Create a button widget\n",
    "submit_button = widgets.Button(description=\"Submit\")\n",
    "\n",
    "# Define the button click callback\n",
    "def on_button_click(button):\n",
    "    print(f\"Received data: {text_input.value}\")\n",
    "\n",
    "submit_button.on_click(on_button_click)\n",
    "\n",
    "# Display the widgets\n",
    "display(text_input, submit_button)"
   ]
  },
  {
   "cell_type": "code",
   "execution_count": null,
   "id": "082f7e1c",
   "metadata": {},
   "outputs": [],
   "source": []
  },
  {
   "cell_type": "code",
   "execution_count": 54,
   "id": "d006bfd9",
   "metadata": {},
   "outputs": [],
   "source": [
    "import ipywidgets as widgets\n",
    "from traitlets import Unicode, validate\n",
    "\n",
    "class CustomTextInput(widgets.DOMWidget):\n",
    "    _view_name = Unicode('CustomTextInputView').tag(sync=True)\n",
    "    _view_module = Unicode('customTextInput').tag(sync=True)\n",
    "    _view_module_version = Unicode('0.1.0').tag(sync=True)\n",
    "    \n",
    "    value = Unicode().tag(sync=True)\n"
   ]
  },
  {
   "cell_type": "code",
   "execution_count": 58,
   "id": "e125bb5f",
   "metadata": {},
   "outputs": [
    {
     "data": {
      "application/javascript": "\nrequire.undef('customTextInput');\n\ndefine('customTextInput', [\"@jupyter-widgets/base\"], function(widgets) {\n    var CustomTextInputView = widgets.DOMWidgetView.extend({\n        render: function() {\n            this.inputElement = document.createElement('input');\n            this.inputElement.type = 'text';\n            this.inputElement.placeholder = 'Enter some text';\n            \n            this.el.appendChild(this.inputElement);\n            \n            this.inputElement.addEventListener('change', this.valueChanged.bind(this));\n            \n            this.valueChanged();\n        },\n        \n        valueChanged: function() {\n            this.model.set('value', this.inputElement.value);\n            this.touch();\n        },\n    });\n    \n    return {\n        CustomTextInputView: CustomTextInputView\n    };\n});\n",
      "text/plain": [
       "<IPython.core.display.Javascript object>"
      ]
     },
     "metadata": {},
     "output_type": "display_data"
    }
   ],
   "source": [
    "%%javascript\n",
    "\n",
    "require.undef('customTextInput');\n",
    "\n",
    "define('customTextInput', [\"@jupyter-widgets/base\"], function(widgets) {\n",
    "    var CustomTextInputView = widgets.DOMWidgetView.extend({\n",
    "        render: function() {\n",
    "            this.inputElement = document.createElement('input');\n",
    "            this.inputElement.type = 'text';\n",
    "            this.inputElement.placeholder = 'Enter some text';\n",
    "            \n",
    "            this.el.appendChild(this.inputElement);\n",
    "            \n",
    "            this.inputElement.addEventListener('change', this.valueChanged.bind(this));\n",
    "            \n",
    "            this.valueChanged();\n",
    "        },\n",
    "        \n",
    "        valueChanged: function() {\n",
    "            this.model.set('value', this.inputElement.value);\n",
    "            this.touch();\n",
    "        },\n",
    "    });\n",
    "    \n",
    "    return {\n",
    "        CustomTextInputView: CustomTextInputView\n",
    "    };\n",
    "});\n"
   ]
  },
  {
   "cell_type": "code",
   "execution_count": 61,
   "id": "c2e252b3",
   "metadata": {},
   "outputs": [
    {
     "data": {
      "application/vnd.jupyter.widget-view+json": {
       "model_id": "6efe5ca544104b5f9bfec9d81b8afb2a",
       "version_major": 2,
       "version_minor": 0
      },
      "text/plain": [
       "CustomTextInput()"
      ]
     },
     "metadata": {},
     "output_type": "display_data"
    }
   ],
   "source": [
    "custom_input = CustomTextInput()\n",
    "display(custom_input)"
   ]
  },
  {
   "cell_type": "code",
   "execution_count": 62,
   "id": "0ba29b9c",
   "metadata": {},
   "outputs": [
    {
     "name": "stdout",
     "output_type": "stream",
     "text": [
      "\n"
     ]
    }
   ],
   "source": [
    "print(custom_input.value)\n"
   ]
  },
  {
   "cell_type": "code",
   "execution_count": null,
   "id": "0d9a7636",
   "metadata": {},
   "outputs": [],
   "source": []
  },
  {
   "cell_type": "code",
   "execution_count": 63,
   "id": "a0fbe775",
   "metadata": {},
   "outputs": [],
   "source": [
    "import ipywidgets as widgets\n",
    "from traitlets import Unicode\n",
    "\n",
    "class CustomTextInput(widgets.DOMWidget):\n",
    "    _view_name = Unicode('CustomTextInputView').tag(sync=True)\n",
    "    _view_module = Unicode('customTextInput').tag(sync=True)\n",
    "    _view_module_version = Unicode('0.1.0').tag(sync=True)\n",
    "    \n",
    "    value = Unicode().tag(sync=True)"
   ]
  },
  {
   "cell_type": "code",
   "execution_count": 64,
   "id": "f76cd8f7",
   "metadata": {},
   "outputs": [
    {
     "data": {
      "application/javascript": "\nrequire.undef('customTextInput');\n\ndefine('customTextInput', [\"@jupyter-widgets/base\"], function(widgets) {\n    var CustomTextInputView = widgets.DOMWidgetView.extend({\n        render: function() {\n            // Create input element\n            this.inputElement = document.createElement('input');\n            this.inputElement.type = 'text';\n            this.inputElement.placeholder = 'Enter some text';\n            this.el.appendChild(this.inputElement);\n            \n            // Create submit button\n            this.submitButton = document.createElement('button');\n            this.submitButton.innerHTML = 'Submit';\n            this.submitButton.onclick = this.handleSubmit.bind(this);\n            this.el.appendChild(this.submitButton);\n        },\n        \n        handleSubmit: function() {\n            this.model.set('value', this.inputElement.value);\n            this.touch();\n        },\n    });\n    \n    return {\n        CustomTextInputView: CustomTextInputView\n    };\n});\n",
      "text/plain": [
       "<IPython.core.display.Javascript object>"
      ]
     },
     "metadata": {},
     "output_type": "display_data"
    }
   ],
   "source": [
    "%%javascript\n",
    "\n",
    "require.undef('customTextInput');\n",
    "\n",
    "define('customTextInput', [\"@jupyter-widgets/base\"], function(widgets) {\n",
    "    var CustomTextInputView = widgets.DOMWidgetView.extend({\n",
    "        render: function() {\n",
    "            // Create input element\n",
    "            this.inputElement = document.createElement('input');\n",
    "            this.inputElement.type = 'text';\n",
    "            this.inputElement.placeholder = 'Enter some text';\n",
    "            this.el.appendChild(this.inputElement);\n",
    "            \n",
    "            // Create submit button\n",
    "            this.submitButton = document.createElement('button');\n",
    "            this.submitButton.innerHTML = 'Submit';\n",
    "            this.submitButton.onclick = this.handleSubmit.bind(this);\n",
    "            this.el.appendChild(this.submitButton);\n",
    "        },\n",
    "        \n",
    "        handleSubmit: function() {\n",
    "            this.model.set('value', this.inputElement.value);\n",
    "            this.touch();\n",
    "        },\n",
    "    });\n",
    "    \n",
    "    return {\n",
    "        CustomTextInputView: CustomTextInputView\n",
    "    };\n",
    "});\n"
   ]
  },
  {
   "cell_type": "code",
   "execution_count": 67,
   "id": "f3bd5b0f",
   "metadata": {},
   "outputs": [
    {
     "data": {
      "application/vnd.jupyter.widget-view+json": {
       "model_id": "69b037d993d847cb8e16ac3434371ac4",
       "version_major": 2,
       "version_minor": 0
      },
      "text/plain": [
       "CustomTextInput()"
      ]
     },
     "metadata": {},
     "output_type": "display_data"
    }
   ],
   "source": [
    "custom_input = CustomTextInput()\n",
    "display(custom_input)"
   ]
  },
  {
   "cell_type": "code",
   "execution_count": 66,
   "id": "81ae3192",
   "metadata": {},
   "outputs": [
    {
     "name": "stdout",
     "output_type": "stream",
     "text": [
      "\n"
     ]
    }
   ],
   "source": [
    "print(custom_input.value)"
   ]
  },
  {
   "cell_type": "code",
   "execution_count": 68,
   "id": "ee038033",
   "metadata": {},
   "outputs": [
    {
     "data": {
      "application/vnd.jupyter.widget-view+json": {
       "model_id": "9908a1898bb748c2a69b0cc29ca25ec4",
       "version_major": 2,
       "version_minor": 0
      },
      "text/plain": [
       "Text(value='', description='Input:', placeholder='Enter some text')"
      ]
     },
     "metadata": {},
     "output_type": "display_data"
    },
    {
     "data": {
      "application/vnd.jupyter.widget-view+json": {
       "model_id": "ed14ebb140f64f8dbf6f8e6eb644875b",
       "version_major": 2,
       "version_minor": 0
      },
      "text/plain": [
       "Button(description='Submit', style=ButtonStyle())"
      ]
     },
     "metadata": {},
     "output_type": "display_data"
    },
    {
     "name": "stdout",
     "output_type": "stream",
     "text": [
      "Received data: bloo\n"
     ]
    }
   ],
   "source": [
    "import ipywidgets as widgets\n",
    "\n",
    "# Create a text input widget\n",
    "text_input = widgets.Text(\n",
    "    value='',\n",
    "    placeholder='Enter some text',\n",
    "    description='Input:',\n",
    "    disabled=False\n",
    ")\n",
    "\n",
    "# Create a button widget\n",
    "submit_button = widgets.Button(description=\"Submit\")\n",
    "\n",
    "# Define the button click callback\n",
    "def on_button_click(button):\n",
    "    global captured_value\n",
    "    captured_value = text_input.value\n",
    "    print(f\"Received data: {captured_value}\")\n",
    "\n",
    "submit_button.on_click(on_button_click)\n",
    "\n",
    "# Display the widgets\n",
    "display(text_input, submit_button)\n"
   ]
  },
  {
   "cell_type": "code",
   "execution_count": null,
   "id": "63591b71",
   "metadata": {},
   "outputs": [],
   "source": []
  },
  {
   "cell_type": "markdown",
   "id": "122db9f5",
   "metadata": {},
   "source": [
    "# Replacing ids with unique ids"
   ]
  },
  {
   "cell_type": "code",
   "execution_count": 66,
   "id": "1d6c7eed",
   "metadata": {},
   "outputs": [
    {
     "data": {
      "text/plain": [
       "'id=\"name_db72fa7f\"'"
      ]
     },
     "execution_count": 66,
     "metadata": {},
     "output_type": "execute_result"
    }
   ],
   "source": [
    "replace_tokens"
   ]
  },
  {
   "cell_type": "code",
   "execution_count": 93,
   "id": "aa512d99",
   "metadata": {},
   "outputs": [
    {
     "name": "stdout",
     "output_type": "stream",
     "text": [
      "All tests passed!\n"
     ]
    }
   ],
   "source": [
    "import re\n",
    "import uuid\n",
    "from typing import Tuple\n",
    "\n",
    "_dflt_patterns = (\n",
    "    r'id=\"([^\"]+)\"',           # HTML id attributes\n",
    "    r'#([a-zA-Z][\\w\\-]*)',    # CSS IDs\n",
    "    r'document\\.getElementById\\(\"([^\"]+)\"\\)'  # JS getElementById\n",
    ")\n",
    "\n",
    "def replace_ids_in_code(\n",
    "    code: str, patterns: Tuple[str] = _dflt_patterns\n",
    ") -> (str, dict):\n",
    "    \"\"\"\n",
    "    Replaces IDs in a mixed HTML, CSS, and JS string with unique versions.\n",
    "    \n",
    "    Args:\n",
    "    - code (str): The input code containing HTML, CSS, and/or JS.\n",
    "    - patterns (tuple): A tuple of regex patterns to match IDs.\n",
    "    \n",
    "    Returns:\n",
    "    - tuple: A tuple containing the modified code and a dictionary of old-to-new ID mappings.\n",
    "    \"\"\"\n",
    "    # Patterns to match IDs\n",
    "    patterns = [\n",
    "        r'id=\"([^\"]+)\"',           # HTML id attributes\n",
    "        r'#([a-zA-Z][\\w\\-]*)',    # CSS IDs\n",
    "        r'document\\.getElementById\\(\"([^\"]+)\"\\)'  # JS getElementById\n",
    "    ]\n",
    "    \n",
    "    replaced = {}\n",
    "    \n",
    "    # Generate a unique ID\n",
    "    def unique_id(match):\n",
    "        old_id = match.group(1)\n",
    "        new_id = old_id + \"_\" + str(uuid.uuid4()).replace('-', '')[:8]\n",
    "        replaced[old_id] = new_id\n",
    "        return match.group(0).replace(old_id, new_id)\n",
    "    \n",
    "    # Replace all IDs in the code\n",
    "    for pattern in patterns:\n",
    "        code = re.sub(pattern, unique_id, code)\n",
    "    \n",
    "    return code, replaced\n",
    "\n",
    "\n",
    "\n",
    "def test_replace_ids_in_code():\n",
    "    # Test with HTML content\n",
    "    html_code = '<div id=\"test\">Hello</div>'\n",
    "    new_html, replaced_html = replace_ids_in_code(html_code)\n",
    "    assert 'id=\"test_' in new_html\n",
    "    assert 'test' in replaced_html\n",
    "\n",
    "    # Test with CSS content\n",
    "    css_code = '#test { color: red; }'\n",
    "    new_css, replaced_css = replace_ids_in_code(css_code)\n",
    "    assert '#test_' in new_css\n",
    "    assert 'test' in replaced_css\n",
    "\n",
    "    # Test with JS content\n",
    "    js_code = 'document.getElementById(\"test\").style.color = \"red\";'\n",
    "    new_js, replaced_js = replace_ids_in_code(js_code)\n",
    "    assert 'document.getElementById(\"test_' in new_js\n",
    "    assert 'test' in replaced_js\n",
    "\n",
    "    # Test with mixed content\n",
    "    mixed_code = '''\n",
    "    <div id=\"test\">Hello</div>\n",
    "    <style>#test { color: red; }</style>\n",
    "    <script>\n",
    "    document.getElementById(\"test\").style.color = \"blue\";\n",
    "    </script>\n",
    "    '''\n",
    "    new_mixed, replaced_mixed = replace_ids_in_code(mixed_code)\n",
    "    assert 'id=\"test_' in new_mixed\n",
    "    assert '#test_' in new_mixed\n",
    "    assert 'document.getElementById(\"test_' in new_mixed\n",
    "    assert 'test' in replaced_mixed\n",
    "\n",
    "    # Test with custom patterns\n",
    "    custom_patterns = (r'id=\"custom_([^\"]+)\"',)\n",
    "    custom_code = '<div id=\"custom_test\">Hello</div>'\n",
    "    new_custom, replaced_custom = replace_ids_in_code(custom_code, custom_patterns)\n",
    "    assert 'id=\"custom_test_' in new_custom\n",
    "    assert 'custom_test' in replaced_custom\n",
    "\n",
    "    # Another test\n",
    "\n",
    "    js_code = \"\"\"\n",
    "    function sendToPython(){\n",
    "        var data = document.querySelector(\"#myInput\").value;\n",
    "        var kernel = IPython.notebook.kernel;\n",
    "        kernel.execute(\"data_from_js = '\" + data + \"'\");\n",
    "        kernel.execute(\"print('Received data from JS: ' + data_from_js)\");\n",
    "    }\n",
    "\n",
    "    document.querySelector(\"#myButton\").addEventListener(\"click\", function(){\n",
    "        sendToPython();\n",
    "    });\n",
    "    \"\"\"\n",
    "\n",
    "    _js_code, _js_replacements = replace_ids_in_code(js_code)\n",
    "\n",
    "    # Html (with original js_code embedded in it)\n",
    "    HTML_code = \"\"\"\n",
    "    <input type=\"text\" id=\"myInput\" placeholder=\"Enter some text\">\n",
    "    <button id=\"myButton\">Submit</button>\n",
    "    <script type=\"text/Javascript\">{}</script>\n",
    "    \"\"\".format(js_code)\n",
    "\n",
    "    _html_code, _html_replacements = replace_ids_in_code(HTML_code)\n",
    "\n",
    "    assert sorted(_js_replacements) == sorted(_html_replacements) == ['myButton', 'myInput']\n",
    "\n",
    "    for replacement in _html_replacements.values():\n",
    "        assert replacement in _html_code\n",
    "\n",
    "\n",
    "\n",
    "# Run the tests\n",
    "test_replace_ids_in_code()\n",
    "print(\"All tests passed!\")\n",
    "\n"
   ]
  },
  {
   "cell_type": "code",
   "execution_count": 92,
   "id": "207d02c9",
   "metadata": {},
   "outputs": [
    {
     "name": "stdout",
     "output_type": "stream",
     "text": [
      "\n",
      "<input type=\"text\" id=\"myInput_4180b6d4\" placeholder=\"Enter some text\">\n",
      "<button id=\"myButton_b83d7254\">Submit</button>\n",
      "<script type=\"text/Javascript\">\n",
      "function sendToPython(){\n",
      "    var data = document.querySelector(\"#myInput_520d3fd1\").value;\n",
      "    var kernel = IPython.notebook.kernel;\n",
      "    kernel.execute(\"data_from_js = '\" + data + \"'\");\n",
      "    kernel.execute(\"print('Received data from JS: ' + data_from_js)\");\n",
      "}\n",
      "\n",
      "document.querySelector(\"#myButton_dd858349\").addEventListener(\"click\", function(){\n",
      "    sendToPython();\n",
      "});\n",
      "</script>\n",
      "\n"
     ]
    }
   ],
   "source": []
  },
  {
   "cell_type": "code",
   "execution_count": 82,
   "id": "2bf9ae3e",
   "metadata": {},
   "outputs": [
    {
     "ename": "TypeError",
     "evalue": "replace_tokens() got multiple values for argument 'token_extractor'",
     "output_type": "error",
     "traceback": [
      "\u001b[0;31m---------------------------------------------------------------------------\u001b[0m",
      "\u001b[0;31mTypeError\u001b[0m                                 Traceback (most recent call last)",
      "Cell \u001b[0;32mIn[82], line 1\u001b[0m\n\u001b[0;32m----> 1\u001b[0m _js_code_direct, _js_replacements_direct \u001b[39m=\u001b[39m replace_js_ids(js_code, \u001b[39m'\u001b[39;49m\u001b[39mjs\u001b[39;49m\u001b[39m'\u001b[39;49m)\n\u001b[1;32m      2\u001b[0m _js_replacements_direct\n",
      "\u001b[0;31mTypeError\u001b[0m: replace_tokens() got multiple values for argument 'token_extractor'"
     ]
    }
   ],
   "source": [
    "_js_code_direct, _js_replacements_direct = replace_js_ids(js_code, 'js')\n",
    "_js_replacements_direct"
   ]
  },
  {
   "cell_type": "code",
   "execution_count": 81,
   "id": "4b904bd6",
   "metadata": {},
   "outputs": [
    {
     "name": "stdout",
     "output_type": "stream",
     "text": [
      "js\n",
      "js\n",
      "{}\n",
      "{'id=\"myInput\"': 'id=\"myInput_c8055dca\"', 'id=\"myButton\"': 'id=\"myButton_71ba55b8\"'}\n"
     ]
    }
   ],
   "source": [
    "print(string_kind(js_code))  # Expected: 'js'\n",
    "print(string_kind(HTML_code))  # Expected: 'html'\n",
    "\n",
    "\n",
    "_js_code_direct, _js_replacements_direct = replace_js_ids(js_code)\n",
    "_html_code_direct, _html_replacements_direct = replace_html_ids(HTML_code)\n",
    "\n",
    "print(_js_replacements_direct)  # Expected: replacements for 'myInput' and 'myButton'\n",
    "print(_html_replacements_direct)  # Expected: replacements for 'myInput' and 'myButton'\n"
   ]
  },
  {
   "cell_type": "code",
   "execution_count": null,
   "id": "67e6f3ce",
   "metadata": {},
   "outputs": [],
   "source": []
  },
  {
   "cell_type": "code",
   "execution_count": null,
   "id": "95225d63",
   "metadata": {},
   "outputs": [],
   "source": []
  },
  {
   "cell_type": "code",
   "execution_count": null,
   "id": "00fc0bd7",
   "metadata": {},
   "outputs": [],
   "source": []
  },
  {
   "attachments": {},
   "cell_type": "markdown",
   "id": "8e5252a8",
   "metadata": {
    "collapsed": false
   },
   "source": [
    "# Calling JS mermaid from python, in a notebook"
   ]
  },
  {
   "attachments": {},
   "cell_type": "markdown",
   "id": "2528dd28",
   "metadata": {},
   "source": [
    "## Demo"
   ]
  },
  {
   "cell_type": "code",
   "execution_count": 1,
   "id": "6dcb4345",
   "metadata": {},
   "outputs": [],
   "source": [
    "import uuid\n",
    "\n",
    "_mermaid_display_template = \"\"\"\n",
    "<script type=\"module\">\n",
    "    async function initMermaid_{unique_id}() {{\n",
    "        const module = await import('https://cdn.jsdelivr.net/npm/mermaid@10/dist/mermaid.esm.min.mjs');\n",
    "        const mermaid = module.default;\n",
    "        mermaid.initialize({{ startOnLoad: true }});\n",
    "        mermaid.init(undefined, document.getElementById('mermaid_{unique_id}'));\n",
    "    }}\n",
    "    \n",
    "    if (document.readyState === 'loading') {{\n",
    "        document.addEventListener('DOMContentLoaded', initMermaid_{unique_id});\n",
    "    }} else {{\n",
    "        initMermaid_{unique_id}();\n",
    "    }}\n",
    "</script>\n",
    "\n",
    "<pre class=\"mermaid\" id=\"mermaid_{unique_id}\">\n",
    "    {code}\n",
    "</pre>\n",
    "\"\"\"\n",
    "\n",
    "\n",
    "def mermaid(code: str, *, prefix='graph', suffix='', egress=None):\n",
    "    if egress is None:\n",
    "        egress = lambda x: x\n",
    "    code_ = f\"{prefix}\\n{code}\\n{suffix}\"\n",
    "    unique_id = str(uuid.uuid4()).replace(\"-\", \"\")\n",
    "    html = _mermaid_display_template.format(code=code_, unique_id=unique_id)\n",
    "    return egress(html)\n"
   ]
  },
  {
   "cell_type": "code",
   "execution_count": 2,
   "id": "5e7dce3e",
   "metadata": {},
   "outputs": [],
   "source": [
    "code = \"A --> B --> C\""
   ]
  },
  {
   "cell_type": "code",
   "execution_count": 5,
   "id": "4d864839",
   "metadata": {},
   "outputs": [],
   "source": [
    "html = mermaid(code)\n",
    "assert isinstance(html, str)\n",
    "# print(html)"
   ]
  },
  {
   "attachments": {},
   "cell_type": "markdown",
   "id": "b35cbe10",
   "metadata": {},
   "source": [
    "You can define an `egress` to tell the function to return the result of `egress(html)` instead. This is useful, for example, to save the html, or wrap it in an object that can render it. For example, `IPython.display.HTML` will wrap it in a displayable `HTML` instance."
   ]
  },
  {
   "cell_type": "code",
   "execution_count": 6,
   "metadata": {
    "collapsed": false
   },
   "outputs": [
    {
     "data": {
      "text/html": [
       "\n",
       "<script type=\"module\">\n",
       "    async function initMermaid_573207c5c233473d8f3645020926f27b() {\n",
       "        const module = await import('https://cdn.jsdelivr.net/npm/mermaid@10/dist/mermaid.esm.min.mjs');\n",
       "        const mermaid = module.default;\n",
       "        mermaid.initialize({ startOnLoad: true });\n",
       "        mermaid.init(undefined, document.getElementById('mermaid_573207c5c233473d8f3645020926f27b'));\n",
       "    }\n",
       "    \n",
       "    if (document.readyState === 'loading') {\n",
       "        document.addEventListener('DOMContentLoaded', initMermaid_573207c5c233473d8f3645020926f27b);\n",
       "    } else {\n",
       "        initMermaid_573207c5c233473d8f3645020926f27b();\n",
       "    }\n",
       "</script>\n",
       "\n",
       "<pre class=\"mermaid\" id=\"mermaid_573207c5c233473d8f3645020926f27b\">\n",
       "    graph\n",
       "A --> B --> C\n",
       "\n",
       "</pre>\n"
      ],
      "text/plain": [
       "<IPython.core.display.HTML object>"
      ]
     },
     "execution_count": 6,
     "metadata": {},
     "output_type": "execute_result"
    }
   ],
   "source": [
    "from IPython.display import HTML\n",
    "\n",
    "mermaid(code, egress=HTML)"
   ]
  },
  {
   "attachments": {},
   "cell_type": "markdown",
   "id": "fa45fbc0",
   "metadata": {},
   "source": [
    "`mermaid` is setup to be a framework through `functools.partial`. \n",
    "For example, to get a function that does left-to-right graphs (the default is top-to-bottom),\n",
    "and returning an `HTML` instance systematically, you can do the following:"
   ]
  },
  {
   "cell_type": "code",
   "execution_count": 8,
   "id": "2de836aa",
   "metadata": {},
   "outputs": [],
   "source": [
    "from functools import partial\n",
    "from IPython.display import display, HTML\n",
    "\n",
    "lr_graph = partial(mermaid, prefix='graph LR', egress=HTML)"
   ]
  },
  {
   "cell_type": "code",
   "execution_count": 9,
   "id": "adeb02bf",
   "metadata": {},
   "outputs": [
    {
     "data": {
      "text/html": [
       "\n",
       "<script type=\"module\">\n",
       "    async function initMermaid_3b562873d1304cc2a2a643a5ddd14e1d() {\n",
       "        const module = await import('https://cdn.jsdelivr.net/npm/mermaid@10/dist/mermaid.esm.min.mjs');\n",
       "        const mermaid = module.default;\n",
       "        mermaid.initialize({ startOnLoad: true });\n",
       "        mermaid.init(undefined, document.getElementById('mermaid_3b562873d1304cc2a2a643a5ddd14e1d'));\n",
       "    }\n",
       "    \n",
       "    if (document.readyState === 'loading') {\n",
       "        document.addEventListener('DOMContentLoaded', initMermaid_3b562873d1304cc2a2a643a5ddd14e1d);\n",
       "    } else {\n",
       "        initMermaid_3b562873d1304cc2a2a643a5ddd14e1d();\n",
       "    }\n",
       "</script>\n",
       "\n",
       "<pre class=\"mermaid\" id=\"mermaid_3b562873d1304cc2a2a643a5ddd14e1d\">\n",
       "    graph LR\n",
       "A --> B --> C\n",
       "\n",
       "</pre>\n"
      ],
      "text/plain": [
       "<IPython.core.display.HTML object>"
      ]
     },
     "execution_count": 9,
     "metadata": {},
     "output_type": "execute_result"
    }
   ],
   "source": [
    "lr_graph(code)"
   ]
  },
  {
   "cell_type": "code",
   "execution_count": null,
   "id": "4d401825",
   "metadata": {},
   "outputs": [],
   "source": []
  },
  {
   "cell_type": "code",
   "execution_count": null,
   "id": "244da025",
   "metadata": {},
   "outputs": [],
   "source": []
  },
  {
   "cell_type": "code",
   "execution_count": null,
   "id": "760f4898",
   "metadata": {},
   "outputs": [],
   "source": []
  }
 ],
 "metadata": {
  "kernelspec": {
   "display_name": "Python 3 (ipykernel)",
   "language": "python",
   "name": "python3"
  },
  "language_info": {
   "codemirror_mode": {
    "name": "ipython",
    "version": 3
   },
   "file_extension": ".py",
   "mimetype": "text/x-python",
   "name": "python",
   "nbconvert_exporter": "python",
   "pygments_lexer": "ipython3",
   "version": "3.10.8"
  },
  "toc": {
   "base_numbering": 1,
   "nav_menu": {},
   "number_sections": true,
   "sideBar": true,
   "skip_h1_title": false,
   "title_cell": "Table of Contents",
   "title_sidebar": "Contents",
   "toc_cell": false,
   "toc_position": {},
   "toc_section_display": true,
   "toc_window_display": false
  }
 },
 "nbformat": 4,
 "nbformat_minor": 5
}
