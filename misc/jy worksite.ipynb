{
 "cells": [
  {
   "cell_type": "code",
   "execution_count": null,
   "id": "4d4da804",
   "metadata": {},
   "outputs": [],
   "source": []
  },
  {
   "cell_type": "code",
   "execution_count": null,
   "id": "7d611e24",
   "metadata": {},
   "outputs": [],
   "source": []
  },
  {
   "cell_type": "markdown",
   "id": "3b8f6a44",
   "metadata": {},
   "source": [
    "# The problem"
   ]
  },
  {
   "cell_type": "markdown",
   "id": "fe2f1a53",
   "metadata": {},
   "source": [
    "We want to be able to take a \"JS component\" and use it from python, in a jupyter notebook.\n",
    "\n",
    "By \"JS component\" I mean \"some JS+HTML+CSS that defines an element, view, or full 'app' whose functionality can be reused in various places\". \n",
    "\n",
    "The idea is to be able to facilitate reuse between front-end dev and back-end dev\n",
    "(in particular, analysts and ML engineers). \n",
    "We'd like, for instance, an analyst working within a notebook to import a python interface \n",
    "to some rich data-explorer component written in ReactJS, feed it what it needs (e.g. a data source/target), \n",
    "and then use the component's features fully, enabling the work done in it to then be \n",
    "used back in the notebook. \n",
    "\n",
    "For example, saw we take a [forced-directed graph](https://towardsdatascience.com/large-graph-visualization-tools-and-approaches-2b8758a1cd59) or [tsne viz](https://github.com/karpathy/tsnejs) tool that visualizes data, enabling us to view, filter and select data points. \n",
    "We'd like our analysts to be able to provide their data, or point to a source where the data can be found, \n",
    "and then once they find an select the data they want to work with, using the features of the tool,\n",
    "be able to extract that data and get it into some python collection that they can then continue their analysis with. \n",
    "\n",
    "Here's a proof-of-concept solution for the example described above, along with other instances of this class.\n",
    "\n",
    "Use some persisted data store and a platform-independent format as the middleware for py and js communication.\n",
    "* From python, we write the data to a DB or files in a JS-friendly format (like json or csv).\n",
    "* JS can then read this data from that source and do it's work\n",
    "* When we want to communicate some data back to python, we do so again, through the \"shared\" data store\n",
    "\n",
    "We could already get far by automating the strategy above as much as possible:\n",
    "Not obliging the user to set up the data store themselves or have to define the codecs \n",
    "necessary to communicate to the data middleware (at least not for the most common data types an analyst might use). \n",
    "Perhaps this approach could be further extended to allow some in-memory data store to be used, \n",
    "which would improve communication speed. \n",
    "\n",
    "We'd like to be able to do this with any JS component, but only through a specific normalized interface. \n",
    "That is, the automation of the PY-JS communication setup will be done only for very specific (but open-closed)\n",
    "python and JS interfaces. To use a third-party JS component, we will need to wrap it into a facade that \n",
    "is compliant with our normalized interface that we will rely on, and the python interface will be totally determined by this.\n",
    "This facade needs to be open-closed though. \n",
    "That is, it needs to be able to accomodate any \"lines of communication\" between python and the JS component. \n",
    "\n",
    "Note: Some solutions work in some environments, and not in others. \n",
    "Typically, I've seen some things work in my browser-based notebook, but not in VScode notebook. \n",
    "We don't want to target covering all environments, but at least browser-based and VScode, which should cover a lot of users. \n",
    "\n"
   ]
  },
  {
   "cell_type": "markdown",
   "id": "bdf451f2",
   "metadata": {},
   "source": [
    "## Two-way JS-PY communication"
   ]
  },
  {
   "cell_type": "markdown",
   "id": "05e8fe21",
   "metadata": {},
   "source": [
    "Integrating JavaScript components with a Python notebook and enabling two-way communication can be a bit complex, but it's definitely possible. Here's a high-level overview of how you can achieve this:\n",
    "1.\t**Embedding JavaScript in Jupyter Notebook**: You can use the `IPython` core display module to embed JavaScript code in a cell.\n",
    "2.\t**Creating a JavaScript Component**: Define your JavaScript component and its functionality. This can be a simple button or a more complex interactive component.\n",
    "3.\t**Communication from Python to JavaScript**: You can call a JavaScript function from Python using the `IPython` display module.\n",
    "4.\t**Communication from JavaScript to Python**: This is the tricky part. Jupyter provides a `Jupyter.notebook.kernel.execute` method that allows JavaScript to run Python code.\n"
   ]
  },
  {
   "cell_type": "markdown",
   "id": "076aaccd",
   "metadata": {},
   "source": [
    "# Solutions"
   ]
  },
  {
   "cell_type": "markdown",
   "id": "3d68eb4f",
   "metadata": {},
   "source": [
    "## Just IPython"
   ]
  },
  {
   "cell_type": "markdown",
   "id": "24c6e285",
   "metadata": {},
   "source": [
    "Works on browser, not in VScode.\n",
    "\n",
    "[See discussion](https://github.com/i2mint/jy/discussions/3#discussioncomment-6862019)"
   ]
  },
  {
   "cell_type": "code",
   "execution_count": 13,
   "id": "e5894e41",
   "metadata": {
    "ExecuteTime": {
     "end_time": "2023-12-07T16:50:11.870002Z",
     "start_time": "2023-12-07T16:50:11.845656Z"
    }
   },
   "outputs": [],
   "source": [
    "from IPython.display import display, HTML, Javascript\n",
    "\n",
    "js_code = \"\"\"\n",
    "function sendToPython(){\n",
    "    var data = document.querySelector(\"#myInput\").value;\n",
    "    var kernel = IPython.notebook.kernel;\n",
    "    kernel.execute(\"data_from_js = '\" + data + \"'\");\n",
    "}\n",
    "\n",
    "document.querySelector(\"#myButton\").addEventListener(\"click\", function(){\n",
    "    sendToPython();\n",
    "});\n",
    "\"\"\"\n",
    "\n",
    "HTML_code = \"\"\"\n",
    "<input type=\"text\" id=\"myInput\" placeholder=\"Enter some text\">\n",
    "<button id=\"myButton\">Submit</button>\n",
    "<script type=\"text/Javascript\">{}</script>\n",
    "\"\"\".format(js_code)\n",
    "\n",
    "data_from_js = None   # not even necessary to initialize, but makes checking no throw an error, but print None instead"
   ]
  },
  {
   "cell_type": "code",
   "execution_count": 14,
   "id": "407562e9",
   "metadata": {
    "ExecuteTime": {
     "end_time": "2023-12-07T16:50:16.822626Z",
     "start_time": "2023-12-07T16:50:16.799680Z"
    }
   },
   "outputs": [
    {
     "data": {
      "text/html": [
       "\n",
       "<input type=\"text\" id=\"myInput\" placeholder=\"Enter some text\">\n",
       "<button id=\"myButton\">Submit</button>\n",
       "<script type=\"text/Javascript\">\n",
       "function sendToPython(){\n",
       "    var data = document.querySelector(\"#myInput\").value;\n",
       "    var kernel = IPython.notebook.kernel;\n",
       "    kernel.execute(\"data_from_js = '\" + data + \"'\");\n",
       "}\n",
       "\n",
       "document.querySelector(\"#myButton\").addEventListener(\"click\", function(){\n",
       "    sendToPython();\n",
       "});\n",
       "</script>\n"
      ],
      "text/plain": [
       "<IPython.core.display.HTML object>"
      ]
     },
     "metadata": {},
     "output_type": "display_data"
    }
   ],
   "source": [
    "# Running this cell should display a text box and a button. Enter some text in the text box and click the button. \n",
    "# The text should be sent to Python and stored in the variable data_from_js. \n",
    "# The next cell will print the value of data_from_js...\n",
    "# ... if it works (works on browser but not VSCode, for me)\n",
    "display(HTML(HTML_code))"
   ]
  },
  {
   "cell_type": "code",
   "execution_count": 15,
   "id": "1b02abb9",
   "metadata": {
    "ExecuteTime": {
     "end_time": "2023-12-07T16:50:24.204782Z",
     "start_time": "2023-12-07T16:50:24.177077Z"
    }
   },
   "outputs": [
    {
     "name": "stdout",
     "output_type": "stream",
     "text": [
      "dasdf\n"
     ]
    }
   ],
   "source": [
    "print(data_from_js)"
   ]
  },
  {
   "cell_type": "code",
   "execution_count": 10,
   "id": "3ccd8909",
   "metadata": {},
   "outputs": [
    {
     "data": {
      "text/html": [
       "\n",
       "<input type=\"text\" id=\"myInput\" placeholder=\"Enter some text\">\n",
       "<button id=\"myButton\">Submit</button>\n",
       "<script type=\"text/Javascript\">\n",
       "function sendToPython(){\n",
       "    var data = document.querySelector(\"#myInput\").value;\n",
       "    var kernel = IPython.notebook.kernel;\n",
       "    kernel.execute(\"data_from_js = '\" + data + \"'\");\n",
       "}\n",
       "\n",
       "document.querySelector(\"#myButton\").addEventListener(\"click\", function(){\n",
       "    sendToPython();\n",
       "});\n",
       "</script>\n"
      ],
      "text/plain": [
       "<IPython.core.display.HTML object>"
      ]
     },
     "metadata": {},
     "output_type": "display_data"
    }
   ],
   "source": [
    "from IPython.display import display, HTML, Javascript\n",
    "\n",
    "js_code = \"\"\"\n",
    "function sendToPython(){\n",
    "    var data = document.querySelector(\"#myInput\").value;\n",
    "    var kernel = IPython.notebook.kernel;\n",
    "    kernel.execute(\"data_from_js = '\" + data + \"'\");\n",
    "}\n",
    "\n",
    "document.querySelector(\"#myButton\").addEventListener(\"click\", function(){\n",
    "    sendToPython();\n",
    "});\n",
    "\"\"\"\n",
    "\n",
    "HTML_code = \"\"\"\n",
    "<input type=\"text\" id=\"myInput\" placeholder=\"Enter some text\">\n",
    "<button id=\"myButton\">Submit</button>\n",
    "<script type=\"text/Javascript\">{}</script>\n",
    "\"\"\".format(js_code)\n",
    "\n",
    "display(HTML(HTML_code))"
   ]
  },
  {
   "cell_type": "code",
   "execution_count": null,
   "id": "db2544ac",
   "metadata": {},
   "outputs": [],
   "source": []
  },
  {
   "cell_type": "markdown",
   "id": "4be5b7c9",
   "metadata": {},
   "source": [
    "## ipywidgets"
   ]
  },
  {
   "cell_type": "markdown",
   "id": "9b6d0aab",
   "metadata": {},
   "source": [
    "This solution works both in browser and VSCode!\n",
    "\n",
    "Unfortunately, it's not what we want. Here, we're making the JS+HTML via ipywidgets. \n",
    "What we want is to make any JS component integrated in a notebook. \n",
    "Perhaps we can do so **via** `ipywidgets`, using [custom widgets](https://ipywidgets.readthedocs.io/en/7.x/examples/Widget%20Custom.html)\n",
    "\n",
    "[See discussion](https://github.com/i2mint/jy/discussions/3#discussioncomment-6862673)"
   ]
  },
  {
   "cell_type": "code",
   "execution_count": 1,
   "id": "1144a6dc",
   "metadata": {},
   "outputs": [
    {
     "data": {
      "application/vnd.jupyter.widget-view+json": {
       "model_id": "0d94f7c2c9f7420faf0bb726402503b8",
       "version_major": 2,
       "version_minor": 0
      },
      "text/plain": [
       "Text(value='', description='Text:', placeholder='Enter some text')"
      ]
     },
     "metadata": {},
     "output_type": "display_data"
    },
    {
     "data": {
      "application/vnd.jupyter.widget-view+json": {
       "model_id": "0380214ff03a46f1a7c18f73ce029e65",
       "version_major": 2,
       "version_minor": 0
      },
      "text/plain": [
       "Button(description='Submit', style=ButtonStyle())"
      ]
     },
     "metadata": {},
     "output_type": "display_data"
    },
    {
     "name": "stdout",
     "output_type": "stream",
     "text": [
      "Received data: hello\n"
     ]
    }
   ],
   "source": [
    "import ipywidgets as widgets\n",
    "from IPython.display import display\n",
    "\n",
    "# Python function to be called when the button is clicked\n",
    "def on_button_click(button):\n",
    "    global data_from_js\n",
    "    data_from_js = text_input.value\n",
    "    print(f\"Received data: {data_from_js}\")\n",
    "\n",
    "# Create a text input widget\n",
    "text_input = widgets.Text(\n",
    "    value='',\n",
    "    placeholder='Enter some text',\n",
    "    description='Text:',\n",
    "    disabled=False\n",
    ")\n",
    "\n",
    "# Create a button widget\n",
    "button = widgets.Button(description=\"Submit\")\n",
    "button.on_click(on_button_click)\n",
    "\n",
    "# Display the widgets\n",
    "display(text_input, button)"
   ]
  },
  {
   "cell_type": "code",
   "execution_count": 2,
   "id": "b1fee9c7",
   "metadata": {},
   "outputs": [
    {
     "name": "stdout",
     "output_type": "stream",
     "text": [
      "hello\n"
     ]
    }
   ],
   "source": [
    "print(data_from_js)"
   ]
  },
  {
   "cell_type": "markdown",
   "id": "9d3f9c55",
   "metadata": {},
   "source": [
    "# ipywidget injection"
   ]
  },
  {
   "cell_type": "markdown",
   "id": "77d626a8",
   "metadata": {},
   "source": [
    "To create a custom IPyWidget with HTML and JS code, you can define a Python function that utilizes the `widgets.HTML` class from the `ipywidgets` library to embed the HTML and JS code into the Jupyter Notebook. Here’s a simple Python function that takes HTML and JS code as strings and returns an IPyWidget:"
   ]
  },
  {
   "cell_type": "code",
   "execution_count": 6,
   "id": "cb548640",
   "metadata": {},
   "outputs": [],
   "source": [
    "from ipywidgets import HTML\n",
    "\n",
    "def create_custom_widget(html_code: str, js_code: str):\n",
    "    # Embed the JS code within script tags and concatenate it with the HTML code\n",
    "    full_code = html_code + '<script type=\"text/javascript\">' + js_code + '</script>'\n",
    "    \n",
    "    # Create and return an HTML widget with the combined code\n",
    "    return HTML(value=full_code)\n"
   ]
  },
  {
   "cell_type": "markdown",
   "id": "972276c7",
   "metadata": {},
   "source": [
    "You can use this function by passing your HTML and JS code as strings to it and then displaying the returned widget in your Jupyter Notebook. Here’s an example of how to use it:\n"
   ]
  },
  {
   "cell_type": "code",
   "execution_count": 7,
   "id": "89287fea",
   "metadata": {},
   "outputs": [
    {
     "data": {
      "application/vnd.jupyter.widget-view+json": {
       "model_id": "05f8ad870d104929bcc90a86280a5f85",
       "version_major": 2,
       "version_minor": 0
      },
      "text/plain": [
       "HTML(value='<button id=\"myButton\">Click Me!</button><script type=\"text/javascript\">\\ndocument.getElementById(\"…"
      ]
     },
     "execution_count": 7,
     "metadata": {},
     "output_type": "execute_result"
    }
   ],
   "source": [
    "html_code = '<button id=\"myButton\">Click Me!</button>'\n",
    "js_code = '''\n",
    "document.getElementById(\"myButton\").addEventListener(\"click\", function() {\n",
    "    alert(\"Button Clicked!\");\n",
    "});\n",
    "'''\n",
    "\n",
    "widget = create_custom_widget(html_code, js_code)\n",
    "\n",
    "# To display the widget in a Jupyter Notebook cell, simply write the widget variable name in a cell and run it.\n",
    "widget\n"
   ]
  },
  {
   "cell_type": "markdown",
   "id": "0099e45d",
   "metadata": {},
   "source": [
    "This example will create a button, and when you click it, an alert box will appear with the message \"Button Clicked!\"."
   ]
  },
  {
   "cell_type": "markdown",
   "id": "b46cd3ab",
   "metadata": {},
   "source": [
    "## Results"
   ]
  },
  {
   "cell_type": "markdown",
   "id": "c3bb7cb4",
   "metadata": {},
   "source": [
    "I tried it in VSCode and I'm not getting the alert. \n",
    "Troubleshoot.\n",
    "\n",
    "For example consider this:\n",
    "\n",
    "Where might that alert message actually be going? I'm not getting an error message. I'm just getting nothing. In a browser I'd be able to inspect what's happening, but in VSCOde I don't know what to do.\n",
    "\n",
    "Might there be a special setting in VsCode that lets me override a \"safety\" default that is blocking the alert pop up?\n",
    "\n",
    "Could I try a different even listener callback? One that, for example, sends a value python?"
   ]
  },
  {
   "cell_type": "markdown",
   "id": "5e2b77bb",
   "metadata": {},
   "source": [
    "In a VSCode notebook, the behavior of JavaScript can be different from that in a traditional Jupyter notebook running in a browser. Here are some steps to troubleshoot the issue:\n",
    "\n",
    "1. **Alert Restrictions**: VSCode might restrict or sandbox the execution of certain JavaScript functions, such as `alert()`, for security reasons. Instead of using `alert()`, you can try logging the message to the console using `console.log()`. This will allow you to see if the JavaScript code is being executed at all.\n",
    "\n",
    "2. **Check the Developer Console**: VSCode has a developer console where you can see any errors or logs. To access it:\n",
    "   - Go to the menu: `Help` > `Toggle Developer Tools`.\n",
    "   - Check the `Console` tab for any errors or logs.\n",
    "\n",
    "3. **Send Data to Python**: Instead of using an alert to display a message, you can send data back to Python from JavaScript. Here's an example of how you can modify the JavaScript code to send data to Python:\n",
    "\n",
    "   ```javascript\n",
    "   function sendToPython(){\n",
    "       var data = document.querySelector(\"#myInput\").value;\n",
    "       var kernel = IPython.notebook.kernel;\n",
    "       kernel.execute(\"data_from_js = '\" + data + \"'\");\n",
    "       kernel.execute(\"print('Received data from JS: ' + data_from_js)\");\n",
    "   }\n",
    "   ```\n",
    "\n",
    "   This will print the received data in the notebook cell output.\n",
    "\n",
    "4. **VSCode Settings**: There might be settings or extensions in VSCode that interfere with the execution of JavaScript in notebooks. Ensure that you have the latest version of the Jupyter extension for VSCode installed. Also, check if there are any settings related to content security or script execution that might be blocking the JavaScript.\n",
    "\n",
    "5. **Alternative Approach**: If you're trying to create an interactive widget, consider using `ipywidgets` or other Python-based interactive tools that are designed to work seamlessly with Jupyter notebooks, including in VSCode.\n",
    "\n",
    "6. **External Libraries**: Ensure that any external libraries or dependencies required by your JavaScript code are correctly loaded and accessible in the VSCode notebook environment.\n",
    "\n",
    "7. **Test in a Browser**: As a sanity check, run the same code in a traditional Jupyter notebook in a browser to see if the issue is specific to VSCode or if it's something in the code itself.\n",
    "\n",
    "If you've tried the above steps and are still facing issues, please provide more details about the exact code and setup, and I'll do my best to assist further."
   ]
  },
  {
   "cell_type": "markdown",
   "id": "872c6851",
   "metadata": {},
   "source": [
    "## Embedding Javascript"
   ]
  },
  {
   "cell_type": "code",
   "execution_count": 75,
   "id": "52830618",
   "metadata": {},
   "outputs": [
    {
     "data": {
      "application/javascript": [
       "\n",
       "function sayHello() {\n",
       "    alert('Hello from JavaScript!');\n",
       "    // Call a Python function from JavaScript\n",
       "    Jupyter.notebook.kernel.execute('hello_from_python()');\n",
       "}\n",
       "sayHello();  // Call the function\n"
      ],
      "text/plain": [
       "<IPython.core.display.Javascript object>"
      ]
     },
     "metadata": {},
     "output_type": "display_data"
    }
   ],
   "source": [
    "# alert NOT showing in VSCode notebook (but does show in browser)\n",
    "# Print shows in neither (CORS problem)\n",
    "from IPython.display import display, HTML, Javascript\n",
    "\n",
    "def hello_from_python():\n",
    "    print(\"Hello from Python!\")\n",
    "\n",
    "# Define and call the JavaScript function\n",
    "js_code = \"\"\"\n",
    "function sayHello() {\n",
    "    alert('Hello from JavaScript!');\n",
    "    // Call a Python function from JavaScript\n",
    "    Jupyter.notebook.kernel.execute('hello_from_python()');\n",
    "}\n",
    "sayHello();  // Call the function\n",
    "\"\"\"\n",
    "\n",
    "# Embed the JavaScript code in the notebook\n",
    "display(Javascript(js_code))"
   ]
  },
  {
   "cell_type": "code",
   "execution_count": 76,
   "id": "9dd0c2ea",
   "metadata": {},
   "outputs": [
    {
     "data": {
      "application/javascript": [
       "\n",
       "function sayHello() {\n",
       "    alert('Hello from JavaScript!');\n",
       "    // Call a Python function from JavaScript\n",
       "    IPython.notebook.kernel.execute('hello_from_python()');\n",
       "}\n",
       "sayHello();\n"
      ],
      "text/plain": [
       "<IPython.core.display.Javascript object>"
      ]
     },
     "metadata": {},
     "output_type": "display_data"
    }
   ],
   "source": [
    "# Tried replacing \n",
    "#    Jupyter.notebook.kernel.execute\n",
    "# with\n",
    "#    IPython.notebook.kernel.execute\n",
    "# BUT, same thing:\n",
    "# - alert NOT showing in VSCode notebook (but does show in browser)\n",
    "# - print shows in neither (CORS problem)\n",
    "from IPython.display import display, HTML, Javascript\n",
    "\n",
    "js_code = \"\"\"\n",
    "function sayHello() {\n",
    "    alert('Hello from JavaScript!');\n",
    "    // Call a Python function from JavaScript\n",
    "    IPython.notebook.kernel.execute('hello_from_python()');\n",
    "}\n",
    "sayHello();\n",
    "\"\"\"\n",
    "\n",
    "display(Javascript(js_code))"
   ]
  },
  {
   "cell_type": "code",
   "execution_count": null,
   "id": "63581b8d",
   "metadata": {},
   "outputs": [],
   "source": []
  },
  {
   "cell_type": "code",
   "execution_count": 4,
   "id": "e4bab094",
   "metadata": {},
   "outputs": [
    {
     "data": {
      "text/html": [
       "\n",
       "<script>\n",
       "function sayHello() {\n",
       "    alert('Hello from JavaScript!');\n",
       "    // Call a Python function from JavaScript\n",
       "    Jupyter.notebook.kernel.execute('hello_from_python()');\n",
       "}\n",
       "</script>\n",
       "<button onclick=\"sayHello()\">Click Me!</button>\n"
      ],
      "text/plain": [
       "<IPython.core.display.HTML object>"
      ]
     },
     "metadata": {},
     "output_type": "display_data"
    }
   ],
   "source": [
    "# Button showing, but alert not showing in VSCode notebook!\n",
    "\n",
    "from IPython.display import display, HTML\n",
    "\n",
    "# Define a simple JavaScript function within an HTML script tag\n",
    "js_code = \"\"\"\n",
    "<script>\n",
    "function sayHello() {\n",
    "    alert('Hello from JavaScript!');\n",
    "    // Call a Python function from JavaScript\n",
    "    Jupyter.notebook.kernel.execute('hello_from_python()');\n",
    "}\n",
    "</script>\n",
    "<button onclick=\"sayHello()\">Click Me!</button>\n",
    "\"\"\"\n",
    "\n",
    "# Embed the JavaScript code in the notebook using HTML\n",
    "display(HTML(js_code))\n"
   ]
  },
  {
   "cell_type": "code",
   "execution_count": 73,
   "id": "d99d3ca8",
   "metadata": {},
   "outputs": [
    {
     "data": {
      "application/vnd.jupyter.widget-view+json": {
       "model_id": "ac183c2b96224f9095ea242cc26eaaaa",
       "version_major": 2,
       "version_minor": 0
      },
      "text/plain": [
       "Button(description='Click Me!', style=ButtonStyle())"
      ]
     },
     "metadata": {},
     "output_type": "display_data"
    },
    {
     "name": "stdout",
     "output_type": "stream",
     "text": [
      "Button clicked!\n",
      "Button clicked!\n"
     ]
    }
   ],
   "source": [
    "import ipywidgets as widgets\n",
    "from IPython.display import display\n",
    "\n",
    "def on_button_click(button):\n",
    "    print(\"Button clicked!\")\n",
    "\n",
    "button = widgets.Button(description=\"Click Me!\")\n",
    "button.on_click(on_button_click)\n",
    "display(button)"
   ]
  },
  {
   "cell_type": "code",
   "execution_count": 9,
   "id": "0f6fc531",
   "metadata": {},
   "outputs": [
    {
     "data": {
      "text/html": [
       "\n",
       "<button id=\"myButton\">Click me!</button>\n",
       "<script type=\"text/Javascript\">\n",
       "function sendToPython(data){\n",
       "    var kernel = IPython.notebook.kernel;\n",
       "    kernel.execute(\"data_from_js = '\" + data + \"'\");\n",
       "}\n",
       "\n",
       "document.querySelector(\"#myButton\").addEventListener(\"click\", function(){\n",
       "    sendToPython(this.innerHTML);\n",
       "});\n",
       "</script>\n"
      ],
      "text/plain": [
       "<IPython.core.display.HTML object>"
      ]
     },
     "execution_count": 9,
     "metadata": {},
     "output_type": "execute_result"
    }
   ],
   "source": [
    "from IPython.display import display, HTML, Javascript\n",
    "\n",
    "js_code = \"\"\"\n",
    "function sendToPython(data){\n",
    "    var kernel = IPython.notebook.kernel;\n",
    "    kernel.execute(\"data_from_js = '\" + data + \"'\");\n",
    "}\n",
    "\n",
    "document.querySelector(\"#myButton\").addEventListener(\"click\", function(){\n",
    "    sendToPython(this.innerHTML);\n",
    "});\n",
    "\"\"\"\n",
    "\n",
    "HTML(\"\"\"\n",
    "<button id=\"myButton\">Click me!</button>\n",
    "<script type=\"text/Javascript\">{}</script>\n",
    "\"\"\".format(js_code))"
   ]
  },
  {
   "cell_type": "code",
   "execution_count": 8,
   "id": "872a5658",
   "metadata": {},
   "outputs": [],
   "source": [
    "def python_callback(data):\n",
    "    print(f\"Received data from JS: {data}\")\n",
    "\n",
    "# This will be called automatically when the button is clicked\n",
    "data_from_js = None\n",
    "\n",
    "if data_from_js:\n",
    "    python_callback(data_from_js)"
   ]
  },
  {
   "cell_type": "code",
   "execution_count": 13,
   "id": "1a29c6a7",
   "metadata": {},
   "outputs": [
    {
     "data": {
      "application/vnd.jupyter.widget-view+json": {
       "model_id": "65ef6fda2b634c11ba21cc19805638eb",
       "version_major": 2,
       "version_minor": 0
      },
      "text/plain": [
       "Text(value='', description='What you want to tell python:')"
      ]
     },
     "metadata": {},
     "output_type": "display_data"
    },
    {
     "data": {
      "application/vnd.jupyter.widget-view+json": {
       "model_id": "5fcda35023304727b6292af6639ef43b",
       "version_major": 2,
       "version_minor": 0
      },
      "text/plain": [
       "Button(description='Submit', style=ButtonStyle())"
      ]
     },
     "metadata": {},
     "output_type": "display_data"
    },
    {
     "name": "stdout",
     "output_type": "stream",
     "text": [
      "Button(description='Submit', style=ButtonStyle())\n",
      "['__annotations__', '__class__', '__del__', '__delattr__', '__dict__', '__dir__', '__doc__', '__eq__', '__format__', '__ge__', '__getattribute__', '__getstate__', '__gt__', '__hash__', '__init__', '__init_subclass__', '__le__', '__lt__', '__module__', '__ne__', '__new__', '__reduce__', '__reduce_ex__', '__repr__', '__setattr__', '__setstate__', '__sizeof__', '__str__', '__subclasshook__', '__weakref__', '_active_widgets', '_add_notifiers', '_call_widget_constructed', '_click_handlers', '_comm_changed', '_compare', '_control_comm', '_cross_validation_lock', '_default_keys', '_dom_classes', '_gen_repr_from_keys', '_get_embed_state', '_get_trait_default_generator', '_handle_button_msg', '_handle_control_comm_msg', '_handle_custom_msg', '_handle_msg', '_holding_sync', '_is_numpy', '_lock_property', '_log_default', '_model_id', '_model_module', '_model_module_version', '_model_name', '_msg_callbacks', '_notify_observers', '_notify_trait', '_property_lock', '_register_validator', '_remove_notifiers', '_repr_keys', '_repr_mimebundle_', '_send', '_should_send_property', '_states_to_send', '_trait_default_generators', '_trait_from_json', '_trait_notifiers', '_trait_to_json', '_trait_validators', '_trait_values', '_validate_icon', '_view_count', '_view_module', '_view_module_version', '_view_name', '_widget_construction_callback', '_widget_types', 'add_class', 'add_traits', 'blur', 'button_style', 'class_own_trait_events', 'class_own_traits', 'class_trait_names', 'class_traits', 'click', 'close', 'close_all', 'comm', 'cross_validation_lock', 'description', 'disabled', 'focus', 'get_manager_state', 'get_state', 'get_view_spec', 'handle_comm_opened', 'handle_control_comm_opened', 'has_trait', 'hold_sync', 'hold_trait_notifications', 'icon', 'keys', 'layout', 'log', 'model_id', 'notify_change', 'observe', 'on_click', 'on_msg', 'on_trait_change', 'on_widget_constructed', 'open', 'remove_class', 'send', 'send_state', 'set_state', 'set_trait', 'setup_instance', 'style', 'tabbable', 'tooltip', 'trait_defaults', 'trait_events', 'trait_has_value', 'trait_metadata', 'trait_names', 'trait_values', 'traits', 'unobserve', 'unobserve_all']\n"
     ]
    },
    {
     "ename": "NameError",
     "evalue": "name 'key' is not defined",
     "output_type": "error",
     "traceback": [
      "\u001b[0;31m---------------------------------------------------------------------------\u001b[0m",
      "\u001b[0;31mNameError\u001b[0m                                 Traceback (most recent call last)",
      "Cell \u001b[0;32mIn[13], line 7\u001b[0m, in \u001b[0;36mon_button_click\u001b[0;34m(b)\u001b[0m\n\u001b[1;32m      5\u001b[0m \u001b[39mprint\u001b[39m(b)\n\u001b[1;32m      6\u001b[0m \u001b[39mprint\u001b[39m(\u001b[39mf\u001b[39m\u001b[39m\"\u001b[39m\u001b[39m{\u001b[39;00m\u001b[39mdir\u001b[39m(b)\u001b[39m}\u001b[39;00m\u001b[39m\"\u001b[39m)\n\u001b[0;32m----> 7\u001b[0m d[key] \u001b[39m=\u001b[39m text\u001b[39m.\u001b[39mvalue\n",
      "\u001b[0;31mNameError\u001b[0m: name 'key' is not defined"
     ]
    }
   ],
   "source": [
    "import ipywidgets as widgets\n",
    "from IPython.display import display\n",
    "\n",
    "def on_button_click(b):\n",
    "    print(b)\n",
    "    print(f\"{dir(b)}\")\n",
    "    d[key] = text.value\n",
    "\n",
    "def my_function(d, key):\n",
    "    text = widgets.Text(description='What you want to tell python:')\n",
    "    button = widgets.Button(description='Submit')\n",
    "    button.on_click(on_button_click)\n",
    "\n",
    "    display(text)\n",
    "    display(button)\n",
    "\n",
    "d = dict()\n",
    "\n",
    "my_function(d, 'key')"
   ]
  },
  {
   "cell_type": "code",
   "execution_count": null,
   "id": "b9b37dc6",
   "metadata": {},
   "outputs": [],
   "source": []
  },
  {
   "cell_type": "code",
   "execution_count": 42,
   "id": "b5fb806e",
   "metadata": {},
   "outputs": [
    {
     "data": {
      "text/html": [
       "\n",
       "<input type=\"text\" id=\"myInput\" placeholder=\"Enter some text\">\n",
       "<button id=\"myButton\">Submit</button>\n",
       "<script type=\"text/Javascript\">\n",
       "function sendToPython(){\n",
       "    var data = document.querySelector(\"#myInput\").value;\n",
       "    var kernel = IPython.notebook.kernel;\n",
       "    kernel.execute(\"data_from_js = '\" + data + \"'\");\n",
       "}\n",
       "\n",
       "document.querySelector(\"#myButton\").addEventListener(\"click\", function(){\n",
       "    sendToPython();\n",
       "});\n",
       "</script>\n"
      ],
      "text/plain": [
       "<IPython.core.display.HTML object>"
      ]
     },
     "metadata": {},
     "output_type": "display_data"
    }
   ],
   "source": [
    "from IPython.display import display, HTML, Javascript\n",
    "\n",
    "js_code = \"\"\"\n",
    "function sendToPython(){\n",
    "    var data = document.querySelector(\"#myInput\").value;\n",
    "    var kernel = IPython.notebook.kernel;\n",
    "    kernel.execute(\"data_from_js = '\" + data + \"'\");\n",
    "}\n",
    "\n",
    "document.querySelector(\"#myButton\").addEventListener(\"click\", function(){\n",
    "    sendToPython();\n",
    "});\n",
    "\"\"\"\n",
    "\n",
    "HTML_code = \"\"\"\n",
    "<input type=\"text\" id=\"myInput\" placeholder=\"Enter some text\">\n",
    "<button id=\"myButton\">Submit</button>\n",
    "<script type=\"text/Javascript\">{}</script>\n",
    "\"\"\".format(js_code)\n",
    "\n",
    "display(HTML(HTML_code))\n"
   ]
  },
  {
   "cell_type": "code",
   "execution_count": 44,
   "id": "25ae864e",
   "metadata": {},
   "outputs": [
    {
     "name": "stdout",
     "output_type": "stream",
     "text": [
      "None\n"
     ]
    }
   ],
   "source": [
    "print(data_from_js)"
   ]
  },
  {
   "cell_type": "code",
   "execution_count": 14,
   "id": "02365bbf",
   "metadata": {},
   "outputs": [
    {
     "data": {
      "text/html": [
       "\n",
       "<div>\n",
       "  <label for=\"input\">What you want to tell python:</label>\n",
       "  <input type=\"text\" id=\"input\" name=\"input\">\n",
       "  <button id=\"submit\">Submit</button>\n",
       "</div>\n"
      ],
      "text/plain": [
       "<IPython.core.display.HTML object>"
      ]
     },
     "metadata": {},
     "output_type": "display_data"
    },
    {
     "data": {
      "text/html": [
       "<script>\n",
       "    const input = document.querySelector('input');\n",
       "    const button = document.querySelector('button');\n",
       "\n",
       "    button.addEventListener('click', () => {\n",
       "        const value = input.value;\n",
       "        const kernel = IPython.notebook.kernel;\n",
       "        kernel.execute(`d['${key}'] = '${value}'`);\n",
       "    });\n",
       "    </script>"
      ],
      "text/plain": [
       "<IPython.core.display.HTML object>"
      ]
     },
     "metadata": {},
     "output_type": "display_data"
    }
   ],
   "source": [
    "from IPython.display import HTML\n",
    "\n",
    "def my_function(html, d, key):\n",
    "    display(HTML(html))\n",
    "\n",
    "    js_code = \"\"\"\n",
    "    const input = document.querySelector('input');\n",
    "    const button = document.querySelector('button');\n",
    "\n",
    "    button.addEventListener('click', () => {\n",
    "        const value = input.value;\n",
    "        const kernel = IPython.notebook.kernel;\n",
    "        kernel.execute(`d['${key}'] = '${value}'`);\n",
    "    });\n",
    "    \"\"\"\n",
    "\n",
    "    display(HTML(f'<script>{js_code}</script>'))\n",
    "\n",
    "html = \"\"\"\n",
    "<div>\n",
    "  <label for=\"input\">What you want to tell python:</label>\n",
    "  <input type=\"text\" id=\"input\" name=\"input\">\n",
    "  <button id=\"submit\">Submit</button>\n",
    "</div>\n",
    "\"\"\"\n",
    "\n",
    "d = {}\n",
    "key = 'my_key'\n",
    "\n",
    "my_function(html, d, key)\n",
    "\n",
    "html\n"
   ]
  },
  {
   "cell_type": "code",
   "execution_count": 41,
   "id": "bc6b6efc",
   "metadata": {},
   "outputs": [
    {
     "name": "stdout",
     "output_type": "stream",
     "text": [
      "None\n"
     ]
    }
   ],
   "source": []
  },
  {
   "cell_type": "code",
   "execution_count": null,
   "id": "33408a8e",
   "metadata": {},
   "outputs": [],
   "source": []
  },
  {
   "cell_type": "code",
   "execution_count": 37,
   "id": "86837718",
   "metadata": {},
   "outputs": [
    {
     "data": {
      "text/html": [
       "\n",
       "<div>\n",
       "  <label for=\"input\">What you want to tell python:</label>\n",
       "  <input type=\"text\" id=\"input\" name=\"input\">\n",
       "  <button id=\"submit\">Submit</button>\n",
       "</div>\n"
      ],
      "text/plain": [
       "<IPython.core.display.HTML object>"
      ]
     },
     "metadata": {},
     "output_type": "display_data"
    },
    {
     "data": {
      "text/html": [
       "<script>\n",
       "    const input = document.querySelector('input');\n",
       "    const button = document.querySelector('button');\n",
       "\n",
       "    button.addEventListener('click', () => {\n",
       "        const value = input.value;\n",
       "        const kernel = IPython.notebook.kernel;\n",
       "        kernel.execute(`d['${key}'] = '${value}'`);\n",
       "    });\n",
       "    </script>"
      ],
      "text/plain": [
       "<IPython.core.display.HTML object>"
      ]
     },
     "metadata": {},
     "output_type": "display_data"
    }
   ],
   "source": [
    "from IPython.display import HTML\n",
    "\n",
    "def my_function(html, d, key):\n",
    "    display(HTML(html))\n",
    "\n",
    "    js_code = \"\"\"\n",
    "    const input = document.querySelector('input');\n",
    "    const button = document.querySelector('button');\n",
    "\n",
    "    button.addEventListener('click', () => {\n",
    "        const value = input.value;\n",
    "        const kernel = IPython.notebook.kernel;\n",
    "        kernel.execute(`d['${key}'] = '${value}'`);\n",
    "    });\n",
    "    \"\"\"\n",
    "\n",
    "    display(HTML(f'<script>{js_code}</script>'))\n",
    "\n",
    "html = \"\"\"\n",
    "<div>\n",
    "  <label for=\"input\">What you want to tell python:</label>\n",
    "  <input type=\"text\" id=\"input\" name=\"input\">\n",
    "  <button id=\"submit\">Submit</button>\n",
    "</div>\n",
    "\"\"\"\n",
    "\n",
    "d = {}\n",
    "\n",
    "from dol import TextFiles\n",
    "\n",
    "d = TextFiles('/Users/thorwhalen/Dropbox/py/proj/i/jy/misc/data')\n",
    "key = 'my_key'\n",
    "\n",
    "my_function(html, d, key)\n"
   ]
  },
  {
   "cell_type": "code",
   "execution_count": 35,
   "id": "c3fa1f13",
   "metadata": {},
   "outputs": [],
   "source": [
    "d[key] = 'foob'"
   ]
  },
  {
   "cell_type": "code",
   "execution_count": 36,
   "id": "1bdf86d2",
   "metadata": {},
   "outputs": [
    {
     "data": {
      "text/plain": [
       "['my_key']"
      ]
     },
     "execution_count": 36,
     "metadata": {},
     "output_type": "execute_result"
    }
   ],
   "source": [
    "list(d)"
   ]
  },
  {
   "cell_type": "code",
   "execution_count": 31,
   "id": "37886d86",
   "metadata": {},
   "outputs": [
    {
     "data": {
      "text/plain": [
       "'/Users/thorwhalen/Dropbox/py/proj/i/jy/misc'"
      ]
     },
     "execution_count": 31,
     "metadata": {},
     "output_type": "execute_result"
    }
   ],
   "source": [
    "pwd"
   ]
  },
  {
   "cell_type": "code",
   "execution_count": null,
   "id": "19598290",
   "metadata": {},
   "outputs": [],
   "source": []
  },
  {
   "cell_type": "code",
   "execution_count": 45,
   "id": "367c1a8d",
   "metadata": {},
   "outputs": [],
   "source": [
    "from IPython.display import display, Javascript\n",
    "import ipywidgets as widgets\n",
    "from IPython.display import display\n",
    "from traitlets import Unicode\n",
    "\n",
    "class DataReceiver(widgets.DOMWidget):\n",
    "    _view_name = Unicode('DataReceiverView').tag(sync=True)\n",
    "    _view_module = Unicode('dataReceiver').tag(sync=True)\n",
    "    _view_module_version = Unicode('0.1.0').tag(sync=True)\n",
    "    value = Unicode().tag(sync=True)\n",
    "\n",
    "    def __init__(self, **kwargs):\n",
    "        super().__init__(**kwargs)\n",
    "        self.value = \"\"\n",
    "        self.observe(self.on_value_change, 'value')\n",
    "\n",
    "    def on_value_change(self, change):\n",
    "        print(f\"Received data from JS: {change['new']}\")\n"
   ]
  },
  {
   "cell_type": "code",
   "execution_count": 46,
   "id": "e2a886ed",
   "metadata": {},
   "outputs": [
    {
     "data": {
      "application/javascript": [
       "\n",
       "require.undef('dataReceiver');\n",
       "\n",
       "define('dataReceiver', [\"@jupyter-widgets/base\"], function(widgets) {\n",
       "    var DataReceiverView = widgets.DOMWidgetView.extend({\n",
       "        render: function() {\n",
       "            this.value_changed();\n",
       "            this.model.on('change:value', this.value_changed, this);\n",
       "        },\n",
       "\n",
       "        events: {\n",
       "            'click #myButton': 'handle_click'\n",
       "        },\n",
       "\n",
       "        handle_click: function() {\n",
       "            var data = document.querySelector(\"#myInput\").value;\n",
       "            this.model.set('value', data);\n",
       "            this.touch();\n",
       "        },\n",
       "\n",
       "        value_changed: function() {\n",
       "            var old_value = this.model.previous('value');\n",
       "            var new_value = this.model.get('value');\n",
       "        },\n",
       "    });\n",
       "\n",
       "    return {\n",
       "        DataReceiverView: DataReceiverView\n",
       "    };\n",
       "});\n"
      ],
      "text/plain": [
       "<IPython.core.display.Javascript object>"
      ]
     },
     "metadata": {},
     "output_type": "display_data"
    }
   ],
   "source": [
    "%%javascript\n",
    "\n",
    "require.undef('dataReceiver');\n",
    "\n",
    "define('dataReceiver', [\"@jupyter-widgets/base\"], function(widgets) {\n",
    "    var DataReceiverView = widgets.DOMWidgetView.extend({\n",
    "        render: function() {\n",
    "            this.value_changed();\n",
    "            this.model.on('change:value', this.value_changed, this);\n",
    "        },\n",
    "\n",
    "        events: {\n",
    "            'click #myButton': 'handle_click'\n",
    "        },\n",
    "\n",
    "        handle_click: function() {\n",
    "            var data = document.querySelector(\"#myInput\").value;\n",
    "            this.model.set('value', data);\n",
    "            this.touch();\n",
    "        },\n",
    "\n",
    "        value_changed: function() {\n",
    "            var old_value = this.model.previous('value');\n",
    "            var new_value = this.model.get('value');\n",
    "        },\n",
    "    });\n",
    "\n",
    "    return {\n",
    "        DataReceiverView: DataReceiverView\n",
    "    };\n",
    "});\n"
   ]
  },
  {
   "cell_type": "code",
   "execution_count": 47,
   "id": "3f522900",
   "metadata": {},
   "outputs": [
    {
     "data": {
      "text/html": [
       "\n",
       "<input type=\"text\" id=\"myInput\" placeholder=\"Enter some text\">\n",
       "<button id=\"myButton\">Submit</button>\n"
      ],
      "text/plain": [
       "<IPython.core.display.HTML object>"
      ]
     },
     "metadata": {},
     "output_type": "display_data"
    },
    {
     "data": {
      "application/vnd.jupyter.widget-view+json": {
       "model_id": "5036efe711314048a6510c43b255597d",
       "version_major": 2,
       "version_minor": 0
      },
      "text/plain": [
       "DataReceiver()"
      ]
     },
     "metadata": {},
     "output_type": "display_data"
    }
   ],
   "source": [
    "receiver = DataReceiver()\n",
    "\n",
    "HTML_code = \"\"\"\n",
    "<input type=\"text\" id=\"myInput\" placeholder=\"Enter some text\">\n",
    "<button id=\"myButton\">Submit</button>\n",
    "\"\"\"\n",
    "\n",
    "display(HTML(HTML_code))\n",
    "display(receiver)"
   ]
  },
  {
   "cell_type": "code",
   "execution_count": 48,
   "id": "c8b3cf8c",
   "metadata": {},
   "outputs": [
    {
     "data": {
      "text/html": [
       "\n",
       "<input type=\"text\" id=\"myInput\" placeholder=\"Enter some text\">\n",
       "<button id=\"myButton\">Submit</button>\n",
       "<script type=\"text/Javascript\">\n",
       "function sendToPython(){\n",
       "    var data = document.querySelector(\"#myInput\").value;\n",
       "    var kernel = IPython.notebook.kernel;\n",
       "    kernel.execute(\"data_from_js = '\" + data + \"'\");\n",
       "    kernel.execute(\"print('Received data from JS: ' + data_from_js)\");\n",
       "}\n",
       "\n",
       "document.querySelector(\"#myButton\").addEventListener(\"click\", function(){\n",
       "    sendToPython();\n",
       "});\n",
       "</script>\n"
      ],
      "text/plain": [
       "<IPython.core.display.HTML object>"
      ]
     },
     "metadata": {},
     "output_type": "display_data"
    }
   ],
   "source": [
    "from IPython.display import display, HTML, Javascript\n",
    "\n",
    "js_code = \"\"\"\n",
    "function sendToPython(){\n",
    "    var data = document.querySelector(\"#myInput\").value;\n",
    "    var kernel = IPython.notebook.kernel;\n",
    "    kernel.execute(\"data_from_js = '\" + data + \"'\");\n",
    "    kernel.execute(\"print('Received data from JS: ' + data_from_js)\");\n",
    "}\n",
    "\n",
    "document.querySelector(\"#myButton\").addEventListener(\"click\", function(){\n",
    "    sendToPython();\n",
    "});\n",
    "\"\"\"\n",
    "\n",
    "HTML_code = \"\"\"\n",
    "<input type=\"text\" id=\"myInput\" placeholder=\"Enter some text\">\n",
    "<button id=\"myButton\">Submit</button>\n",
    "<script type=\"text/Javascript\">{}</script>\n",
    "\"\"\".format(js_code)\n",
    "\n",
    "display(HTML(HTML_code))\n"
   ]
  },
  {
   "cell_type": "code",
   "execution_count": null,
   "id": "5a170c6d",
   "metadata": {},
   "outputs": [],
   "source": []
  },
  {
   "cell_type": "code",
   "execution_count": 49,
   "id": "32f4b692",
   "metadata": {},
   "outputs": [
    {
     "data": {
      "application/javascript": [
       "\n",
       "function getInputValueAndSendToPython(){\n",
       "    var data = document.querySelector(\"#myInput\").value;\n",
       "    return data;\n",
       "}\n"
      ],
      "text/plain": [
       "<IPython.core.display.Javascript object>"
      ]
     },
     "metadata": {},
     "output_type": "display_data"
    }
   ],
   "source": [
    "js_code = \"\"\"\n",
    "function getInputValueAndSendToPython(){\n",
    "    var data = document.querySelector(\"#myInput\").value;\n",
    "    return data;\n",
    "}\n",
    "\"\"\"\n",
    "\n",
    "display(Javascript(js_code))\n"
   ]
  },
  {
   "cell_type": "code",
   "execution_count": null,
   "id": "e969d802",
   "metadata": {},
   "outputs": [],
   "source": []
  },
  {
   "cell_type": "code",
   "execution_count": null,
   "id": "14e22c35",
   "metadata": {},
   "outputs": [],
   "source": []
  },
  {
   "cell_type": "code",
   "execution_count": 52,
   "id": "ef426b09",
   "metadata": {},
   "outputs": [
    {
     "data": {
      "text/html": [
       "\n",
       "<input type=\"text\" id=\"myInput\" placeholder=\"Enter some text\">\n",
       "<button onclick=\"IPython.notebook.kernel.execute('handle_input_value(\"' + getInputValueAndSendToPython() + '\")')\">Submit</button>\n"
      ],
      "text/plain": [
       "<IPython.core.display.HTML object>"
      ]
     },
     "metadata": {},
     "output_type": "display_data"
    }
   ],
   "source": [
    "def handle_input_value(value):\n",
    "    print(f\"Received data from JS: {value}\")\n",
    "\n",
    "HTML_code = \"\"\"\n",
    "<input type=\"text\" id=\"myInput\" placeholder=\"Enter some text\">\n",
    "<button onclick=\"IPython.notebook.kernel.execute('handle_input_value(\"' + getInputValueAndSendToPython() + '\")')\">Submit</button>\n",
    "\"\"\"\n",
    "\n",
    "display(HTML(HTML_code))"
   ]
  },
  {
   "cell_type": "code",
   "execution_count": 53,
   "id": "2ec2d081",
   "metadata": {},
   "outputs": [
    {
     "data": {
      "application/vnd.jupyter.widget-view+json": {
       "model_id": "51d22d4ff9704ed89f738ccbca1c5d05",
       "version_major": 2,
       "version_minor": 0
      },
      "text/plain": [
       "Text(value='', description='Input:', placeholder='Enter some text')"
      ]
     },
     "metadata": {},
     "output_type": "display_data"
    },
    {
     "data": {
      "application/vnd.jupyter.widget-view+json": {
       "model_id": "4bab3463414142ee9cb28b9bc2968304",
       "version_major": 2,
       "version_minor": 0
      },
      "text/plain": [
       "Button(description='Submit', style=ButtonStyle())"
      ]
     },
     "metadata": {},
     "output_type": "display_data"
    },
    {
     "name": "stdout",
     "output_type": "stream",
     "text": [
      "Received data: asdf\n"
     ]
    }
   ],
   "source": [
    "import ipywidgets as widgets\n",
    "\n",
    "# Create a text input widget\n",
    "text_input = widgets.Text(\n",
    "    value='',\n",
    "    placeholder='Enter some text',\n",
    "    description='Input:',\n",
    "    disabled=False\n",
    ")\n",
    "\n",
    "# Create a button widget\n",
    "submit_button = widgets.Button(description=\"Submit\")\n",
    "\n",
    "# Define the button click callback\n",
    "def on_button_click(button):\n",
    "    print(f\"Received data: {text_input.value}\")\n",
    "\n",
    "submit_button.on_click(on_button_click)\n",
    "\n",
    "# Display the widgets\n",
    "display(text_input, submit_button)"
   ]
  },
  {
   "cell_type": "code",
   "execution_count": null,
   "id": "082f7e1c",
   "metadata": {},
   "outputs": [],
   "source": []
  },
  {
   "cell_type": "code",
   "execution_count": 54,
   "id": "d006bfd9",
   "metadata": {},
   "outputs": [],
   "source": [
    "import ipywidgets as widgets\n",
    "from traitlets import Unicode, validate\n",
    "\n",
    "class CustomTextInput(widgets.DOMWidget):\n",
    "    _view_name = Unicode('CustomTextInputView').tag(sync=True)\n",
    "    _view_module = Unicode('customTextInput').tag(sync=True)\n",
    "    _view_module_version = Unicode('0.1.0').tag(sync=True)\n",
    "    \n",
    "    value = Unicode().tag(sync=True)\n"
   ]
  },
  {
   "cell_type": "code",
   "execution_count": 58,
   "id": "e125bb5f",
   "metadata": {},
   "outputs": [
    {
     "data": {
      "application/javascript": [
       "\n",
       "require.undef('customTextInput');\n",
       "\n",
       "define('customTextInput', [\"@jupyter-widgets/base\"], function(widgets) {\n",
       "    var CustomTextInputView = widgets.DOMWidgetView.extend({\n",
       "        render: function() {\n",
       "            this.inputElement = document.createElement('input');\n",
       "            this.inputElement.type = 'text';\n",
       "            this.inputElement.placeholder = 'Enter some text';\n",
       "            \n",
       "            this.el.appendChild(this.inputElement);\n",
       "            \n",
       "            this.inputElement.addEventListener('change', this.valueChanged.bind(this));\n",
       "            \n",
       "            this.valueChanged();\n",
       "        },\n",
       "        \n",
       "        valueChanged: function() {\n",
       "            this.model.set('value', this.inputElement.value);\n",
       "            this.touch();\n",
       "        },\n",
       "    });\n",
       "    \n",
       "    return {\n",
       "        CustomTextInputView: CustomTextInputView\n",
       "    };\n",
       "});\n"
      ],
      "text/plain": [
       "<IPython.core.display.Javascript object>"
      ]
     },
     "metadata": {},
     "output_type": "display_data"
    }
   ],
   "source": [
    "%%javascript\n",
    "\n",
    "require.undef('customTextInput');\n",
    "\n",
    "define('customTextInput', [\"@jupyter-widgets/base\"], function(widgets) {\n",
    "    var CustomTextInputView = widgets.DOMWidgetView.extend({\n",
    "        render: function() {\n",
    "            this.inputElement = document.createElement('input');\n",
    "            this.inputElement.type = 'text';\n",
    "            this.inputElement.placeholder = 'Enter some text';\n",
    "            \n",
    "            this.el.appendChild(this.inputElement);\n",
    "            \n",
    "            this.inputElement.addEventListener('change', this.valueChanged.bind(this));\n",
    "            \n",
    "            this.valueChanged();\n",
    "        },\n",
    "        \n",
    "        valueChanged: function() {\n",
    "            this.model.set('value', this.inputElement.value);\n",
    "            this.touch();\n",
    "        },\n",
    "    });\n",
    "    \n",
    "    return {\n",
    "        CustomTextInputView: CustomTextInputView\n",
    "    };\n",
    "});\n"
   ]
  },
  {
   "cell_type": "code",
   "execution_count": 61,
   "id": "c2e252b3",
   "metadata": {},
   "outputs": [
    {
     "data": {
      "application/vnd.jupyter.widget-view+json": {
       "model_id": "6efe5ca544104b5f9bfec9d81b8afb2a",
       "version_major": 2,
       "version_minor": 0
      },
      "text/plain": [
       "CustomTextInput()"
      ]
     },
     "metadata": {},
     "output_type": "display_data"
    }
   ],
   "source": [
    "custom_input = CustomTextInput()\n",
    "display(custom_input)"
   ]
  },
  {
   "cell_type": "code",
   "execution_count": 62,
   "id": "0ba29b9c",
   "metadata": {},
   "outputs": [
    {
     "name": "stdout",
     "output_type": "stream",
     "text": [
      "\n"
     ]
    }
   ],
   "source": [
    "print(custom_input.value)\n"
   ]
  },
  {
   "cell_type": "code",
   "execution_count": null,
   "id": "0d9a7636",
   "metadata": {},
   "outputs": [],
   "source": []
  },
  {
   "cell_type": "code",
   "execution_count": 63,
   "id": "a0fbe775",
   "metadata": {},
   "outputs": [],
   "source": [
    "import ipywidgets as widgets\n",
    "from traitlets import Unicode\n",
    "\n",
    "class CustomTextInput(widgets.DOMWidget):\n",
    "    _view_name = Unicode('CustomTextInputView').tag(sync=True)\n",
    "    _view_module = Unicode('customTextInput').tag(sync=True)\n",
    "    _view_module_version = Unicode('0.1.0').tag(sync=True)\n",
    "    \n",
    "    value = Unicode().tag(sync=True)"
   ]
  },
  {
   "cell_type": "code",
   "execution_count": 64,
   "id": "f76cd8f7",
   "metadata": {},
   "outputs": [
    {
     "data": {
      "application/javascript": [
       "\n",
       "require.undef('customTextInput');\n",
       "\n",
       "define('customTextInput', [\"@jupyter-widgets/base\"], function(widgets) {\n",
       "    var CustomTextInputView = widgets.DOMWidgetView.extend({\n",
       "        render: function() {\n",
       "            // Create input element\n",
       "            this.inputElement = document.createElement('input');\n",
       "            this.inputElement.type = 'text';\n",
       "            this.inputElement.placeholder = 'Enter some text';\n",
       "            this.el.appendChild(this.inputElement);\n",
       "            \n",
       "            // Create submit button\n",
       "            this.submitButton = document.createElement('button');\n",
       "            this.submitButton.innerHTML = 'Submit';\n",
       "            this.submitButton.onclick = this.handleSubmit.bind(this);\n",
       "            this.el.appendChild(this.submitButton);\n",
       "        },\n",
       "        \n",
       "        handleSubmit: function() {\n",
       "            this.model.set('value', this.inputElement.value);\n",
       "            this.touch();\n",
       "        },\n",
       "    });\n",
       "    \n",
       "    return {\n",
       "        CustomTextInputView: CustomTextInputView\n",
       "    };\n",
       "});\n"
      ],
      "text/plain": [
       "<IPython.core.display.Javascript object>"
      ]
     },
     "metadata": {},
     "output_type": "display_data"
    }
   ],
   "source": [
    "%%javascript\n",
    "\n",
    "require.undef('customTextInput');\n",
    "\n",
    "define('customTextInput', [\"@jupyter-widgets/base\"], function(widgets) {\n",
    "    var CustomTextInputView = widgets.DOMWidgetView.extend({\n",
    "        render: function() {\n",
    "            // Create input element\n",
    "            this.inputElement = document.createElement('input');\n",
    "            this.inputElement.type = 'text';\n",
    "            this.inputElement.placeholder = 'Enter some text';\n",
    "            this.el.appendChild(this.inputElement);\n",
    "            \n",
    "            // Create submit button\n",
    "            this.submitButton = document.createElement('button');\n",
    "            this.submitButton.innerHTML = 'Submit';\n",
    "            this.submitButton.onclick = this.handleSubmit.bind(this);\n",
    "            this.el.appendChild(this.submitButton);\n",
    "        },\n",
    "        \n",
    "        handleSubmit: function() {\n",
    "            this.model.set('value', this.inputElement.value);\n",
    "            this.touch();\n",
    "        },\n",
    "    });\n",
    "    \n",
    "    return {\n",
    "        CustomTextInputView: CustomTextInputView\n",
    "    };\n",
    "});\n"
   ]
  },
  {
   "cell_type": "code",
   "execution_count": 67,
   "id": "f3bd5b0f",
   "metadata": {},
   "outputs": [
    {
     "data": {
      "application/vnd.jupyter.widget-view+json": {
       "model_id": "69b037d993d847cb8e16ac3434371ac4",
       "version_major": 2,
       "version_minor": 0
      },
      "text/plain": [
       "CustomTextInput()"
      ]
     },
     "metadata": {},
     "output_type": "display_data"
    }
   ],
   "source": [
    "custom_input = CustomTextInput()\n",
    "display(custom_input)"
   ]
  },
  {
   "cell_type": "code",
   "execution_count": 66,
   "id": "81ae3192",
   "metadata": {},
   "outputs": [
    {
     "name": "stdout",
     "output_type": "stream",
     "text": [
      "\n"
     ]
    }
   ],
   "source": [
    "print(custom_input.value)"
   ]
  },
  {
   "cell_type": "code",
   "execution_count": 68,
   "id": "ee038033",
   "metadata": {},
   "outputs": [
    {
     "data": {
      "application/vnd.jupyter.widget-view+json": {
       "model_id": "9908a1898bb748c2a69b0cc29ca25ec4",
       "version_major": 2,
       "version_minor": 0
      },
      "text/plain": [
       "Text(value='', description='Input:', placeholder='Enter some text')"
      ]
     },
     "metadata": {},
     "output_type": "display_data"
    },
    {
     "data": {
      "application/vnd.jupyter.widget-view+json": {
       "model_id": "ed14ebb140f64f8dbf6f8e6eb644875b",
       "version_major": 2,
       "version_minor": 0
      },
      "text/plain": [
       "Button(description='Submit', style=ButtonStyle())"
      ]
     },
     "metadata": {},
     "output_type": "display_data"
    },
    {
     "name": "stdout",
     "output_type": "stream",
     "text": [
      "Received data: bloo\n"
     ]
    }
   ],
   "source": [
    "import ipywidgets as widgets\n",
    "\n",
    "# Create a text input widget\n",
    "text_input = widgets.Text(\n",
    "    value='',\n",
    "    placeholder='Enter some text',\n",
    "    description='Input:',\n",
    "    disabled=False\n",
    ")\n",
    "\n",
    "# Create a button widget\n",
    "submit_button = widgets.Button(description=\"Submit\")\n",
    "\n",
    "# Define the button click callback\n",
    "def on_button_click(button):\n",
    "    global captured_value\n",
    "    captured_value = text_input.value\n",
    "    print(f\"Received data: {captured_value}\")\n",
    "\n",
    "submit_button.on_click(on_button_click)\n",
    "\n",
    "# Display the widgets\n",
    "display(text_input, submit_button)\n"
   ]
  },
  {
   "cell_type": "code",
   "execution_count": null,
   "id": "63591b71",
   "metadata": {},
   "outputs": [],
   "source": []
  },
  {
   "cell_type": "markdown",
   "id": "122db9f5",
   "metadata": {},
   "source": [
    "# Replacing ids with unique ids"
   ]
  },
  {
   "cell_type": "code",
   "execution_count": 66,
   "id": "1d6c7eed",
   "metadata": {},
   "outputs": [
    {
     "data": {
      "text/plain": [
       "'id=\"name_db72fa7f\"'"
      ]
     },
     "execution_count": 66,
     "metadata": {},
     "output_type": "execute_result"
    }
   ],
   "source": [
    "replace_tokens"
   ]
  },
  {
   "cell_type": "code",
   "execution_count": 93,
   "id": "aa512d99",
   "metadata": {},
   "outputs": [
    {
     "name": "stdout",
     "output_type": "stream",
     "text": [
      "All tests passed!\n"
     ]
    }
   ],
   "source": [
    "import re\n",
    "import uuid\n",
    "from typing import Tuple\n",
    "\n",
    "_dflt_patterns = (\n",
    "    r'id=\"([^\"]+)\"',           # HTML id attributes\n",
    "    r'#([a-zA-Z][\\w\\-]*)',    # CSS IDs\n",
    "    r'document\\.getElementById\\(\"([^\"]+)\"\\)'  # JS getElementById\n",
    ")\n",
    "\n",
    "def replace_ids_in_code(\n",
    "    code: str, patterns: Tuple[str] = _dflt_patterns\n",
    ") -> (str, dict):\n",
    "    \"\"\"\n",
    "    Replaces IDs in a mixed HTML, CSS, and JS string with unique versions.\n",
    "    \n",
    "    Args:\n",
    "    - code (str): The input code containing HTML, CSS, and/or JS.\n",
    "    - patterns (tuple): A tuple of regex patterns to match IDs.\n",
    "    \n",
    "    Returns:\n",
    "    - tuple: A tuple containing the modified code and a dictionary of old-to-new ID mappings.\n",
    "    \"\"\"\n",
    "    # Patterns to match IDs\n",
    "    patterns = [\n",
    "        r'id=\"([^\"]+)\"',           # HTML id attributes\n",
    "        r'#([a-zA-Z][\\w\\-]*)',    # CSS IDs\n",
    "        r'document\\.getElementById\\(\"([^\"]+)\"\\)'  # JS getElementById\n",
    "    ]\n",
    "    \n",
    "    replaced = {}\n",
    "    \n",
    "    # Generate a unique ID\n",
    "    def unique_id(match):\n",
    "        old_id = match.group(1)\n",
    "        new_id = old_id + \"_\" + str(uuid.uuid4()).replace('-', '')[:8]\n",
    "        replaced[old_id] = new_id\n",
    "        return match.group(0).replace(old_id, new_id)\n",
    "    \n",
    "    # Replace all IDs in the code\n",
    "    for pattern in patterns:\n",
    "        code = re.sub(pattern, unique_id, code)\n",
    "    \n",
    "    return code, replaced\n",
    "\n",
    "\n",
    "\n",
    "def test_replace_ids_in_code():\n",
    "    # Test with HTML content\n",
    "    html_code = '<div id=\"test\">Hello</div>'\n",
    "    new_html, replaced_html = replace_ids_in_code(html_code)\n",
    "    assert 'id=\"test_' in new_html\n",
    "    assert 'test' in replaced_html\n",
    "\n",
    "    # Test with CSS content\n",
    "    css_code = '#test { color: red; }'\n",
    "    new_css, replaced_css = replace_ids_in_code(css_code)\n",
    "    assert '#test_' in new_css\n",
    "    assert 'test' in replaced_css\n",
    "\n",
    "    # Test with JS content\n",
    "    js_code = 'document.getElementById(\"test\").style.color = \"red\";'\n",
    "    new_js, replaced_js = replace_ids_in_code(js_code)\n",
    "    assert 'document.getElementById(\"test_' in new_js\n",
    "    assert 'test' in replaced_js\n",
    "\n",
    "    # Test with mixed content\n",
    "    mixed_code = '''\n",
    "    <div id=\"test\">Hello</div>\n",
    "    <style>#test { color: red; }</style>\n",
    "    <script>\n",
    "    document.getElementById(\"test\").style.color = \"blue\";\n",
    "    </script>\n",
    "    '''\n",
    "    new_mixed, replaced_mixed = replace_ids_in_code(mixed_code)\n",
    "    assert 'id=\"test_' in new_mixed\n",
    "    assert '#test_' in new_mixed\n",
    "    assert 'document.getElementById(\"test_' in new_mixed\n",
    "    assert 'test' in replaced_mixed\n",
    "\n",
    "    # Test with custom patterns\n",
    "    custom_patterns = (r'id=\"custom_([^\"]+)\"',)\n",
    "    custom_code = '<div id=\"custom_test\">Hello</div>'\n",
    "    new_custom, replaced_custom = replace_ids_in_code(custom_code, custom_patterns)\n",
    "    assert 'id=\"custom_test_' in new_custom\n",
    "    assert 'custom_test' in replaced_custom\n",
    "\n",
    "    # Another test\n",
    "\n",
    "    js_code = \"\"\"\n",
    "    function sendToPython(){\n",
    "        var data = document.querySelector(\"#myInput\").value;\n",
    "        var kernel = IPython.notebook.kernel;\n",
    "        kernel.execute(\"data_from_js = '\" + data + \"'\");\n",
    "        kernel.execute(\"print('Received data from JS: ' + data_from_js)\");\n",
    "    }\n",
    "\n",
    "    document.querySelector(\"#myButton\").addEventListener(\"click\", function(){\n",
    "        sendToPython();\n",
    "    });\n",
    "    \"\"\"\n",
    "\n",
    "    _js_code, _js_replacements = replace_ids_in_code(js_code)\n",
    "\n",
    "    # Html (with original js_code embedded in it)\n",
    "    HTML_code = \"\"\"\n",
    "    <input type=\"text\" id=\"myInput\" placeholder=\"Enter some text\">\n",
    "    <button id=\"myButton\">Submit</button>\n",
    "    <script type=\"text/Javascript\">{}</script>\n",
    "    \"\"\".format(js_code)\n",
    "\n",
    "    _html_code, _html_replacements = replace_ids_in_code(HTML_code)\n",
    "\n",
    "    assert sorted(_js_replacements) == sorted(_html_replacements) == ['myButton', 'myInput']\n",
    "\n",
    "    for replacement in _html_replacements.values():\n",
    "        assert replacement in _html_code\n",
    "\n",
    "\n",
    "\n",
    "# Run the tests\n",
    "test_replace_ids_in_code()\n",
    "print(\"All tests passed!\")\n",
    "\n"
   ]
  },
  {
   "cell_type": "code",
   "execution_count": 92,
   "id": "207d02c9",
   "metadata": {},
   "outputs": [
    {
     "name": "stdout",
     "output_type": "stream",
     "text": [
      "\n",
      "<input type=\"text\" id=\"myInput_4180b6d4\" placeholder=\"Enter some text\">\n",
      "<button id=\"myButton_b83d7254\">Submit</button>\n",
      "<script type=\"text/Javascript\">\n",
      "function sendToPython(){\n",
      "    var data = document.querySelector(\"#myInput_520d3fd1\").value;\n",
      "    var kernel = IPython.notebook.kernel;\n",
      "    kernel.execute(\"data_from_js = '\" + data + \"'\");\n",
      "    kernel.execute(\"print('Received data from JS: ' + data_from_js)\");\n",
      "}\n",
      "\n",
      "document.querySelector(\"#myButton_dd858349\").addEventListener(\"click\", function(){\n",
      "    sendToPython();\n",
      "});\n",
      "</script>\n",
      "\n"
     ]
    }
   ],
   "source": []
  },
  {
   "cell_type": "code",
   "execution_count": 82,
   "id": "2bf9ae3e",
   "metadata": {},
   "outputs": [
    {
     "ename": "TypeError",
     "evalue": "replace_tokens() got multiple values for argument 'token_extractor'",
     "output_type": "error",
     "traceback": [
      "\u001b[0;31m---------------------------------------------------------------------------\u001b[0m",
      "\u001b[0;31mTypeError\u001b[0m                                 Traceback (most recent call last)",
      "Cell \u001b[0;32mIn[82], line 1\u001b[0m\n\u001b[0;32m----> 1\u001b[0m _js_code_direct, _js_replacements_direct \u001b[39m=\u001b[39m replace_js_ids(js_code, \u001b[39m'\u001b[39;49m\u001b[39mjs\u001b[39;49m\u001b[39m'\u001b[39;49m)\n\u001b[1;32m      2\u001b[0m _js_replacements_direct\n",
      "\u001b[0;31mTypeError\u001b[0m: replace_tokens() got multiple values for argument 'token_extractor'"
     ]
    }
   ],
   "source": [
    "_js_code_direct, _js_replacements_direct = replace_js_ids(js_code, 'js')\n",
    "_js_replacements_direct"
   ]
  },
  {
   "cell_type": "code",
   "execution_count": 81,
   "id": "4b904bd6",
   "metadata": {},
   "outputs": [
    {
     "name": "stdout",
     "output_type": "stream",
     "text": [
      "js\n",
      "js\n",
      "{}\n",
      "{'id=\"myInput\"': 'id=\"myInput_c8055dca\"', 'id=\"myButton\"': 'id=\"myButton_71ba55b8\"'}\n"
     ]
    }
   ],
   "source": [
    "print(string_kind(js_code))  # Expected: 'js'\n",
    "print(string_kind(HTML_code))  # Expected: 'html'\n",
    "\n",
    "\n",
    "_js_code_direct, _js_replacements_direct = replace_js_ids(js_code)\n",
    "_html_code_direct, _html_replacements_direct = replace_html_ids(HTML_code)\n",
    "\n",
    "print(_js_replacements_direct)  # Expected: replacements for 'myInput' and 'myButton'\n",
    "print(_html_replacements_direct)  # Expected: replacements for 'myInput' and 'myButton'\n"
   ]
  },
  {
   "cell_type": "code",
   "execution_count": null,
   "id": "67e6f3ce",
   "metadata": {},
   "outputs": [],
   "source": []
  },
  {
   "cell_type": "markdown",
   "id": "96ea8896",
   "metadata": {},
   "source": [
    "# Other bits"
   ]
  },
  {
   "cell_type": "markdown",
   "id": "f1df593f",
   "metadata": {},
   "source": [
    "## Binding js variables to py variables or callbacks"
   ]
  },
  {
   "cell_type": "code",
   "execution_count": 127,
   "id": "8bb9ba1e",
   "metadata": {
    "ExecuteTime": {
     "end_time": "2023-12-07T17:18:19.474250Z",
     "start_time": "2023-12-07T17:18:19.445400Z"
    }
   },
   "outputs": [],
   "source": [
    "from typing import Mapping\n",
    "\n",
    "def kernel_assignment_execution(target, src):\n",
    "    return f\"\"\"kernel.execute(\"{target} = '\" + {src} + \"'\");\"\"\"\n",
    "\n",
    "def py_variable_bind_lines(var_bind):\n",
    "    \"\"\"Bind JS variables to Python variables.\"\"\"\n",
    "    if isinstance(var_bind, str):\n",
    "        var_bind = [var_bind]\n",
    "    if not isinstance(var_bind, Mapping):\n",
    "        var_bind = list(var_bind)\n",
    "        var_bind = dict(zip(var_bind, var_bind))\n",
    "    \n",
    "    yield 'var kernel = IPython.notebook.kernel;'\n",
    "    for js_var_name, py_var_name in var_bind.items():\n",
    "        yield kernel_assignment_execution(py_var_name, js_var_name)\n",
    "\n",
    "def js_to_py_callback_bind(js_code, callback_bind):\n",
    "    \"\"\"Bind JS variables to Python callabacks. \n",
    "    The effect being that when a JS variable is updated, the Python callback is called\n",
    "    with the new value.\n",
    "    This generalizes js_to_py_variable_bind.\n",
    "    \"\"\"\n",
    "    for js_var_name, py_callback in callback_bind.items():\n",
    "        js_code += f'IPython.notebook.kernel.execute(\"{py_callback}(\" + {js_var_name} + \")\");'\n",
    "\n",
    "def add_var_bind_to_js_func(js_function_code, var_bind, sep='\\n'):\n",
    "    from jy.js_parse import append_to_func_body\n",
    "\n",
    "    bind_lines = sep.join(py_variable_bind_lines(var_bind))\n",
    "    return append_to_func_body(js_function_code, bind_lines)"
   ]
  },
  {
   "cell_type": "code",
   "execution_count": 138,
   "id": "00fc0bd7",
   "metadata": {
    "ExecuteTime": {
     "end_time": "2023-12-07T17:19:40.755964Z",
     "start_time": "2023-12-07T17:19:40.728275Z"
    }
   },
   "outputs": [],
   "source": [
    "# DEMO:\n",
    "\n",
    "from IPython.display import display, HTML, Javascript\n",
    "\n",
    "js_function_code = \"\"\"\n",
    "function sendToPython(){\n",
    "    var data = document.querySelector(\"#myInput_5\").value;\n",
    "}\n",
    "\"\"\"\n",
    "\n",
    "js_function_code = add_var_bind_to_js_func(js_function_code, {'data': 'js_data'})\n",
    "\n",
    "js_code = js_function_code + \"\"\"\n",
    "document.querySelector(\"#myButton_5\").addEventListener(\"click\", function(){\n",
    "    sendToPython();\n",
    "});\n",
    "\"\"\"\n",
    "\n",
    "HTML_code = \"\"\"\n",
    "<input type=\"text\" id=\"myInput_5\" placeholder=\"Enter some text\">\n",
    "<button id=\"myButton_5\">Submit</button>\n",
    "<script type=\"text/Javascript\">{}</script>\n",
    "\"\"\".format(js_code)\n",
    "\n",
    "js_data = None   # not even necessary to initialize, but makes checking no throw an error, but print None instead"
   ]
  },
  {
   "cell_type": "code",
   "execution_count": 140,
   "id": "bb472b5a",
   "metadata": {
    "ExecuteTime": {
     "end_time": "2023-12-07T17:20:02.501095Z",
     "start_time": "2023-12-07T17:20:02.470369Z"
    }
   },
   "outputs": [
    {
     "data": {
      "text/html": [
       "\n",
       "<input type=\"text\" id=\"myInput_5\" placeholder=\"Enter some text\">\n",
       "<button id=\"myButton_5\">Submit</button>\n",
       "<script type=\"text/Javascript\">\n",
       "function sendToPython(){\n",
       "    var data = document.querySelector(\"#myInput_5\").value;\n",
       "var kernel = IPython.notebook.kernel;\n",
       "kernel.execute(\"js_data = '\" + data + \"'\");}\n",
       "\n",
       "document.querySelector(\"#myButton_5\").addEventListener(\"click\", function(){\n",
       "    sendToPython();\n",
       "});\n",
       "</script>\n"
      ],
      "text/plain": [
       "<IPython.core.display.HTML object>"
      ]
     },
     "metadata": {},
     "output_type": "display_data"
    }
   ],
   "source": [
    "display(HTML(HTML_code))"
   ]
  },
  {
   "cell_type": "code",
   "execution_count": 141,
   "id": "53cc731c",
   "metadata": {
    "ExecuteTime": {
     "end_time": "2023-12-07T17:20:07.193813Z",
     "start_time": "2023-12-07T17:20:07.174500Z"
    }
   },
   "outputs": [
    {
     "name": "stdout",
     "output_type": "stream",
     "text": [
      "ewwww\n"
     ]
    }
   ],
   "source": [
    "print(js_data)"
   ]
  },
  {
   "cell_type": "code",
   "execution_count": 142,
   "id": "b73c052a",
   "metadata": {
    "ExecuteTime": {
     "end_time": "2023-12-07T17:20:55.655868Z",
     "start_time": "2023-12-07T17:20:55.625473Z"
    }
   },
   "outputs": [
    {
     "name": "stdout",
     "output_type": "stream",
     "text": [
      "\n",
      "<input type=\"text\" id=\"myInput_5\" placeholder=\"Enter some text\">\n",
      "<button id=\"myButton_5\">Submit</button>\n",
      "<script type=\"text/Javascript\">\n",
      "function sendToPython(){\n",
      "    var data = document.querySelector(\"#myInput_5\").value;\n",
      "var kernel = IPython.notebook.kernel;\n",
      "kernel.execute(\"js_data = '\" + data + \"'\");}\n",
      "\n",
      "document.querySelector(\"#myButton_5\").addEventListener(\"click\", function(){\n",
      "    sendToPython();\n",
      "});\n",
      "</script>\n",
      "\n"
     ]
    }
   ],
   "source": [
    "print(HTML_code)"
   ]
  },
  {
   "cell_type": "markdown",
   "id": "8e5252a8",
   "metadata": {},
   "source": [
    "# Calling JS mermaid from python, in a notebook"
   ]
  },
  {
   "cell_type": "markdown",
   "id": "2528dd28",
   "metadata": {},
   "source": [
    "## Demo"
   ]
  },
  {
   "cell_type": "code",
   "execution_count": 1,
   "id": "6dcb4345",
   "metadata": {},
   "outputs": [],
   "source": [
    "import uuid\n",
    "\n",
    "_mermaid_display_template = \"\"\"\n",
    "<script type=\"module\">\n",
    "    async function initMermaid_{unique_id}() {{\n",
    "        const module = await import('https://cdn.jsdelivr.net/npm/mermaid@10/dist/mermaid.esm.min.mjs');\n",
    "        const mermaid = module.default;\n",
    "        mermaid.initialize({{ startOnLoad: true }});\n",
    "        mermaid.init(undefined, document.getElementById('mermaid_{unique_id}'));\n",
    "    }}\n",
    "    \n",
    "    if (document.readyState === 'loading') {{\n",
    "        document.addEventListener('DOMContentLoaded', initMermaid_{unique_id});\n",
    "    }} else {{\n",
    "        initMermaid_{unique_id}();\n",
    "    }}\n",
    "</script>\n",
    "\n",
    "<pre class=\"mermaid\" id=\"mermaid_{unique_id}\">\n",
    "    {code}\n",
    "</pre>\n",
    "\"\"\"\n",
    "\n",
    "\n",
    "def mermaid(code: str, *, prefix='graph', suffix='', egress=None):\n",
    "    if egress is None:\n",
    "        egress = lambda x: x\n",
    "    code_ = f\"{prefix}\\n{code}\\n{suffix}\"\n",
    "    unique_id = str(uuid.uuid4()).replace(\"-\", \"\")\n",
    "    html = _mermaid_display_template.format(code=code_, unique_id=unique_id)\n",
    "    return egress(html)\n"
   ]
  },
  {
   "cell_type": "code",
   "execution_count": 2,
   "id": "5e7dce3e",
   "metadata": {},
   "outputs": [],
   "source": [
    "code = \"A --> B --> C\""
   ]
  },
  {
   "cell_type": "code",
   "execution_count": 5,
   "id": "4d864839",
   "metadata": {},
   "outputs": [],
   "source": [
    "html = mermaid(code)\n",
    "assert isinstance(html, str)\n",
    "# print(html)"
   ]
  },
  {
   "cell_type": "markdown",
   "id": "b35cbe10",
   "metadata": {},
   "source": [
    "You can define an `egress` to tell the function to return the result of `egress(html)` instead. This is useful, for example, to save the html, or wrap it in an object that can render it. For example, `IPython.display.HTML` will wrap it in a displayable `HTML` instance."
   ]
  },
  {
   "cell_type": "code",
   "execution_count": 6,
   "id": "80913d0e",
   "metadata": {},
   "outputs": [
    {
     "data": {
      "text/html": [
       "\n",
       "<script type=\"module\">\n",
       "    async function initMermaid_573207c5c233473d8f3645020926f27b() {\n",
       "        const module = await import('https://cdn.jsdelivr.net/npm/mermaid@10/dist/mermaid.esm.min.mjs');\n",
       "        const mermaid = module.default;\n",
       "        mermaid.initialize({ startOnLoad: true });\n",
       "        mermaid.init(undefined, document.getElementById('mermaid_573207c5c233473d8f3645020926f27b'));\n",
       "    }\n",
       "    \n",
       "    if (document.readyState === 'loading') {\n",
       "        document.addEventListener('DOMContentLoaded', initMermaid_573207c5c233473d8f3645020926f27b);\n",
       "    } else {\n",
       "        initMermaid_573207c5c233473d8f3645020926f27b();\n",
       "    }\n",
       "</script>\n",
       "\n",
       "<pre class=\"mermaid\" id=\"mermaid_573207c5c233473d8f3645020926f27b\">\n",
       "    graph\n",
       "A --> B --> C\n",
       "\n",
       "</pre>\n"
      ],
      "text/plain": [
       "<IPython.core.display.HTML object>"
      ]
     },
     "execution_count": 6,
     "metadata": {},
     "output_type": "execute_result"
    }
   ],
   "source": [
    "from IPython.display import HTML\n",
    "\n",
    "mermaid(code, egress=HTML)"
   ]
  },
  {
   "cell_type": "markdown",
   "id": "fa45fbc0",
   "metadata": {},
   "source": [
    "`mermaid` is setup to be a framework through `functools.partial`. \n",
    "For example, to get a function that does left-to-right graphs (the default is top-to-bottom),\n",
    "and returning an `HTML` instance systematically, you can do the following:"
   ]
  },
  {
   "cell_type": "code",
   "execution_count": 8,
   "id": "2de836aa",
   "metadata": {},
   "outputs": [],
   "source": [
    "from functools import partial\n",
    "from IPython.display import display, HTML\n",
    "\n",
    "lr_graph = partial(mermaid, prefix='graph LR', egress=HTML)"
   ]
  },
  {
   "cell_type": "code",
   "execution_count": 9,
   "id": "adeb02bf",
   "metadata": {},
   "outputs": [
    {
     "data": {
      "text/html": [
       "\n",
       "<script type=\"module\">\n",
       "    async function initMermaid_3b562873d1304cc2a2a643a5ddd14e1d() {\n",
       "        const module = await import('https://cdn.jsdelivr.net/npm/mermaid@10/dist/mermaid.esm.min.mjs');\n",
       "        const mermaid = module.default;\n",
       "        mermaid.initialize({ startOnLoad: true });\n",
       "        mermaid.init(undefined, document.getElementById('mermaid_3b562873d1304cc2a2a643a5ddd14e1d'));\n",
       "    }\n",
       "    \n",
       "    if (document.readyState === 'loading') {\n",
       "        document.addEventListener('DOMContentLoaded', initMermaid_3b562873d1304cc2a2a643a5ddd14e1d);\n",
       "    } else {\n",
       "        initMermaid_3b562873d1304cc2a2a643a5ddd14e1d();\n",
       "    }\n",
       "</script>\n",
       "\n",
       "<pre class=\"mermaid\" id=\"mermaid_3b562873d1304cc2a2a643a5ddd14e1d\">\n",
       "    graph LR\n",
       "A --> B --> C\n",
       "\n",
       "</pre>\n"
      ],
      "text/plain": [
       "<IPython.core.display.HTML object>"
      ]
     },
     "execution_count": 9,
     "metadata": {},
     "output_type": "execute_result"
    }
   ],
   "source": [
    "lr_graph(code)"
   ]
  },
  {
   "cell_type": "markdown",
   "id": "4d401825",
   "metadata": {},
   "source": [
    "# Trying out packages"
   ]
  },
  {
   "cell_type": "markdown",
   "id": "e39e1649",
   "metadata": {},
   "source": [
    "**Suggest a few python packages that allow me to have a two-way communication between a jupyter notebook in vscode and some ReactJS component.**\n",
    "\n",
    "There are a few Python packages that can help you create a two-way communication between a Jupyter notebook in VSCode and a ReactJS component. Here are some of them:\n",
    "\n",
    "- [Jupyter-React-JS](https://github.com/timbr-io/jupyter-react-js): This is a base class for using ReactJS components in Jupyter notebooks. It allows you to render React components as Jupyter widgets and communicate with them via traitlets³.  (**TW Note: Note updated since 2016!!**)\n",
    "- [Jupyter UI](https://github.com/datalayer/jupyter-ui): This is a library of React components that are compatible with Jupyter notebooks. It provides components such as buttons, sliders, tables, charts, etc., that can be used in any React application⁴. (**TW Note: This seems to be solving the \"embed notebook in UI\", which is not what we are looking for.**)\n",
    "- [ipywidgets](https://ipywidgets.readthedocs.io/en/latest/): This is the standard library for creating interactive widgets in Jupyter notebooks. It supports bi-directional communication between the front-end and the back-end, and can be used with various frameworks such as React, Vue, Angular, etc.⁵ (**TW Note: And... ipywidgets again. Maybe this is the one we need!)\n",
    "\n",
    "You can install these packages using pip or conda, depending on your preference. For example, to install Jupyter-React-JS, you can run:\n",
    "\n",
    "`pip install jupyter-react-js`\n",
    "\n",
    "or\n",
    "\n",
    "`conda install -c conda-forge jupyter-react-js`\n",
    "\n",
    "\n",
    "* GitHub - timbr-io/jupyter-react-js: Base class for using ReactJS .... https://github.com/timbr-io/jupyter-react-js.\n",
    "* GitHub - datalayer/jupyter-ui: ⚛️ React.js components % compatible .... https://github.com/datalayer/jupyter-ui.\n",
    "* Build a Jupyter Widget with React and TypeScript. https://blog.jupyter.org/build-a-jupyter-widget-with-react-and-typescript-d83e07340fa3.\n",
    "* https://github.com/Waidhoferj/jupyter-widget-react-cookiecutter.git."
   ]
  },
  {
   "cell_type": "code",
   "execution_count": null,
   "id": "31ffda64",
   "metadata": {},
   "outputs": [],
   "source": []
  },
  {
   "cell_type": "markdown",
   "id": "244da025",
   "metadata": {},
   "source": [
    "### PyMiniRacer"
   ]
  },
  {
   "cell_type": "markdown",
   "id": "994cbce0",
   "metadata": {},
   "source": [
    "https://github.com/sqreen/PyMiniRacer\n",
    "\n",
    "```pip install py-mini-racer```"
   ]
  },
  {
   "cell_type": "code",
   "execution_count": 54,
   "id": "688dbb57",
   "metadata": {},
   "outputs": [
    {
     "data": {
      "text/plain": [
       "[]"
      ]
     },
     "execution_count": 54,
     "metadata": {},
     "output_type": "execute_result"
    }
   ],
   "source": [
    "from unbox import dependencies_from_pypi\n",
    "dependencies_from_pypi('py-mini-racer')"
   ]
  },
  {
   "cell_type": "code",
   "execution_count": 57,
   "id": "b24d6e51",
   "metadata": {},
   "outputs": [
    {
     "ename": "RuntimeError",
     "evalue": "Native library not available at /Users/thorwhalen/.pyenv/versions/3.10.8/lib/python3.10/site-packages/py_mini_racer/libmini_racer.dylib",
     "output_type": "error",
     "traceback": [
      "\u001b[0;31m---------------------------------------------------------------------------\u001b[0m",
      "\u001b[0;31mRuntimeError\u001b[0m                              Traceback (most recent call last)",
      "\u001b[1;32m/Users/thorwhalen/Dropbox/py/proj/i/jy/misc/jy worksite.ipynb Cell 87\u001b[0m line \u001b[0;36m2\n\u001b[1;32m      <a href='vscode-notebook-cell:/Users/thorwhalen/Dropbox/py/proj/i/jy/misc/jy%20worksite.ipynb#Y211sZmlsZQ%3D%3D?line=0'>1</a>\u001b[0m \u001b[39mfrom\u001b[39;00m \u001b[39mpy_mini_racer\u001b[39;00m \u001b[39mimport\u001b[39;00m MiniRacer\n\u001b[0;32m----> <a href='vscode-notebook-cell:/Users/thorwhalen/Dropbox/py/proj/i/jy/misc/jy%20worksite.ipynb#Y211sZmlsZQ%3D%3D?line=1'>2</a>\u001b[0m ctx \u001b[39m=\u001b[39m MiniRacer()\n\u001b[1;32m      <a href='vscode-notebook-cell:/Users/thorwhalen/Dropbox/py/proj/i/jy/misc/jy%20worksite.ipynb#Y211sZmlsZQ%3D%3D?line=2'>3</a>\u001b[0m ctx\u001b[39m.\u001b[39meval(\u001b[39m\"\u001b[39m\u001b[39m1+1\u001b[39m\u001b[39m\"\u001b[39m)\n",
      "File \u001b[0;32m~/.pyenv/versions/3.10.8/lib/python3.10/site-packages/py_mini_racer/py_mini_racer.py:178\u001b[0m, in \u001b[0;36mMiniRacer.__init__\u001b[0;34m(self)\u001b[0m\n\u001b[1;32m    176\u001b[0m \u001b[39mdef\u001b[39;00m \u001b[39m__init__\u001b[39m(\u001b[39mself\u001b[39m):\n\u001b[1;32m    177\u001b[0m     \u001b[39mif\u001b[39;00m \u001b[39mself\u001b[39m\u001b[39m.\u001b[39m\u001b[39m__class__\u001b[39m\u001b[39m.\u001b[39mext \u001b[39mis\u001b[39;00m \u001b[39mNone\u001b[39;00m:\n\u001b[0;32m--> 178\u001b[0m         \u001b[39mself\u001b[39m\u001b[39m.\u001b[39m\u001b[39m__class__\u001b[39m\u001b[39m.\u001b[39mext \u001b[39m=\u001b[39m _build_ext_handle()\n\u001b[1;32m    180\u001b[0m     \u001b[39mself\u001b[39m\u001b[39m.\u001b[39mctx \u001b[39m=\u001b[39m \u001b[39mself\u001b[39m\u001b[39m.\u001b[39mext\u001b[39m.\u001b[39mmr_init_context(\u001b[39m\"\u001b[39m\u001b[39m \u001b[39m\u001b[39m\"\u001b[39m\u001b[39m.\u001b[39mjoin(\u001b[39mself\u001b[39m\u001b[39m.\u001b[39mv8_flags)\u001b[39m.\u001b[39mencode(\u001b[39m\"\u001b[39m\u001b[39mutf-8\u001b[39m\u001b[39m\"\u001b[39m))\n\u001b[1;32m    181\u001b[0m     \u001b[39mself\u001b[39m\u001b[39m.\u001b[39mlock \u001b[39m=\u001b[39m threading\u001b[39m.\u001b[39mLock()\n",
      "File \u001b[0;32m~/.pyenv/versions/3.10.8/lib/python3.10/site-packages/py_mini_racer/py_mini_racer.py:125\u001b[0m, in \u001b[0;36m_build_ext_handle\u001b[0;34m()\u001b[0m\n\u001b[1;32m    122\u001b[0m \u001b[39mdef\u001b[39;00m \u001b[39m_build_ext_handle\u001b[39m():\n\u001b[1;32m    124\u001b[0m     \u001b[39mif\u001b[39;00m EXTENSION_PATH \u001b[39mis\u001b[39;00m \u001b[39mNone\u001b[39;00m \u001b[39mor\u001b[39;00m \u001b[39mnot\u001b[39;00m os\u001b[39m.\u001b[39mpath\u001b[39m.\u001b[39mexists(EXTENSION_PATH):\n\u001b[0;32m--> 125\u001b[0m         \u001b[39mraise\u001b[39;00m \u001b[39mRuntimeError\u001b[39;00m(\u001b[39m\"\u001b[39m\u001b[39mNative library not available at \u001b[39m\u001b[39m{}\u001b[39;00m\u001b[39m\"\u001b[39m\u001b[39m.\u001b[39mformat(EXTENSION_PATH))\n\u001b[1;32m    127\u001b[0m     _ext_handle \u001b[39m=\u001b[39m ctypes\u001b[39m.\u001b[39mCDLL(EXTENSION_PATH)\n\u001b[1;32m    129\u001b[0m     _ext_handle\u001b[39m.\u001b[39mmr_init_context\u001b[39m.\u001b[39margtypes \u001b[39m=\u001b[39m [ctypes\u001b[39m.\u001b[39mc_char_p]\n",
      "\u001b[0;31mRuntimeError\u001b[0m: Native library not available at /Users/thorwhalen/.pyenv/versions/3.10.8/lib/python3.10/site-packages/py_mini_racer/libmini_racer.dylib"
     ]
    }
   ],
   "source": [
    "from py_mini_racer import MiniRacer\n",
    "ctx = MiniRacer()\n",
    "ctx.eval(\"1+1\")\n"
   ]
  },
  {
   "cell_type": "code",
   "execution_count": null,
   "id": "63ed0157",
   "metadata": {},
   "outputs": [],
   "source": [
    "ctx.eval(\"var x = {company: 'Sqreen'}; x.company\")\n",
    "# 'Sqreen'"
   ]
  },
  {
   "cell_type": "code",
   "execution_count": null,
   "id": "c2faf38f",
   "metadata": {},
   "outputs": [],
   "source": [
    "print(ctx.eval(\"'\\N{HEAVY BLACK HEART}'\"))"
   ]
  },
  {
   "cell_type": "code",
   "execution_count": null,
   "id": "c14b8219",
   "metadata": {},
   "outputs": [],
   "source": [
    "ctx.eval(\"var fun = () => ({ foo: 1 });\")"
   ]
  },
  {
   "cell_type": "markdown",
   "id": "6a9d4c24",
   "metadata": {},
   "source": [
    "### streamlit_jupyter"
   ]
  },
  {
   "cell_type": "markdown",
   "id": "5da91196",
   "metadata": {},
   "source": [
    "https://github.com/ddobrinskiy/streamlit-jupyter\n",
    "\n",
    "[blog](https://discuss.streamlit.io/t/new-library-streamlit-jupyter-a-new-way-to-develop-streamlit-apps-in-jupyter-notebooks/35679)\n",
    "\n",
    "[example notebook](https://github.com/ddobrinskiy/streamlit-jupyter/blob/master/examples/99_example.ipynb)\n",
    "\n",
    "\n"
   ]
  },
  {
   "cell_type": "code",
   "execution_count": 56,
   "id": "f47a458e",
   "metadata": {},
   "outputs": [
    {
     "data": {
      "text/plain": [
       "['fastcore', 'ipywidgets', 'jupyter', 'stqdm', 'streamlit', 'tabulate', 'tqdm']"
      ]
     },
     "execution_count": 56,
     "metadata": {},
     "output_type": "execute_result"
    }
   ],
   "source": [
    "from unbox import dependencies_from_pypi\n",
    "dependencies_from_pypi('streamlit_jupyter')"
   ]
  },
  {
   "cell_type": "code",
   "execution_count": null,
   "id": "a6add24f",
   "metadata": {},
   "outputs": [],
   "source": []
  },
  {
   "cell_type": "code",
   "execution_count": null,
   "id": "73887311",
   "metadata": {},
   "outputs": [],
   "source": []
  },
  {
   "cell_type": "code",
   "execution_count": 6,
   "id": "20f5ea0e",
   "metadata": {},
   "outputs": [
    {
     "data": {
      "text/plain": [
       "{'name': 'numpy',\n",
       " 'url': None,\n",
       " 'extras': (),\n",
       " 'specifier': <SpecifierSet('>=1.17.3')>,\n",
       " 'marker': None,\n",
       " 'unsafe_name': 'numpy',\n",
       " 'project_name': 'numpy',\n",
       " 'key': 'numpy',\n",
       " 'specs': [('>=', '1.17.3')],\n",
       " 'hashCmp': ('numpy', None, <SpecifierSet('>=1.17.3')>, frozenset(), None),\n",
       " '_Requirement__hash': -5592161488256174862}"
      ]
     },
     "execution_count": 6,
     "metadata": {},
     "output_type": "execute_result"
    }
   ],
   "source": [
    "vars(t)"
   ]
  },
  {
   "cell_type": "code",
   "execution_count": 1,
   "id": "ebafe04f",
   "metadata": {},
   "outputs": [
    {
     "data": {
      "image/svg+xml": [
       "<?xml version=\"1.0\" encoding=\"UTF-8\" standalone=\"no\"?>\n",
       "<!DOCTYPE svg PUBLIC \"-//W3C//DTD SVG 1.1//EN\"\n",
       " \"http://www.w3.org/Graphics/SVG/1.1/DTD/svg11.dtd\">\n",
       "<!-- Generated by graphviz version 8.1.0 (20230707.0739)\n",
       " -->\n",
       "<!-- Pages: 1 -->\n",
       "<svg width=\"807pt\" height=\"44pt\"\n",
       " viewBox=\"0.00 0.00 806.77 44.00\" xmlns=\"http://www.w3.org/2000/svg\" xmlns:xlink=\"http://www.w3.org/1999/xlink\">\n",
       "<g id=\"graph0\" class=\"graph\" transform=\"scale(1 1) rotate(0) translate(4 40)\">\n",
       "<polygon fill=\"white\" stroke=\"none\" points=\"-4,4 -4,-40 802.77,-40 802.77,4 -4,4\"/>\n",
       "<!-- setup_module -->\n",
       "<g id=\"node1\" class=\"node\">\n",
       "<title>setup_module</title>\n",
       "<ellipse fill=\"none\" stroke=\"black\" cx=\"63.12\" cy=\"-18\" rx=\"63.12\" ry=\"18\"/>\n",
       "<text text-anchor=\"middle\" x=\"63.12\" y=\"-12.95\" font-family=\"Times,serif\" font-size=\"14.00\">setup_module</text>\n",
       "</g>\n",
       "<!-- intsetup_module -->\n",
       "<g id=\"node2\" class=\"node\">\n",
       "<title>intsetup_module</title>\n",
       "<ellipse fill=\"none\" stroke=\"black\" cx=\"235.09\" cy=\"-18\" rx=\"72.85\" ry=\"18\"/>\n",
       "<text text-anchor=\"middle\" x=\"235.09\" y=\"-12.95\" font-family=\"Times,serif\" font-size=\"14.00\">intsetup_module</text>\n",
       "</g>\n",
       "<!-- setup_module&#45;&gt;intsetup_module -->\n",
       "<g id=\"edge1\" class=\"edge\">\n",
       "<title>setup_module&#45;&gt;intsetup_module</title>\n",
       "<path fill=\"none\" stroke=\"black\" d=\"M126.45,-18C134.49,-18 142.81,-18 151.12,-18\"/>\n",
       "<polygon fill=\"black\" stroke=\"black\" points=\"150.99,-21.5 160.99,-18 150.99,-14.5 150.99,-21.5\"/>\n",
       "</g>\n",
       "<!-- printsetup_module -->\n",
       "<g id=\"node3\" class=\"node\">\n",
       "<title>printsetup_module</title>\n",
       "<ellipse fill=\"none\" stroke=\"black\" cx=\"424.47\" cy=\"-18\" rx=\"80.52\" ry=\"18\"/>\n",
       "<text text-anchor=\"middle\" x=\"424.47\" y=\"-12.95\" font-family=\"Times,serif\" font-size=\"14.00\">printsetup_module</text>\n",
       "</g>\n",
       "<!-- intsetup_module&#45;&gt;printsetup_module -->\n",
       "<g id=\"edge2\" class=\"edge\">\n",
       "<title>intsetup_module&#45;&gt;printsetup_module</title>\n",
       "<path fill=\"none\" stroke=\"black\" d=\"M308.27,-18C316.3,-18 324.55,-18 332.77,-18\"/>\n",
       "<polygon fill=\"black\" stroke=\"black\" points=\"332.54,-21.5 342.54,-18 332.54,-14.5 332.54,-21.5\"/>\n",
       "</g>\n",
       "<!-- ossetup_module -->\n",
       "<g id=\"node4\" class=\"node\">\n",
       "<title>ossetup_module</title>\n",
       "<ellipse fill=\"none\" stroke=\"black\" cx=\"612.3\" cy=\"-18\" rx=\"71.31\" ry=\"18\"/>\n",
       "<text text-anchor=\"middle\" x=\"612.3\" y=\"-12.95\" font-family=\"Times,serif\" font-size=\"14.00\">ossetup_module</text>\n",
       "</g>\n",
       "<!-- printsetup_module&#45;&gt;ossetup_module -->\n",
       "<g id=\"edge3\" class=\"edge\">\n",
       "<title>printsetup_module&#45;&gt;ossetup_module</title>\n",
       "<path fill=\"none\" stroke=\"black\" d=\"M505.36,-18C513.4,-18 521.58,-18 529.65,-18\"/>\n",
       "<polygon fill=\"black\" stroke=\"black\" points=\"529.56,-21.5 539.56,-18 529.56,-14.5 529.56,-21.5\"/>\n",
       "</g>\n",
       "<!-- random -->\n",
       "<g id=\"node5\" class=\"node\">\n",
       "<title>random</title>\n",
       "<ellipse fill=\"none\" stroke=\"black\" cx=\"759.19\" cy=\"-18\" rx=\"39.58\" ry=\"18\"/>\n",
       "<text text-anchor=\"middle\" x=\"759.19\" y=\"-12.95\" font-family=\"Times,serif\" font-size=\"14.00\">random</text>\n",
       "</g>\n",
       "<!-- ossetup_module&#45;&gt;random -->\n",
       "<g id=\"edge4\" class=\"edge\">\n",
       "<title>ossetup_module&#45;&gt;random</title>\n",
       "<path fill=\"none\" stroke=\"black\" d=\"M684.05,-18C692.35,-18 700.68,-18 708.6,-18\"/>\n",
       "<polygon fill=\"black\" stroke=\"black\" points=\"708.49,-21.5 718.49,-18 708.49,-14.5 708.49,-21.5\"/>\n",
       "</g>\n",
       "</g>\n",
       "</svg>\n"
      ],
      "text/plain": [
       "<graphviz.graphs.Digraph at 0x11f7942b0>"
      ]
     },
     "execution_count": 1,
     "metadata": {},
     "output_type": "execute_result"
    }
   ],
   "source": [
    "from tec.dependencies import dependency_graph_for\n",
    "\n",
    "import sklearn\n",
    "\n",
    "dependency_graph_for(sklearn)"
   ]
  },
  {
   "cell_type": "code",
   "execution_count": 15,
   "id": "1a30838b",
   "metadata": {},
   "outputs": [
    {
     "data": {
      "text/plain": [
       "{'_encoding': 'utf-8',\n",
       " 'filename': 'Digraph.gv',\n",
       " 'name': None,\n",
       " 'comment': None,\n",
       " 'graph_attr': {},\n",
       " 'node_attr': {},\n",
       " 'edge_attr': {},\n",
       " 'body': ['rankdir=LR',\n",
       "  'setup_module -> random',\n",
       "  'setup_module -> os',\n",
       "  'setup_module -> print',\n",
       "  'setup_module -> int',\n",
       "  ''],\n",
       " 'strict': False}"
      ]
     },
     "execution_count": 15,
     "metadata": {},
     "output_type": "execute_result"
    }
   ],
   "source": []
  },
  {
   "cell_type": "code",
   "execution_count": 20,
   "id": "b81d30c4",
   "metadata": {},
   "outputs": [
    {
     "data": {
      "image/svg+xml": [
       "<?xml version=\"1.0\" encoding=\"UTF-8\" standalone=\"no\"?>\n",
       "<!DOCTYPE svg PUBLIC \"-//W3C//DTD SVG 1.1//EN\"\n",
       " \"http://www.w3.org/Graphics/SVG/1.1/DTD/svg11.dtd\">\n",
       "<!-- Generated by graphviz version 8.1.0 (20230707.0739)\n",
       " -->\n",
       "<!-- Pages: 1 -->\n",
       "<svg width=\"819pt\" height=\"44pt\"\n",
       " viewBox=\"0.00 0.00 819.49 44.00\" xmlns=\"http://www.w3.org/2000/svg\" xmlns:xlink=\"http://www.w3.org/1999/xlink\">\n",
       "<g id=\"graph0\" class=\"graph\" transform=\"scale(1 1) rotate(0) translate(4 40)\">\n",
       "<polygon fill=\"white\" stroke=\"none\" points=\"-4,4 -4,-40 815.49,-40 815.49,4 -4,4\"/>\n",
       "<!-- setup_module -->\n",
       "<g id=\"node1\" class=\"node\">\n",
       "<title>setup_module</title>\n",
       "<ellipse fill=\"none\" stroke=\"black\" cx=\"63.12\" cy=\"-18\" rx=\"63.12\" ry=\"18\"/>\n",
       "<text text-anchor=\"middle\" x=\"63.12\" y=\"-12.95\" font-family=\"Times,serif\" font-size=\"14.00\">setup_module</text>\n",
       "</g>\n",
       "<!-- randomsetup_module -->\n",
       "<g id=\"node2\" class=\"node\">\n",
       "<title>randomsetup_module</title>\n",
       "<ellipse fill=\"none\" stroke=\"black\" cx=\"254.03\" cy=\"-18\" rx=\"91.78\" ry=\"18\"/>\n",
       "<text text-anchor=\"middle\" x=\"254.03\" y=\"-12.95\" font-family=\"Times,serif\" font-size=\"14.00\">randomsetup_module</text>\n",
       "</g>\n",
       "<!-- setup_module&#45;&gt;randomsetup_module -->\n",
       "<g id=\"edge1\" class=\"edge\">\n",
       "<title>setup_module&#45;&gt;randomsetup_module</title>\n",
       "<path fill=\"none\" stroke=\"black\" d=\"M126.5,-18C134.42,-18 142.69,-18 151.03,-18\"/>\n",
       "<polygon fill=\"black\" stroke=\"black\" points=\"151.02,-21.5 161.02,-18 151.02,-14.5 151.02,-21.5\"/>\n",
       "</g>\n",
       "<!-- ossetup_module -->\n",
       "<g id=\"node3\" class=\"node\">\n",
       "<title>ossetup_module</title>\n",
       "<ellipse fill=\"none\" stroke=\"black\" cx=\"453.13\" cy=\"-18\" rx=\"71.31\" ry=\"18\"/>\n",
       "<text text-anchor=\"middle\" x=\"453.13\" y=\"-12.95\" font-family=\"Times,serif\" font-size=\"14.00\">ossetup_module</text>\n",
       "</g>\n",
       "<!-- randomsetup_module&#45;&gt;ossetup_module -->\n",
       "<g id=\"edge2\" class=\"edge\">\n",
       "<title>randomsetup_module&#45;&gt;ossetup_module</title>\n",
       "<path fill=\"none\" stroke=\"black\" d=\"M346.08,-18C354.26,-18 362.51,-18 370.61,-18\"/>\n",
       "<polygon fill=\"black\" stroke=\"black\" points=\"370.52,-21.5 380.52,-18 370.52,-14.5 370.52,-21.5\"/>\n",
       "</g>\n",
       "<!-- printsetup_module -->\n",
       "<g id=\"node4\" class=\"node\">\n",
       "<title>printsetup_module</title>\n",
       "<ellipse fill=\"none\" stroke=\"black\" cx=\"640.96\" cy=\"-18\" rx=\"80.52\" ry=\"18\"/>\n",
       "<text text-anchor=\"middle\" x=\"640.96\" y=\"-12.95\" font-family=\"Times,serif\" font-size=\"14.00\">printsetup_module</text>\n",
       "</g>\n",
       "<!-- ossetup_module&#45;&gt;printsetup_module -->\n",
       "<g id=\"edge3\" class=\"edge\">\n",
       "<title>ossetup_module&#45;&gt;printsetup_module</title>\n",
       "<path fill=\"none\" stroke=\"black\" d=\"M524.91,-18C532.9,-18 541.12,-18 549.32,-18\"/>\n",
       "<polygon fill=\"black\" stroke=\"black\" points=\"549.06,-21.5 559.06,-18 549.06,-14.5 549.06,-21.5\"/>\n",
       "</g>\n",
       "<!-- int -->\n",
       "<g id=\"node5\" class=\"node\">\n",
       "<title>int</title>\n",
       "<ellipse fill=\"none\" stroke=\"black\" cx=\"784.49\" cy=\"-18\" rx=\"27\" ry=\"18\"/>\n",
       "<text text-anchor=\"middle\" x=\"784.49\" y=\"-12.95\" font-family=\"Times,serif\" font-size=\"14.00\">int</text>\n",
       "</g>\n",
       "<!-- printsetup_module&#45;&gt;int -->\n",
       "<g id=\"edge4\" class=\"edge\">\n",
       "<title>printsetup_module&#45;&gt;int</title>\n",
       "<path fill=\"none\" stroke=\"black\" d=\"M721.82,-18C730.42,-18 738.83,-18 746.54,-18\"/>\n",
       "<polygon fill=\"black\" stroke=\"black\" points=\"746.28,-21.5 756.28,-18 746.28,-14.5 746.28,-21.5\"/>\n",
       "</g>\n",
       "</g>\n",
       "</svg>\n"
      ],
      "text/plain": [
       "<graphviz.graphs.Digraph at 0x1697be470>"
      ]
     },
     "execution_count": 20,
     "metadata": {},
     "output_type": "execute_result"
    }
   ],
   "source": [
    "from graphviz import Digraph\n",
    "\n",
    "Digraph(body=[\n",
    "  'rankdir=\"LR\"',\n",
    "  'setup_module -> random',\n",
    "  'setup_module -> os',\n",
    "  'setup_module -> print',\n",
    "  'setup_module -> int'])"
   ]
  },
  {
   "cell_type": "code",
   "execution_count": null,
   "id": "51edd0e3",
   "metadata": {},
   "outputs": [],
   "source": []
  }
 ],
 "metadata": {
  "kernelspec": {
   "display_name": "Python 3 (ipykernel)",
   "language": "python",
   "name": "python3"
  },
  "language_info": {
   "codemirror_mode": {
    "name": "ipython",
    "version": 3
   },
   "file_extension": ".py",
   "mimetype": "text/x-python",
   "name": "python",
   "nbconvert_exporter": "python",
   "pygments_lexer": "ipython3",
   "version": "3.10.8"
  },
  "toc": {
   "base_numbering": 1,
   "nav_menu": {},
   "number_sections": true,
   "sideBar": true,
   "skip_h1_title": false,
   "title_cell": "Table of Contents",
   "title_sidebar": "Contents",
   "toc_cell": false,
   "toc_position": {},
   "toc_section_display": true,
   "toc_window_display": false
  }
 },
 "nbformat": 4,
 "nbformat_minor": 5
}
